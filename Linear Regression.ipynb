{
 "nbformat": 4,
 "nbformat_minor": 0,
 "metadata": {
  "kernelspec": {
   "display_name": "Python 3",
   "language": "python",
   "name": "python3"
  },
  "language_info": {
   "codemirror_mode": {
    "name": "ipython",
    "version": 3
   },
   "file_extension": ".py",
   "mimetype": "text/x-python",
   "name": "python",
   "nbconvert_exporter": "python",
   "pygments_lexer": "ipython3",
   "version": "3.6.6"
  },
  "toc": {
   "base_numbering": 1,
   "nav_menu": {},
   "number_sections": true,
   "sideBar": true,
   "skip_h1_title": false,
   "title_cell": "Table of Contents",
   "title_sidebar": "Contents",
   "toc_cell": false,
   "toc_position": {
    "height": "calc(100% - 180px)",
    "left": "10px",
    "top": "150px",
    "width": "294.6px"
   },
   "toc_section_display": true,
   "toc_window_display": true
  },
  "colab": {
   "provenance": []
  },
  "widgets": {
   "application/vnd.jupyter.widget-state+json": {
    "7f5b3e7367b64779a112f03e01edf71e": {
     "model_module": "@jupyter-widgets/controls",
     "model_name": "HBoxModel",
     "state": {
      "_view_name": "HBoxView",
      "_dom_classes": [],
      "_model_name": "HBoxModel",
      "_view_module": "@jupyter-widgets/controls",
      "_model_module_version": "1.5.0",
      "_view_count": null,
      "_view_module_version": "1.5.0",
      "box_style": "",
      "layout": "IPY_MODEL_572bdf1c176e4e8db332eae5d7760886",
      "_model_module": "@jupyter-widgets/controls",
      "children": [
       "IPY_MODEL_0e3af21c2f60485dac7ae1ba49b3e605",
       "IPY_MODEL_2ac34fe13c7f4b4dbacd4fdd5b677123"
      ]
     },
     "model_module_version": "1.5.0"
    },
    "572bdf1c176e4e8db332eae5d7760886": {
     "model_module": "@jupyter-widgets/base",
     "model_name": "LayoutModel",
     "state": {
      "_view_name": "LayoutView",
      "grid_template_rows": null,
      "right": null,
      "justify_content": null,
      "_view_module": "@jupyter-widgets/base",
      "overflow": null,
      "_model_module_version": "1.2.0",
      "_view_count": null,
      "flex_flow": null,
      "width": null,
      "min_width": null,
      "border": null,
      "align_items": null,
      "bottom": null,
      "_model_module": "@jupyter-widgets/base",
      "top": null,
      "grid_column": null,
      "overflow_y": null,
      "overflow_x": null,
      "grid_auto_flow": null,
      "grid_area": null,
      "grid_template_columns": null,
      "flex": null,
      "_model_name": "LayoutModel",
      "justify_items": null,
      "grid_row": null,
      "max_height": null,
      "align_content": null,
      "visibility": null,
      "align_self": null,
      "height": null,
      "min_height": null,
      "padding": null,
      "grid_auto_rows": null,
      "grid_gap": null,
      "max_width": null,
      "order": null,
      "_view_module_version": "1.2.0",
      "grid_template_areas": null,
      "object_position": null,
      "object_fit": null,
      "grid_auto_columns": null,
      "margin": null,
      "display": null,
      "left": null
     },
     "model_module_version": "1.2.0"
    },
    "0e3af21c2f60485dac7ae1ba49b3e605": {
     "model_module": "@jupyter-widgets/controls",
     "model_name": "IntProgressModel",
     "state": {
      "_view_name": "ProgressView",
      "style": "IPY_MODEL_bd69815f3b6947f19b9b2fe4996d1501",
      "_dom_classes": [],
      "description": "100%",
      "_model_name": "IntProgressModel",
      "bar_style": "success",
      "max": 10000,
      "_view_module": "@jupyter-widgets/controls",
      "_model_module_version": "1.5.0",
      "value": 10000,
      "_view_count": null,
      "_view_module_version": "1.5.0",
      "orientation": "horizontal",
      "min": 0,
      "description_tooltip": null,
      "_model_module": "@jupyter-widgets/controls",
      "layout": "IPY_MODEL_1cef582b27ec44ef81932467e1c1e337"
     },
     "model_module_version": "1.5.0"
    },
    "2ac34fe13c7f4b4dbacd4fdd5b677123": {
     "model_module": "@jupyter-widgets/controls",
     "model_name": "HTMLModel",
     "state": {
      "_view_name": "HTMLView",
      "style": "IPY_MODEL_57ffe054993c4c5690a443f1a772d22d",
      "_dom_classes": [],
      "description": "",
      "_model_name": "HTMLModel",
      "placeholder": "​",
      "_view_module": "@jupyter-widgets/controls",
      "_model_module_version": "1.5.0",
      "value": " 10000/10000 [00:00&lt;00:00, 22092.56it/s]",
      "_view_count": null,
      "_view_module_version": "1.5.0",
      "description_tooltip": null,
      "_model_module": "@jupyter-widgets/controls",
      "layout": "IPY_MODEL_551f1a33e4154a1daad499c6ac15a172"
     },
     "model_module_version": "1.5.0"
    },
    "bd69815f3b6947f19b9b2fe4996d1501": {
     "model_module": "@jupyter-widgets/controls",
     "model_name": "ProgressStyleModel",
     "state": {
      "_view_name": "StyleView",
      "_model_name": "ProgressStyleModel",
      "description_width": "initial",
      "_view_module": "@jupyter-widgets/base",
      "_model_module_version": "1.5.0",
      "_view_count": null,
      "_view_module_version": "1.2.0",
      "bar_color": null,
      "_model_module": "@jupyter-widgets/controls"
     },
     "model_module_version": "1.5.0"
    },
    "1cef582b27ec44ef81932467e1c1e337": {
     "model_module": "@jupyter-widgets/base",
     "model_name": "LayoutModel",
     "state": {
      "_view_name": "LayoutView",
      "grid_template_rows": null,
      "right": null,
      "justify_content": null,
      "_view_module": "@jupyter-widgets/base",
      "overflow": null,
      "_model_module_version": "1.2.0",
      "_view_count": null,
      "flex_flow": null,
      "width": null,
      "min_width": null,
      "border": null,
      "align_items": null,
      "bottom": null,
      "_model_module": "@jupyter-widgets/base",
      "top": null,
      "grid_column": null,
      "overflow_y": null,
      "overflow_x": null,
      "grid_auto_flow": null,
      "grid_area": null,
      "grid_template_columns": null,
      "flex": null,
      "_model_name": "LayoutModel",
      "justify_items": null,
      "grid_row": null,
      "max_height": null,
      "align_content": null,
      "visibility": null,
      "align_self": null,
      "height": null,
      "min_height": null,
      "padding": null,
      "grid_auto_rows": null,
      "grid_gap": null,
      "max_width": null,
      "order": null,
      "_view_module_version": "1.2.0",
      "grid_template_areas": null,
      "object_position": null,
      "object_fit": null,
      "grid_auto_columns": null,
      "margin": null,
      "display": null,
      "left": null
     },
     "model_module_version": "1.2.0"
    },
    "57ffe054993c4c5690a443f1a772d22d": {
     "model_module": "@jupyter-widgets/controls",
     "model_name": "DescriptionStyleModel",
     "state": {
      "_view_name": "StyleView",
      "_model_name": "DescriptionStyleModel",
      "description_width": "",
      "_view_module": "@jupyter-widgets/base",
      "_model_module_version": "1.5.0",
      "_view_count": null,
      "_view_module_version": "1.2.0",
      "_model_module": "@jupyter-widgets/controls"
     },
     "model_module_version": "1.5.0"
    },
    "551f1a33e4154a1daad499c6ac15a172": {
     "model_module": "@jupyter-widgets/base",
     "model_name": "LayoutModel",
     "state": {
      "_view_name": "LayoutView",
      "grid_template_rows": null,
      "right": null,
      "justify_content": null,
      "_view_module": "@jupyter-widgets/base",
      "overflow": null,
      "_model_module_version": "1.2.0",
      "_view_count": null,
      "flex_flow": null,
      "width": null,
      "min_width": null,
      "border": null,
      "align_items": null,
      "bottom": null,
      "_model_module": "@jupyter-widgets/base",
      "top": null,
      "grid_column": null,
      "overflow_y": null,
      "overflow_x": null,
      "grid_auto_flow": null,
      "grid_area": null,
      "grid_template_columns": null,
      "flex": null,
      "_model_name": "LayoutModel",
      "justify_items": null,
      "grid_row": null,
      "max_height": null,
      "align_content": null,
      "visibility": null,
      "align_self": null,
      "height": null,
      "min_height": null,
      "padding": null,
      "grid_auto_rows": null,
      "grid_gap": null,
      "max_width": null,
      "order": null,
      "_view_module_version": "1.2.0",
      "grid_template_areas": null,
      "object_position": null,
      "object_fit": null,
      "grid_auto_columns": null,
      "margin": null,
      "display": null,
      "left": null
     },
     "model_module_version": "1.2.0"
    },
    "06dfe59bb24841f491f5c1a6cde2bdb7": {
     "model_module": "@jupyter-widgets/controls",
     "model_name": "HBoxModel",
     "state": {
      "_view_name": "HBoxView",
      "_dom_classes": [],
      "_model_name": "HBoxModel",
      "_view_module": "@jupyter-widgets/controls",
      "_model_module_version": "1.5.0",
      "_view_count": null,
      "_view_module_version": "1.5.0",
      "box_style": "",
      "layout": "IPY_MODEL_42576981867446cbbb0d3bcdc9477de1",
      "_model_module": "@jupyter-widgets/controls",
      "children": [
       "IPY_MODEL_c7ee2c01a2294c849a5e2fbbd6bd764d",
       "IPY_MODEL_52eb22ae07ce46229e4f3549a0a46b6f"
      ]
     },
     "model_module_version": "1.5.0"
    },
    "42576981867446cbbb0d3bcdc9477de1": {
     "model_module": "@jupyter-widgets/base",
     "model_name": "LayoutModel",
     "state": {
      "_view_name": "LayoutView",
      "grid_template_rows": null,
      "right": null,
      "justify_content": null,
      "_view_module": "@jupyter-widgets/base",
      "overflow": null,
      "_model_module_version": "1.2.0",
      "_view_count": null,
      "flex_flow": null,
      "width": null,
      "min_width": null,
      "border": null,
      "align_items": null,
      "bottom": null,
      "_model_module": "@jupyter-widgets/base",
      "top": null,
      "grid_column": null,
      "overflow_y": null,
      "overflow_x": null,
      "grid_auto_flow": null,
      "grid_area": null,
      "grid_template_columns": null,
      "flex": null,
      "_model_name": "LayoutModel",
      "justify_items": null,
      "grid_row": null,
      "max_height": null,
      "align_content": null,
      "visibility": null,
      "align_self": null,
      "height": null,
      "min_height": null,
      "padding": null,
      "grid_auto_rows": null,
      "grid_gap": null,
      "max_width": null,
      "order": null,
      "_view_module_version": "1.2.0",
      "grid_template_areas": null,
      "object_position": null,
      "object_fit": null,
      "grid_auto_columns": null,
      "margin": null,
      "display": null,
      "left": null
     },
     "model_module_version": "1.2.0"
    },
    "c7ee2c01a2294c849a5e2fbbd6bd764d": {
     "model_module": "@jupyter-widgets/controls",
     "model_name": "IntProgressModel",
     "state": {
      "_view_name": "ProgressView",
      "style": "IPY_MODEL_9ad119c3a9b9419b90d37b4cc8169982",
      "_dom_classes": [],
      "description": "100%",
      "_model_name": "IntProgressModel",
      "bar_style": "success",
      "max": 10000,
      "_view_module": "@jupyter-widgets/controls",
      "_model_module_version": "1.5.0",
      "value": 10000,
      "_view_count": null,
      "_view_module_version": "1.5.0",
      "orientation": "horizontal",
      "min": 0,
      "description_tooltip": null,
      "_model_module": "@jupyter-widgets/controls",
      "layout": "IPY_MODEL_f6bd9dc6fa3b4460849b5da989febacb"
     },
     "model_module_version": "1.5.0"
    },
    "52eb22ae07ce46229e4f3549a0a46b6f": {
     "model_module": "@jupyter-widgets/controls",
     "model_name": "HTMLModel",
     "state": {
      "_view_name": "HTMLView",
      "style": "IPY_MODEL_16d2b3586b9e4340a56936aa28936bd6",
      "_dom_classes": [],
      "description": "",
      "_model_name": "HTMLModel",
      "placeholder": "​",
      "_view_module": "@jupyter-widgets/controls",
      "_model_module_version": "1.5.0",
      "value": " 10000/10000 [00:00&lt;00:00, 22838.67it/s]",
      "_view_count": null,
      "_view_module_version": "1.5.0",
      "description_tooltip": null,
      "_model_module": "@jupyter-widgets/controls",
      "layout": "IPY_MODEL_6eb776e958f640b18159b508d8ba7e4a"
     },
     "model_module_version": "1.5.0"
    },
    "9ad119c3a9b9419b90d37b4cc8169982": {
     "model_module": "@jupyter-widgets/controls",
     "model_name": "ProgressStyleModel",
     "state": {
      "_view_name": "StyleView",
      "_model_name": "ProgressStyleModel",
      "description_width": "initial",
      "_view_module": "@jupyter-widgets/base",
      "_model_module_version": "1.5.0",
      "_view_count": null,
      "_view_module_version": "1.2.0",
      "bar_color": null,
      "_model_module": "@jupyter-widgets/controls"
     },
     "model_module_version": "1.5.0"
    },
    "f6bd9dc6fa3b4460849b5da989febacb": {
     "model_module": "@jupyter-widgets/base",
     "model_name": "LayoutModel",
     "state": {
      "_view_name": "LayoutView",
      "grid_template_rows": null,
      "right": null,
      "justify_content": null,
      "_view_module": "@jupyter-widgets/base",
      "overflow": null,
      "_model_module_version": "1.2.0",
      "_view_count": null,
      "flex_flow": null,
      "width": null,
      "min_width": null,
      "border": null,
      "align_items": null,
      "bottom": null,
      "_model_module": "@jupyter-widgets/base",
      "top": null,
      "grid_column": null,
      "overflow_y": null,
      "overflow_x": null,
      "grid_auto_flow": null,
      "grid_area": null,
      "grid_template_columns": null,
      "flex": null,
      "_model_name": "LayoutModel",
      "justify_items": null,
      "grid_row": null,
      "max_height": null,
      "align_content": null,
      "visibility": null,
      "align_self": null,
      "height": null,
      "min_height": null,
      "padding": null,
      "grid_auto_rows": null,
      "grid_gap": null,
      "max_width": null,
      "order": null,
      "_view_module_version": "1.2.0",
      "grid_template_areas": null,
      "object_position": null,
      "object_fit": null,
      "grid_auto_columns": null,
      "margin": null,
      "display": null,
      "left": null
     },
     "model_module_version": "1.2.0"
    },
    "16d2b3586b9e4340a56936aa28936bd6": {
     "model_module": "@jupyter-widgets/controls",
     "model_name": "DescriptionStyleModel",
     "state": {
      "_view_name": "StyleView",
      "_model_name": "DescriptionStyleModel",
      "description_width": "",
      "_view_module": "@jupyter-widgets/base",
      "_model_module_version": "1.5.0",
      "_view_count": null,
      "_view_module_version": "1.2.0",
      "_model_module": "@jupyter-widgets/controls"
     },
     "model_module_version": "1.5.0"
    },
    "6eb776e958f640b18159b508d8ba7e4a": {
     "model_module": "@jupyter-widgets/base",
     "model_name": "LayoutModel",
     "state": {
      "_view_name": "LayoutView",
      "grid_template_rows": null,
      "right": null,
      "justify_content": null,
      "_view_module": "@jupyter-widgets/base",
      "overflow": null,
      "_model_module_version": "1.2.0",
      "_view_count": null,
      "flex_flow": null,
      "width": null,
      "min_width": null,
      "border": null,
      "align_items": null,
      "bottom": null,
      "_model_module": "@jupyter-widgets/base",
      "top": null,
      "grid_column": null,
      "overflow_y": null,
      "overflow_x": null,
      "grid_auto_flow": null,
      "grid_area": null,
      "grid_template_columns": null,
      "flex": null,
      "_model_name": "LayoutModel",
      "justify_items": null,
      "grid_row": null,
      "max_height": null,
      "align_content": null,
      "visibility": null,
      "align_self": null,
      "height": null,
      "min_height": null,
      "padding": null,
      "grid_auto_rows": null,
      "grid_gap": null,
      "max_width": null,
      "order": null,
      "_view_module_version": "1.2.0",
      "grid_template_areas": null,
      "object_position": null,
      "object_fit": null,
      "grid_auto_columns": null,
      "margin": null,
      "display": null,
      "left": null
     },
     "model_module_version": "1.2.0"
    },
    "27ba1cf038264537bdefcd7bf8cf2646": {
     "model_module": "@jupyter-widgets/controls",
     "model_name": "HBoxModel",
     "state": {
      "_view_name": "HBoxView",
      "_dom_classes": [],
      "_model_name": "HBoxModel",
      "_view_module": "@jupyter-widgets/controls",
      "_model_module_version": "1.5.0",
      "_view_count": null,
      "_view_module_version": "1.5.0",
      "box_style": "",
      "layout": "IPY_MODEL_b42f9790649b4e979975b16933b09871",
      "_model_module": "@jupyter-widgets/controls",
      "children": [
       "IPY_MODEL_bf92d722583b4aeeaed37778574a89ef",
       "IPY_MODEL_dce211bf6cd249b8ad35dca55b1e03da"
      ]
     },
     "model_module_version": "1.5.0"
    },
    "b42f9790649b4e979975b16933b09871": {
     "model_module": "@jupyter-widgets/base",
     "model_name": "LayoutModel",
     "state": {
      "_view_name": "LayoutView",
      "grid_template_rows": null,
      "right": null,
      "justify_content": null,
      "_view_module": "@jupyter-widgets/base",
      "overflow": null,
      "_model_module_version": "1.2.0",
      "_view_count": null,
      "flex_flow": null,
      "width": null,
      "min_width": null,
      "border": null,
      "align_items": null,
      "bottom": null,
      "_model_module": "@jupyter-widgets/base",
      "top": null,
      "grid_column": null,
      "overflow_y": null,
      "overflow_x": null,
      "grid_auto_flow": null,
      "grid_area": null,
      "grid_template_columns": null,
      "flex": null,
      "_model_name": "LayoutModel",
      "justify_items": null,
      "grid_row": null,
      "max_height": null,
      "align_content": null,
      "visibility": null,
      "align_self": null,
      "height": null,
      "min_height": null,
      "padding": null,
      "grid_auto_rows": null,
      "grid_gap": null,
      "max_width": null,
      "order": null,
      "_view_module_version": "1.2.0",
      "grid_template_areas": null,
      "object_position": null,
      "object_fit": null,
      "grid_auto_columns": null,
      "margin": null,
      "display": null,
      "left": null
     },
     "model_module_version": "1.2.0"
    },
    "bf92d722583b4aeeaed37778574a89ef": {
     "model_module": "@jupyter-widgets/controls",
     "model_name": "IntProgressModel",
     "state": {
      "_view_name": "ProgressView",
      "style": "IPY_MODEL_0ead02aca1a24f668d4ca5708a8bb679",
      "_dom_classes": [],
      "description": "100%",
      "_model_name": "IntProgressModel",
      "bar_style": "success",
      "max": 10000,
      "_view_module": "@jupyter-widgets/controls",
      "_model_module_version": "1.5.0",
      "value": 10000,
      "_view_count": null,
      "_view_module_version": "1.5.0",
      "orientation": "horizontal",
      "min": 0,
      "description_tooltip": null,
      "_model_module": "@jupyter-widgets/controls",
      "layout": "IPY_MODEL_0a61290be9584285bfe86e2da29cc3be"
     },
     "model_module_version": "1.5.0"
    },
    "dce211bf6cd249b8ad35dca55b1e03da": {
     "model_module": "@jupyter-widgets/controls",
     "model_name": "HTMLModel",
     "state": {
      "_view_name": "HTMLView",
      "style": "IPY_MODEL_523069b0a86048898ca2b725932aaa70",
      "_dom_classes": [],
      "description": "",
      "_model_name": "HTMLModel",
      "placeholder": "​",
      "_view_module": "@jupyter-widgets/controls",
      "_model_module_version": "1.5.0",
      "value": " 10000/10000 [00:00&lt;00:00, 10363.79it/s]",
      "_view_count": null,
      "_view_module_version": "1.5.0",
      "description_tooltip": null,
      "_model_module": "@jupyter-widgets/controls",
      "layout": "IPY_MODEL_683dc447c49345159455eadea186fc42"
     },
     "model_module_version": "1.5.0"
    },
    "0ead02aca1a24f668d4ca5708a8bb679": {
     "model_module": "@jupyter-widgets/controls",
     "model_name": "ProgressStyleModel",
     "state": {
      "_view_name": "StyleView",
      "_model_name": "ProgressStyleModel",
      "description_width": "initial",
      "_view_module": "@jupyter-widgets/base",
      "_model_module_version": "1.5.0",
      "_view_count": null,
      "_view_module_version": "1.2.0",
      "bar_color": null,
      "_model_module": "@jupyter-widgets/controls"
     },
     "model_module_version": "1.5.0"
    },
    "0a61290be9584285bfe86e2da29cc3be": {
     "model_module": "@jupyter-widgets/base",
     "model_name": "LayoutModel",
     "state": {
      "_view_name": "LayoutView",
      "grid_template_rows": null,
      "right": null,
      "justify_content": null,
      "_view_module": "@jupyter-widgets/base",
      "overflow": null,
      "_model_module_version": "1.2.0",
      "_view_count": null,
      "flex_flow": null,
      "width": null,
      "min_width": null,
      "border": null,
      "align_items": null,
      "bottom": null,
      "_model_module": "@jupyter-widgets/base",
      "top": null,
      "grid_column": null,
      "overflow_y": null,
      "overflow_x": null,
      "grid_auto_flow": null,
      "grid_area": null,
      "grid_template_columns": null,
      "flex": null,
      "_model_name": "LayoutModel",
      "justify_items": null,
      "grid_row": null,
      "max_height": null,
      "align_content": null,
      "visibility": null,
      "align_self": null,
      "height": null,
      "min_height": null,
      "padding": null,
      "grid_auto_rows": null,
      "grid_gap": null,
      "max_width": null,
      "order": null,
      "_view_module_version": "1.2.0",
      "grid_template_areas": null,
      "object_position": null,
      "object_fit": null,
      "grid_auto_columns": null,
      "margin": null,
      "display": null,
      "left": null
     },
     "model_module_version": "1.2.0"
    },
    "523069b0a86048898ca2b725932aaa70": {
     "model_module": "@jupyter-widgets/controls",
     "model_name": "DescriptionStyleModel",
     "state": {
      "_view_name": "StyleView",
      "_model_name": "DescriptionStyleModel",
      "description_width": "",
      "_view_module": "@jupyter-widgets/base",
      "_model_module_version": "1.5.0",
      "_view_count": null,
      "_view_module_version": "1.2.0",
      "_model_module": "@jupyter-widgets/controls"
     },
     "model_module_version": "1.5.0"
    },
    "683dc447c49345159455eadea186fc42": {
     "model_module": "@jupyter-widgets/base",
     "model_name": "LayoutModel",
     "state": {
      "_view_name": "LayoutView",
      "grid_template_rows": null,
      "right": null,
      "justify_content": null,
      "_view_module": "@jupyter-widgets/base",
      "overflow": null,
      "_model_module_version": "1.2.0",
      "_view_count": null,
      "flex_flow": null,
      "width": null,
      "min_width": null,
      "border": null,
      "align_items": null,
      "bottom": null,
      "_model_module": "@jupyter-widgets/base",
      "top": null,
      "grid_column": null,
      "overflow_y": null,
      "overflow_x": null,
      "grid_auto_flow": null,
      "grid_area": null,
      "grid_template_columns": null,
      "flex": null,
      "_model_name": "LayoutModel",
      "justify_items": null,
      "grid_row": null,
      "max_height": null,
      "align_content": null,
      "visibility": null,
      "align_self": null,
      "height": null,
      "min_height": null,
      "padding": null,
      "grid_auto_rows": null,
      "grid_gap": null,
      "max_width": null,
      "order": null,
      "_view_module_version": "1.2.0",
      "grid_template_areas": null,
      "object_position": null,
      "object_fit": null,
      "grid_auto_columns": null,
      "margin": null,
      "display": null,
      "left": null
     },
     "model_module_version": "1.2.0"
    },
    "100c2c298c394d63a7c6bf38365da624": {
     "model_module": "@jupyter-widgets/controls",
     "model_name": "HBoxModel",
     "state": {
      "_view_name": "HBoxView",
      "_dom_classes": [],
      "_model_name": "HBoxModel",
      "_view_module": "@jupyter-widgets/controls",
      "_model_module_version": "1.5.0",
      "_view_count": null,
      "_view_module_version": "1.5.0",
      "box_style": "",
      "layout": "IPY_MODEL_41d3da88749d468aab0296f14ae1673b",
      "_model_module": "@jupyter-widgets/controls",
      "children": [
       "IPY_MODEL_4d08b4bf6fff4966bd3829f6301af20b",
       "IPY_MODEL_6e07af65d154494a98c561c82ff016ea"
      ]
     },
     "model_module_version": "1.5.0"
    },
    "41d3da88749d468aab0296f14ae1673b": {
     "model_module": "@jupyter-widgets/base",
     "model_name": "LayoutModel",
     "state": {
      "_view_name": "LayoutView",
      "grid_template_rows": null,
      "right": null,
      "justify_content": null,
      "_view_module": "@jupyter-widgets/base",
      "overflow": null,
      "_model_module_version": "1.2.0",
      "_view_count": null,
      "flex_flow": null,
      "width": null,
      "min_width": null,
      "border": null,
      "align_items": null,
      "bottom": null,
      "_model_module": "@jupyter-widgets/base",
      "top": null,
      "grid_column": null,
      "overflow_y": null,
      "overflow_x": null,
      "grid_auto_flow": null,
      "grid_area": null,
      "grid_template_columns": null,
      "flex": null,
      "_model_name": "LayoutModel",
      "justify_items": null,
      "grid_row": null,
      "max_height": null,
      "align_content": null,
      "visibility": null,
      "align_self": null,
      "height": null,
      "min_height": null,
      "padding": null,
      "grid_auto_rows": null,
      "grid_gap": null,
      "max_width": null,
      "order": null,
      "_view_module_version": "1.2.0",
      "grid_template_areas": null,
      "object_position": null,
      "object_fit": null,
      "grid_auto_columns": null,
      "margin": null,
      "display": null,
      "left": null
     },
     "model_module_version": "1.2.0"
    },
    "4d08b4bf6fff4966bd3829f6301af20b": {
     "model_module": "@jupyter-widgets/controls",
     "model_name": "IntProgressModel",
     "state": {
      "_view_name": "ProgressView",
      "style": "IPY_MODEL_9083acd1f70e463fada71c18db14c919",
      "_dom_classes": [],
      "description": "100%",
      "_model_name": "IntProgressModel",
      "bar_style": "success",
      "max": 10000,
      "_view_module": "@jupyter-widgets/controls",
      "_model_module_version": "1.5.0",
      "value": 10000,
      "_view_count": null,
      "_view_module_version": "1.5.0",
      "orientation": "horizontal",
      "min": 0,
      "description_tooltip": null,
      "_model_module": "@jupyter-widgets/controls",
      "layout": "IPY_MODEL_c81ca44833084e2dbdec8cfc2f3d8f24"
     },
     "model_module_version": "1.5.0"
    },
    "6e07af65d154494a98c561c82ff016ea": {
     "model_module": "@jupyter-widgets/controls",
     "model_name": "HTMLModel",
     "state": {
      "_view_name": "HTMLView",
      "style": "IPY_MODEL_eb3c27c122ee4d5a8ac91ff9c23b39e5",
      "_dom_classes": [],
      "description": "",
      "_model_name": "HTMLModel",
      "placeholder": "​",
      "_view_module": "@jupyter-widgets/controls",
      "_model_module_version": "1.5.0",
      "value": " 10000/10000 [00:00&lt;00:00, 18234.62it/s]",
      "_view_count": null,
      "_view_module_version": "1.5.0",
      "description_tooltip": null,
      "_model_module": "@jupyter-widgets/controls",
      "layout": "IPY_MODEL_c16099d5236e4ad7819ec4907e9e6885"
     },
     "model_module_version": "1.5.0"
    },
    "9083acd1f70e463fada71c18db14c919": {
     "model_module": "@jupyter-widgets/controls",
     "model_name": "ProgressStyleModel",
     "state": {
      "_view_name": "StyleView",
      "_model_name": "ProgressStyleModel",
      "description_width": "initial",
      "_view_module": "@jupyter-widgets/base",
      "_model_module_version": "1.5.0",
      "_view_count": null,
      "_view_module_version": "1.2.0",
      "bar_color": null,
      "_model_module": "@jupyter-widgets/controls"
     },
     "model_module_version": "1.5.0"
    },
    "c81ca44833084e2dbdec8cfc2f3d8f24": {
     "model_module": "@jupyter-widgets/base",
     "model_name": "LayoutModel",
     "state": {
      "_view_name": "LayoutView",
      "grid_template_rows": null,
      "right": null,
      "justify_content": null,
      "_view_module": "@jupyter-widgets/base",
      "overflow": null,
      "_model_module_version": "1.2.0",
      "_view_count": null,
      "flex_flow": null,
      "width": null,
      "min_width": null,
      "border": null,
      "align_items": null,
      "bottom": null,
      "_model_module": "@jupyter-widgets/base",
      "top": null,
      "grid_column": null,
      "overflow_y": null,
      "overflow_x": null,
      "grid_auto_flow": null,
      "grid_area": null,
      "grid_template_columns": null,
      "flex": null,
      "_model_name": "LayoutModel",
      "justify_items": null,
      "grid_row": null,
      "max_height": null,
      "align_content": null,
      "visibility": null,
      "align_self": null,
      "height": null,
      "min_height": null,
      "padding": null,
      "grid_auto_rows": null,
      "grid_gap": null,
      "max_width": null,
      "order": null,
      "_view_module_version": "1.2.0",
      "grid_template_areas": null,
      "object_position": null,
      "object_fit": null,
      "grid_auto_columns": null,
      "margin": null,
      "display": null,
      "left": null
     },
     "model_module_version": "1.2.0"
    },
    "eb3c27c122ee4d5a8ac91ff9c23b39e5": {
     "model_module": "@jupyter-widgets/controls",
     "model_name": "DescriptionStyleModel",
     "state": {
      "_view_name": "StyleView",
      "_model_name": "DescriptionStyleModel",
      "description_width": "",
      "_view_module": "@jupyter-widgets/base",
      "_model_module_version": "1.5.0",
      "_view_count": null,
      "_view_module_version": "1.2.0",
      "_model_module": "@jupyter-widgets/controls"
     },
     "model_module_version": "1.5.0"
    },
    "c16099d5236e4ad7819ec4907e9e6885": {
     "model_module": "@jupyter-widgets/base",
     "model_name": "LayoutModel",
     "state": {
      "_view_name": "LayoutView",
      "grid_template_rows": null,
      "right": null,
      "justify_content": null,
      "_view_module": "@jupyter-widgets/base",
      "overflow": null,
      "_model_module_version": "1.2.0",
      "_view_count": null,
      "flex_flow": null,
      "width": null,
      "min_width": null,
      "border": null,
      "align_items": null,
      "bottom": null,
      "_model_module": "@jupyter-widgets/base",
      "top": null,
      "grid_column": null,
      "overflow_y": null,
      "overflow_x": null,
      "grid_auto_flow": null,
      "grid_area": null,
      "grid_template_columns": null,
      "flex": null,
      "_model_name": "LayoutModel",
      "justify_items": null,
      "grid_row": null,
      "max_height": null,
      "align_content": null,
      "visibility": null,
      "align_self": null,
      "height": null,
      "min_height": null,
      "padding": null,
      "grid_auto_rows": null,
      "grid_gap": null,
      "max_width": null,
      "order": null,
      "_view_module_version": "1.2.0",
      "grid_template_areas": null,
      "object_position": null,
      "object_fit": null,
      "grid_auto_columns": null,
      "margin": null,
      "display": null,
      "left": null
     },
     "model_module_version": "1.2.0"
    },
    "b1e49668fd234fd795eac766307dfd29": {
     "model_module": "@jupyter-widgets/controls",
     "model_name": "HBoxModel",
     "state": {
      "_view_name": "HBoxView",
      "_dom_classes": [],
      "_model_name": "HBoxModel",
      "_view_module": "@jupyter-widgets/controls",
      "_model_module_version": "1.5.0",
      "_view_count": null,
      "_view_module_version": "1.5.0",
      "box_style": "",
      "layout": "IPY_MODEL_de5269114bc547eda77d1de726705472",
      "_model_module": "@jupyter-widgets/controls",
      "children": [
       "IPY_MODEL_6db4f5755bea464798f4d8596d5abecf",
       "IPY_MODEL_bb90bad4808e427e964b7031c021f41e"
      ]
     },
     "model_module_version": "1.5.0"
    },
    "de5269114bc547eda77d1de726705472": {
     "model_module": "@jupyter-widgets/base",
     "model_name": "LayoutModel",
     "state": {
      "_view_name": "LayoutView",
      "grid_template_rows": null,
      "right": null,
      "justify_content": null,
      "_view_module": "@jupyter-widgets/base",
      "overflow": null,
      "_model_module_version": "1.2.0",
      "_view_count": null,
      "flex_flow": null,
      "width": null,
      "min_width": null,
      "border": null,
      "align_items": null,
      "bottom": null,
      "_model_module": "@jupyter-widgets/base",
      "top": null,
      "grid_column": null,
      "overflow_y": null,
      "overflow_x": null,
      "grid_auto_flow": null,
      "grid_area": null,
      "grid_template_columns": null,
      "flex": null,
      "_model_name": "LayoutModel",
      "justify_items": null,
      "grid_row": null,
      "max_height": null,
      "align_content": null,
      "visibility": null,
      "align_self": null,
      "height": null,
      "min_height": null,
      "padding": null,
      "grid_auto_rows": null,
      "grid_gap": null,
      "max_width": null,
      "order": null,
      "_view_module_version": "1.2.0",
      "grid_template_areas": null,
      "object_position": null,
      "object_fit": null,
      "grid_auto_columns": null,
      "margin": null,
      "display": null,
      "left": null
     },
     "model_module_version": "1.2.0"
    },
    "6db4f5755bea464798f4d8596d5abecf": {
     "model_module": "@jupyter-widgets/controls",
     "model_name": "IntProgressModel",
     "state": {
      "_view_name": "ProgressView",
      "style": "IPY_MODEL_254011ba50d54983b31400fa8458669e",
      "_dom_classes": [],
      "description": "100%",
      "_model_name": "IntProgressModel",
      "bar_style": "success",
      "max": 10000,
      "_view_module": "@jupyter-widgets/controls",
      "_model_module_version": "1.5.0",
      "value": 10000,
      "_view_count": null,
      "_view_module_version": "1.5.0",
      "orientation": "horizontal",
      "min": 0,
      "description_tooltip": null,
      "_model_module": "@jupyter-widgets/controls",
      "layout": "IPY_MODEL_2cfd7b5745d24edcb913a2ed22e0b10b"
     },
     "model_module_version": "1.5.0"
    },
    "bb90bad4808e427e964b7031c021f41e": {
     "model_module": "@jupyter-widgets/controls",
     "model_name": "HTMLModel",
     "state": {
      "_view_name": "HTMLView",
      "style": "IPY_MODEL_212b6e7ace4c47c68bd04fed4aa605b1",
      "_dom_classes": [],
      "description": "",
      "_model_name": "HTMLModel",
      "placeholder": "​",
      "_view_module": "@jupyter-widgets/controls",
      "_model_module_version": "1.5.0",
      "value": " 10000/10000 [00:03&lt;00:00, 2712.45it/s]",
      "_view_count": null,
      "_view_module_version": "1.5.0",
      "description_tooltip": null,
      "_model_module": "@jupyter-widgets/controls",
      "layout": "IPY_MODEL_31eddb7ad2df41c08b2082c406882fbe"
     },
     "model_module_version": "1.5.0"
    },
    "254011ba50d54983b31400fa8458669e": {
     "model_module": "@jupyter-widgets/controls",
     "model_name": "ProgressStyleModel",
     "state": {
      "_view_name": "StyleView",
      "_model_name": "ProgressStyleModel",
      "description_width": "initial",
      "_view_module": "@jupyter-widgets/base",
      "_model_module_version": "1.5.0",
      "_view_count": null,
      "_view_module_version": "1.2.0",
      "bar_color": null,
      "_model_module": "@jupyter-widgets/controls"
     },
     "model_module_version": "1.5.0"
    },
    "2cfd7b5745d24edcb913a2ed22e0b10b": {
     "model_module": "@jupyter-widgets/base",
     "model_name": "LayoutModel",
     "state": {
      "_view_name": "LayoutView",
      "grid_template_rows": null,
      "right": null,
      "justify_content": null,
      "_view_module": "@jupyter-widgets/base",
      "overflow": null,
      "_model_module_version": "1.2.0",
      "_view_count": null,
      "flex_flow": null,
      "width": null,
      "min_width": null,
      "border": null,
      "align_items": null,
      "bottom": null,
      "_model_module": "@jupyter-widgets/base",
      "top": null,
      "grid_column": null,
      "overflow_y": null,
      "overflow_x": null,
      "grid_auto_flow": null,
      "grid_area": null,
      "grid_template_columns": null,
      "flex": null,
      "_model_name": "LayoutModel",
      "justify_items": null,
      "grid_row": null,
      "max_height": null,
      "align_content": null,
      "visibility": null,
      "align_self": null,
      "height": null,
      "min_height": null,
      "padding": null,
      "grid_auto_rows": null,
      "grid_gap": null,
      "max_width": null,
      "order": null,
      "_view_module_version": "1.2.0",
      "grid_template_areas": null,
      "object_position": null,
      "object_fit": null,
      "grid_auto_columns": null,
      "margin": null,
      "display": null,
      "left": null
     },
     "model_module_version": "1.2.0"
    },
    "212b6e7ace4c47c68bd04fed4aa605b1": {
     "model_module": "@jupyter-widgets/controls",
     "model_name": "DescriptionStyleModel",
     "state": {
      "_view_name": "StyleView",
      "_model_name": "DescriptionStyleModel",
      "description_width": "",
      "_view_module": "@jupyter-widgets/base",
      "_model_module_version": "1.5.0",
      "_view_count": null,
      "_view_module_version": "1.2.0",
      "_model_module": "@jupyter-widgets/controls"
     },
     "model_module_version": "1.5.0"
    },
    "31eddb7ad2df41c08b2082c406882fbe": {
     "model_module": "@jupyter-widgets/base",
     "model_name": "LayoutModel",
     "state": {
      "_view_name": "LayoutView",
      "grid_template_rows": null,
      "right": null,
      "justify_content": null,
      "_view_module": "@jupyter-widgets/base",
      "overflow": null,
      "_model_module_version": "1.2.0",
      "_view_count": null,
      "flex_flow": null,
      "width": null,
      "min_width": null,
      "border": null,
      "align_items": null,
      "bottom": null,
      "_model_module": "@jupyter-widgets/base",
      "top": null,
      "grid_column": null,
      "overflow_y": null,
      "overflow_x": null,
      "grid_auto_flow": null,
      "grid_area": null,
      "grid_template_columns": null,
      "flex": null,
      "_model_name": "LayoutModel",
      "justify_items": null,
      "grid_row": null,
      "max_height": null,
      "align_content": null,
      "visibility": null,
      "align_self": null,
      "height": null,
      "min_height": null,
      "padding": null,
      "grid_auto_rows": null,
      "grid_gap": null,
      "max_width": null,
      "order": null,
      "_view_module_version": "1.2.0",
      "grid_template_areas": null,
      "object_position": null,
      "object_fit": null,
      "grid_auto_columns": null,
      "margin": null,
      "display": null,
      "left": null
     },
     "model_module_version": "1.2.0"
    },
    "b2d2bad749244a1cb3071ce762b6867e": {
     "model_module": "plotlywidget",
     "model_name": "FigureModel",
     "state": {
      "_view_name": "FigureView",
      "_py2js_animate": {},
      "_py2js_removeLayoutProps": {},
      "_last_trace_edit_id": 20,
      "_view_module": "plotlywidget",
      "_model_module_version": "^1.4.0",
      "_view_count": 0,
      "_js2py_relayout": {},
      "_py2js_moveTraces": {},
      "_py2js_addTraces": {},
      "_model_module": "plotlywidget",
      "_py2js_relayout": null,
      "_js2py_pointsCallback": {},
      "_js2py_update": {},
      "_js2py_restyle": {},
      "_py2js_removeTraceProps": {},
      "_py2js_deleteTraces": {},
      "_dom_classes": [],
      "_model_name": "FigureModel",
      "_layout": {
       "width": 600,
       "height": 400
      },
      "_js2py_layoutDelta": {},
      "_py2js_update": null,
      "_data": [
       {
        "y": [],
        "x": [],
        "type": "scatter",
        "name": "Train",
        "uid": "39e5084d-a2ea-4d82-8a58-414de224657b"
       },
       {
        "y": [],
        "x": [],
        "type": "scatter",
        "name": "Validation",
        "uid": "bcba6ec8-302b-411d-8bc8-811e292f4717"
       }
      ],
      "_config": {
       "plotlyServerURL": "https://plot.ly"
      },
      "_py2js_restyle": {},
      "_view_module_version": "^1.4.0",
      "_last_layout_edit_id": 21,
      "_js2py_traceDeltas": {}
     },
     "model_module_version": "^1.4.0"
    },
    "406e9775e63b4d1fbd64c5960212b7bd": {
     "model_module": "@jupyter-widgets/controls",
     "model_name": "HBoxModel",
     "model_module_version": "1.5.0",
     "state": {
      "_dom_classes": [],
      "_model_module": "@jupyter-widgets/controls",
      "_model_module_version": "1.5.0",
      "_model_name": "HBoxModel",
      "_view_count": null,
      "_view_module": "@jupyter-widgets/controls",
      "_view_module_version": "1.5.0",
      "_view_name": "HBoxView",
      "box_style": "",
      "children": [
       "IPY_MODEL_2cbf52c95a43452791408ead34e78e37",
       "IPY_MODEL_9750bf7ea40542228bb641b1a81f2964",
       "IPY_MODEL_ffc9cac2de7e4c4189a0ae5442f08ecd"
      ],
      "layout": "IPY_MODEL_282986e7e08b4ed795d1b6ed6a31d51a"
     }
    },
    "2cbf52c95a43452791408ead34e78e37": {
     "model_module": "@jupyter-widgets/controls",
     "model_name": "HTMLModel",
     "model_module_version": "1.5.0",
     "state": {
      "_dom_classes": [],
      "_model_module": "@jupyter-widgets/controls",
      "_model_module_version": "1.5.0",
      "_model_name": "HTMLModel",
      "_view_count": null,
      "_view_module": "@jupyter-widgets/controls",
      "_view_module_version": "1.5.0",
      "_view_name": "HTMLView",
      "description": "",
      "description_tooltip": null,
      "layout": "IPY_MODEL_683233175a75494c821487fce4447581",
      "placeholder": "​",
      "style": "IPY_MODEL_050a8d49916d4c0cb61834b2206ce161",
      "value": "100%"
     }
    },
    "9750bf7ea40542228bb641b1a81f2964": {
     "model_module": "@jupyter-widgets/controls",
     "model_name": "FloatProgressModel",
     "model_module_version": "1.5.0",
     "state": {
      "_dom_classes": [],
      "_model_module": "@jupyter-widgets/controls",
      "_model_module_version": "1.5.0",
      "_model_name": "FloatProgressModel",
      "_view_count": null,
      "_view_module": "@jupyter-widgets/controls",
      "_view_module_version": "1.5.0",
      "_view_name": "ProgressView",
      "bar_style": "success",
      "description": "",
      "description_tooltip": null,
      "layout": "IPY_MODEL_91980ad925f24dbfa599f007b853e01e",
      "max": 50,
      "min": 0,
      "orientation": "horizontal",
      "style": "IPY_MODEL_3313732f87fc4eaf8896a18315e2790d",
      "value": 50
     }
    },
    "ffc9cac2de7e4c4189a0ae5442f08ecd": {
     "model_module": "@jupyter-widgets/controls",
     "model_name": "HTMLModel",
     "model_module_version": "1.5.0",
     "state": {
      "_dom_classes": [],
      "_model_module": "@jupyter-widgets/controls",
      "_model_module_version": "1.5.0",
      "_model_name": "HTMLModel",
      "_view_count": null,
      "_view_module": "@jupyter-widgets/controls",
      "_view_module_version": "1.5.0",
      "_view_name": "HTMLView",
      "description": "",
      "description_tooltip": null,
      "layout": "IPY_MODEL_0e81299068ee4e038cd3a802bec75c34",
      "placeholder": "​",
      "style": "IPY_MODEL_ffd667d33c1e4c5c94947f89a9b93def",
      "value": " 50/50 [00:00&lt;00:00, 516.58it/s]"
     }
    },
    "282986e7e08b4ed795d1b6ed6a31d51a": {
     "model_module": "@jupyter-widgets/base",
     "model_name": "LayoutModel",
     "model_module_version": "1.2.0",
     "state": {
      "_model_module": "@jupyter-widgets/base",
      "_model_module_version": "1.2.0",
      "_model_name": "LayoutModel",
      "_view_count": null,
      "_view_module": "@jupyter-widgets/base",
      "_view_module_version": "1.2.0",
      "_view_name": "LayoutView",
      "align_content": null,
      "align_items": null,
      "align_self": null,
      "border": null,
      "bottom": null,
      "display": null,
      "flex": null,
      "flex_flow": null,
      "grid_area": null,
      "grid_auto_columns": null,
      "grid_auto_flow": null,
      "grid_auto_rows": null,
      "grid_column": null,
      "grid_gap": null,
      "grid_row": null,
      "grid_template_areas": null,
      "grid_template_columns": null,
      "grid_template_rows": null,
      "height": null,
      "justify_content": null,
      "justify_items": null,
      "left": null,
      "margin": null,
      "max_height": null,
      "max_width": null,
      "min_height": null,
      "min_width": null,
      "object_fit": null,
      "object_position": null,
      "order": null,
      "overflow": null,
      "overflow_x": null,
      "overflow_y": null,
      "padding": null,
      "right": null,
      "top": null,
      "visibility": null,
      "width": null
     }
    },
    "683233175a75494c821487fce4447581": {
     "model_module": "@jupyter-widgets/base",
     "model_name": "LayoutModel",
     "model_module_version": "1.2.0",
     "state": {
      "_model_module": "@jupyter-widgets/base",
      "_model_module_version": "1.2.0",
      "_model_name": "LayoutModel",
      "_view_count": null,
      "_view_module": "@jupyter-widgets/base",
      "_view_module_version": "1.2.0",
      "_view_name": "LayoutView",
      "align_content": null,
      "align_items": null,
      "align_self": null,
      "border": null,
      "bottom": null,
      "display": null,
      "flex": null,
      "flex_flow": null,
      "grid_area": null,
      "grid_auto_columns": null,
      "grid_auto_flow": null,
      "grid_auto_rows": null,
      "grid_column": null,
      "grid_gap": null,
      "grid_row": null,
      "grid_template_areas": null,
      "grid_template_columns": null,
      "grid_template_rows": null,
      "height": null,
      "justify_content": null,
      "justify_items": null,
      "left": null,
      "margin": null,
      "max_height": null,
      "max_width": null,
      "min_height": null,
      "min_width": null,
      "object_fit": null,
      "object_position": null,
      "order": null,
      "overflow": null,
      "overflow_x": null,
      "overflow_y": null,
      "padding": null,
      "right": null,
      "top": null,
      "visibility": null,
      "width": null
     }
    },
    "050a8d49916d4c0cb61834b2206ce161": {
     "model_module": "@jupyter-widgets/controls",
     "model_name": "DescriptionStyleModel",
     "model_module_version": "1.5.0",
     "state": {
      "_model_module": "@jupyter-widgets/controls",
      "_model_module_version": "1.5.0",
      "_model_name": "DescriptionStyleModel",
      "_view_count": null,
      "_view_module": "@jupyter-widgets/base",
      "_view_module_version": "1.2.0",
      "_view_name": "StyleView",
      "description_width": ""
     }
    },
    "91980ad925f24dbfa599f007b853e01e": {
     "model_module": "@jupyter-widgets/base",
     "model_name": "LayoutModel",
     "model_module_version": "1.2.0",
     "state": {
      "_model_module": "@jupyter-widgets/base",
      "_model_module_version": "1.2.0",
      "_model_name": "LayoutModel",
      "_view_count": null,
      "_view_module": "@jupyter-widgets/base",
      "_view_module_version": "1.2.0",
      "_view_name": "LayoutView",
      "align_content": null,
      "align_items": null,
      "align_self": null,
      "border": null,
      "bottom": null,
      "display": null,
      "flex": null,
      "flex_flow": null,
      "grid_area": null,
      "grid_auto_columns": null,
      "grid_auto_flow": null,
      "grid_auto_rows": null,
      "grid_column": null,
      "grid_gap": null,
      "grid_row": null,
      "grid_template_areas": null,
      "grid_template_columns": null,
      "grid_template_rows": null,
      "height": null,
      "justify_content": null,
      "justify_items": null,
      "left": null,
      "margin": null,
      "max_height": null,
      "max_width": null,
      "min_height": null,
      "min_width": null,
      "object_fit": null,
      "object_position": null,
      "order": null,
      "overflow": null,
      "overflow_x": null,
      "overflow_y": null,
      "padding": null,
      "right": null,
      "top": null,
      "visibility": null,
      "width": null
     }
    },
    "3313732f87fc4eaf8896a18315e2790d": {
     "model_module": "@jupyter-widgets/controls",
     "model_name": "ProgressStyleModel",
     "model_module_version": "1.5.0",
     "state": {
      "_model_module": "@jupyter-widgets/controls",
      "_model_module_version": "1.5.0",
      "_model_name": "ProgressStyleModel",
      "_view_count": null,
      "_view_module": "@jupyter-widgets/base",
      "_view_module_version": "1.2.0",
      "_view_name": "StyleView",
      "bar_color": null,
      "description_width": ""
     }
    },
    "0e81299068ee4e038cd3a802bec75c34": {
     "model_module": "@jupyter-widgets/base",
     "model_name": "LayoutModel",
     "model_module_version": "1.2.0",
     "state": {
      "_model_module": "@jupyter-widgets/base",
      "_model_module_version": "1.2.0",
      "_model_name": "LayoutModel",
      "_view_count": null,
      "_view_module": "@jupyter-widgets/base",
      "_view_module_version": "1.2.0",
      "_view_name": "LayoutView",
      "align_content": null,
      "align_items": null,
      "align_self": null,
      "border": null,
      "bottom": null,
      "display": null,
      "flex": null,
      "flex_flow": null,
      "grid_area": null,
      "grid_auto_columns": null,
      "grid_auto_flow": null,
      "grid_auto_rows": null,
      "grid_column": null,
      "grid_gap": null,
      "grid_row": null,
      "grid_template_areas": null,
      "grid_template_columns": null,
      "grid_template_rows": null,
      "height": null,
      "justify_content": null,
      "justify_items": null,
      "left": null,
      "margin": null,
      "max_height": null,
      "max_width": null,
      "min_height": null,
      "min_width": null,
      "object_fit": null,
      "object_position": null,
      "order": null,
      "overflow": null,
      "overflow_x": null,
      "overflow_y": null,
      "padding": null,
      "right": null,
      "top": null,
      "visibility": null,
      "width": null
     }
    },
    "ffd667d33c1e4c5c94947f89a9b93def": {
     "model_module": "@jupyter-widgets/controls",
     "model_name": "DescriptionStyleModel",
     "model_module_version": "1.5.0",
     "state": {
      "_model_module": "@jupyter-widgets/controls",
      "_model_module_version": "1.5.0",
      "_model_name": "DescriptionStyleModel",
      "_view_count": null,
      "_view_module": "@jupyter-widgets/base",
      "_view_module_version": "1.2.0",
      "_view_name": "StyleView",
      "description_width": ""
     }
    }
   }
  }
 },
 "cells": [
  {
   "metadata": {},
   "cell_type": "markdown",
   "source": "# Implementación de Modelo de Regresión Lineal"
  },
  {
   "metadata": {
    "id": "VgyqJZSgySUE"
   },
   "cell_type": "code",
   "outputs": [],
   "execution_count": null,
   "source": [
    "import numpy as np\n",
    "import pandas as pd\n",
    "import matplotlib.pyplot as plt\n",
    "import plotly.graph_objs as go\n",
    "from ipywidgets import FloatSlider, interact\n",
    "from tqdm.notebook import tqdm\n",
    "from sklearn.model_selection import train_test_split\n",
    "from sklearn.preprocessing import StandardScaler\n",
    "\n",
    "%matplotlib inline"
   ]
  },
  {
   "cell_type": "markdown",
   "metadata": {
    "id": "xmEo-1QQySUI"
   },
   "source": [
    "# Generamos data"
   ]
  },
  {
   "cell_type": "code",
   "metadata": {
    "id": "N_vxTVUbySUJ",
    "outputId": "82fcf60e-4977-4ee1-a553-2192a4a5ce4c",
    "colab": {
     "base_uri": "https://localhost:8080/",
     "height": 279
    }
   },
   "source": [
    "np.random.seed(10)\n",
    "\n",
    "n = 100 # Nro de datos\n",
    "x = np.linspace(0, 1, n)\n",
    "y = x**0.5 + np.random.normal(0, 0.05, n)\n",
    "\n",
    "plt.plot(x, y, 'o')\n",
    "plt.xlabel('x')\n",
    "plt.ylabel('y');"
   ],
   "execution_count": null,
   "outputs": [
    {
     "output_type": "display_data",
     "data": {
      "text/plain": [
       "<Figure size 432x288 with 1 Axes>"
      ],
      "image/png": "[encoded data removed]"
     },
     "metadata": {
      "needs_background": "light"
     }
    }
   ]
  },
  {
   "cell_type": "markdown",
   "metadata": {
    "id": "8fCfRNQdySUM"
   },
   "source": [
    "# Definimos el modelo"
   ]
  },
  {
   "cell_type": "markdown",
   "metadata": {
    "id": "TjpTSthAySUN"
   },
   "source": [
    "$ f(x_i) = ax_i + b $"
   ]
  },
  {
   "cell_type": "code",
   "metadata": {
    "id": "JmbyhfxzySUN"
   },
   "source": [
    "a = 1\n",
    "b = 0\n",
    "\n",
    "def f(x): return a*x + b\n",
    "\n",
    "y_ = f(x)"
   ],
   "execution_count": null,
   "outputs": []
  },
  {
   "cell_type": "code",
   "metadata": {
    "id": "Y1YbO3HqySUP",
    "outputId": "d9d23b25-107d-4bf4-fb17-08b4a0144e2d",
    "colab": {
     "base_uri": "https://localhost:8080/",
     "height": 295
    }
   },
   "source": [
    "def plot(title=''):\n",
    "    plt.plot(x, y, 'o', label='data')\n",
    "    plt.plot(x, y_, label='model')\n",
    "    plt.title(title)\n",
    "    plt.xlabel('x')\n",
    "    plt.ylabel('y')\n",
    "    plt.legend()\n",
    "    plt.show()\n",
    "\n",
    "plot(f'f(x) = {a}*x + {b}')"
   ],
   "execution_count": null,
   "outputs": [
    {
     "output_type": "display_data",
     "data": {
      "text/plain": [
       "<Figure size 432x288 with 1 Axes>"
      ],
      "image/png": "[encoded data removed]"
     },
     "metadata": {
      "needs_background": "light"
     }
    }
   ]
  },
  {
   "cell_type": "markdown",
   "metadata": {
    "id": "TUL-hKzuySUS"
   },
   "source": [
    "# Función de pérdida"
   ]
  },
  {
   "cell_type": "markdown",
   "metadata": {
    "id": "mTDNylQiySUS"
   },
   "source": [
    "$ L = \\frac{1}{2m}\\sum\\limits_{i=1}^m (f(x_i) - y_i)^2 $"
   ]
  },
  {
   "cell_type": "code",
   "metadata": {
    "id": "CXY0AthpySUT",
    "outputId": "e434f6a2-3c7e-47db-8816-d620d1611cb3",
    "colab": {
     "base_uri": "https://localhost:8080/"
    }
   },
   "source": [
    "def L(y, y_):\n",
    "    return ((y_ - y)**2).mean() / 2\n",
    "loss = L(y, y_)\n",
    "loss"
   ],
   "execution_count": null,
   "outputs": [
    {
     "output_type": "execute_result",
     "data": {
      "text/plain": [
       "0.01857300630707608"
      ]
     },
     "metadata": {},
     "execution_count": 6
    }
   ]
  },
  {
   "cell_type": "code",
   "metadata": {
    "id": "bvZG5XVBySUV",
    "outputId": "77e724d0-be99-4ee5-8e82-9f08c9fdb810",
    "colab": {
     "base_uri": "https://localhost:8080/",
     "height": 281
    }
   },
   "source": [
    "slope = 0.9\n",
    "intercept = 0.2\n",
    "y_ = slope*x + intercept\n",
    "plt.figure()\n",
    "plt.title(\"Loss = {:3f}\".format(L(y, y_)))\n",
    "plt.scatter(x=x, y=y)\n",
    "plt.scatter(x=x, y=y_)\n",
    "plt.show()"
   ],
   "execution_count": null,
   "outputs": [
    {
     "output_type": "display_data",
     "data": {
      "text/plain": [
       "<Figure size 432x288 with 1 Axes>"
      ],
      "image/png": "[encoded data removed]"
     },
     "metadata": {
      "needs_background": "light"
     }
    }
   ]
  },
  {
   "cell_type": "code",
   "metadata": {
    "id": "1DMI7jJ_ySUY",
    "outputId": "577ead4c-eaeb-490f-98db-8899397732e3",
    "colab": {
     "base_uri": "https://localhost:8080/",
     "height": 295
    }
   },
   "source": [
    "# Función de pérdida en distintos puntos de a, teniendo b=0\n",
    "test_a = np.linspace(0, 2.4, 20)\n",
    "losses = [L(y, single_a*x + b) for single_a in test_a]\n",
    "\n",
    "plt.plot(test_a, losses, 'o')\n",
    "plt.title('Función de pérdida')\n",
    "plt.xlabel('a')\n",
    "plt.ylabel('Loss')\n",
    "plt.show()"
   ],
   "execution_count": null,
   "outputs": [
    {
     "output_type": "display_data",
     "data": {
      "image/png": "[encoded data removed]",
      "text/plain": [
       "<Figure size 432x288 with 1 Axes>"
      ]
     },
     "metadata": {
      "tags": [],
      "needs_background": "light"
     }
    }
   ]
  },
  {
   "cell_type": "markdown",
   "metadata": {
    "id": "giRu3X4rySUa"
   },
   "source": [
    "# Optimización"
   ]
  },
  {
   "cell_type": "markdown",
   "metadata": {
    "id": "Xe6YKEOiySUa"
   },
   "source": [
    "## Gradients"
   ]
  },
  {
   "cell_type": "markdown",
   "metadata": {
    "id": "a9_ytiRwySUb"
   },
   "source": [
    "$ \\frac{dL}{da} = \\sum\\limits_{i=1}^m (f(x_i) - y_i)(x_i)$\n",
    "\n",
    "$ \\frac{dL}{db} = \\sum\\limits_{i=1}^m (f(x_i) - y_i)$"
   ]
  },
  {
   "cell_type": "code",
   "metadata": {
    "id": "2ug0j_hjySUb",
    "outputId": "c03c27e4-b264-4de5-dfe9-2dd14c776486",
    "colab": {
     "base_uri": "https://localhost:8080/"
    }
   },
   "source": [
    "def gradients(x, y, y_):\n",
    "    da = ((y_ - y) * x).mean()\n",
    "    db = (y_ - y).mean()\n",
    "    return da, db\n",
    "\n",
    "gradients(x, y, y_)"
   ],
   "execution_count": null,
   "outputs": [
    {
     "output_type": "execute_result",
     "data": {
      "text/plain": [
       "(0.016110335559316746, 0.03123389162168894)"
      ]
     },
     "metadata": {},
     "execution_count": 16
    }
   ]
  },
  {
   "cell_type": "markdown",
   "metadata": {
    "id": "xsJBJzhGySUd"
   },
   "source": [
    "## Gradient descent"
   ]
  },
  {
   "cell_type": "code",
   "metadata": {
    "id": "k6l80TUkySUd",
    "outputId": "52c2c976-bf6a-46d0-8926-5260331ad0f4",
    "colab": {
     "base_uri": "https://localhost:8080/",
     "height": 590,
     "referenced_widgets": [
      "406e9775e63b4d1fbd64c5960212b7bd",
      "2cbf52c95a43452791408ead34e78e37",
      "9750bf7ea40542228bb641b1a81f2964",
      "ffc9cac2de7e4c4189a0ae5442f08ecd",
      "282986e7e08b4ed795d1b6ed6a31d51a",
      "683233175a75494c821487fce4447581",
      "050a8d49916d4c0cb61834b2206ce161",
      "91980ad925f24dbfa599f007b853e01e",
      "3313732f87fc4eaf8896a18315e2790d",
      "0e81299068ee4e038cd3a802bec75c34",
      "ffd667d33c1e4c5c94947f89a9b93def"
     ]
    }
   },
   "source": [
    "# initial params\n",
    "b = 0\n",
    "lr = 0.1\n",
    "steps = 50\n",
    "losses = []\n",
    "\n",
    "for i in tqdm(range(steps)):\n",
    "    y_ = f(x)\n",
    "    loss = L(y, y_)\n",
    "    losses.append(loss)\n",
    "    da, db = gradients(x, y, y_)\n",
    "    a -= da*lr\n",
    "    b -= db*lr\n",
    "\n",
    "plot(f'f(x) = {a:.2}*x + {b:.2}\\nL={loss:.2}')\n",
    "plt.plot(losses);"
   ],
   "execution_count": null,
   "outputs": [
    {
     "output_type": "display_data",
     "data": {
      "text/plain": [
       "  0%|          | 0/50 [00:00<?, ?it/s]"
      ],
      "application/vnd.jupyter.widget-view+json": {
       "version_major": 2,
       "version_minor": 0,
       "model_id": "406e9775e63b4d1fbd64c5960212b7bd"
      }
     },
     "metadata": {}
    },
    {
     "output_type": "display_data",
     "data": {
      "text/plain": [
       "<Figure size 432x288 with 1 Axes>"
      ],
      "image/png": "[encoded data removed]"
     },
     "metadata": {
      "needs_background": "light"
     }
    },
    {
     "output_type": "display_data",
     "data": {
      "text/plain": [
       "<Figure size 432x288 with 1 Axes>"
      ],
      "image/png": "[encoded data removed]"
     },
     "metadata": {
      "needs_background": "light"
     }
    }
   ]
  },
  {
   "cell_type": "markdown",
   "metadata": {
    "id": "jJprmNO0ySUh"
   },
   "source": "# Casas Simple"
  },
  {
   "cell_type": "code",
   "metadata": {
    "id": "aRQRpHDHySUi",
    "outputId": "02b5e4d4-7bd8-43ea-f504-8ec5601635ce",
    "colab": {
     "base_uri": "https://localhost:8080/",
     "height": 223
    }
   },
   "source": [
    "url_casas_simple ='https://raw.githubusercontent.com/lmiguelmh/deep-learning/master/multivariate-regression/CasasSimple.txt'\n",
    "url_casas_mult ='https://raw.githubusercontent.com/lmiguelmh/deep-learning/master/multivariate-regression/CasasMulti.txt'\n",
    "df = pd.read_table(url_casas_simple, names=['metros_cuadrados', 'precio'])\n",
    "print(df.shape)\n",
    "df.head()"
   ],
   "execution_count": null,
   "outputs": [
    {
     "output_type": "stream",
     "name": "stdout",
     "text": [
      "(58, 2)\n"
     ]
    },
    {
     "output_type": "execute_result",
     "data": {
      "text/plain": [
       "   metros_cuadrados    precio\n",
       "0             132.3  319000.0\n",
       "1             141.5  389000.0\n",
       "2              71.2  199000.0\n",
       "3             277.4  599000.0\n",
       "4             338.7  750000.0"
      ],
      "text/html": [
       "\n",
       "  <div id=\"df-5dfb34f1-1ad8-4a88-9a55-1fd00a9a04de\">\n",
       "    <div class=\"colab-df-container\">\n",
       "      <div>\n",
       "<style scoped>\n",
       "    .dataframe tbody tr th:only-of-type {\n",
       "        vertical-align: middle;\n",
       "    }\n",
       "\n",
       "    .dataframe tbody tr th {\n",
       "        vertical-align: top;\n",
       "    }\n",
       "\n",
       "    .dataframe thead th {\n",
       "        text-align: right;\n",
       "    }\n",
       "</style>\n",
       "<table border=\"1\" class=\"dataframe\">\n",
       "  <thead>\n",
       "    <tr style=\"text-align: right;\">\n",
       "      <th></th>\n",
       "      <th>metros_cuadrados</th>\n",
       "      <th>precio</th>\n",
       "    </tr>\n",
       "  </thead>\n",
       "  <tbody>\n",
       "    <tr>\n",
       "      <th>0</th>\n",
       "      <td>132.3</td>\n",
       "      <td>319000.0</td>\n",
       "    </tr>\n",
       "    <tr>\n",
       "      <th>1</th>\n",
       "      <td>141.5</td>\n",
       "      <td>389000.0</td>\n",
       "    </tr>\n",
       "    <tr>\n",
       "      <th>2</th>\n",
       "      <td>71.2</td>\n",
       "      <td>199000.0</td>\n",
       "    </tr>\n",
       "    <tr>\n",
       "      <th>3</th>\n",
       "      <td>277.4</td>\n",
       "      <td>599000.0</td>\n",
       "    </tr>\n",
       "    <tr>\n",
       "      <th>4</th>\n",
       "      <td>338.7</td>\n",
       "      <td>750000.0</td>\n",
       "    </tr>\n",
       "  </tbody>\n",
       "</table>\n",
       "</div>\n",
       "      <button class=\"colab-df-convert\" onclick=\"convertToInteractive('df-5dfb34f1-1ad8-4a88-9a55-1fd00a9a04de')\"\n",
       "              title=\"Convert this dataframe to an interactive table.\"\n",
       "              style=\"display:none;\">\n",
       "        \n",
       "  <svg xmlns=\"http://www.w3.org/2000/svg\" height=\"24px\"viewBox=\"0 0 24 24\"\n",
       "       width=\"24px\">\n",
       "    <path d=\"M0 0h24v24H0V0z\" fill=\"none\"/>\n",
       "    <path d=\"M18.56 5.44l.94 2.06.94-2.06 2.06-.94-2.06-.94-.94-2.06-.94 2.06-2.06.94zm-11 1L8.5 8.5l.94-2.06 2.06-.94-2.06-.94L8.5 2.5l-.94 2.06-2.06.94zm10 10l.94 2.06.94-2.06 2.06-.94-2.06-.94-.94-2.06-.94 2.06-2.06.94z\"/><path d=\"M17.41 7.96l-1.37-1.37c-.4-.4-.92-.59-1.43-.59-.52 0-1.04.2-1.43.59L10.3 9.45l-7.72 7.72c-.78.78-.78 2.05 0 2.83L4 21.41c.39.39.9.59 1.41.59.51 0 1.02-.2 1.41-.59l7.78-7.78 2.81-2.81c.8-.78.8-2.07 0-2.86zM5.41 20L4 18.59l7.72-7.72 1.47 1.35L5.41 20z\"/>\n",
       "  </svg>\n",
       "      </button>\n",
       "      \n",
       "  <style>\n",
       "    .colab-df-container {\n",
       "      display:flex;\n",
       "      flex-wrap:wrap;\n",
       "      gap: 12px;\n",
       "    }\n",
       "\n",
       "    .colab-df-convert {\n",
       "      background-color: #E8F0FE;\n",
       "      border: none;\n",
       "      border-radius: 50%;\n",
       "      cursor: pointer;\n",
       "      display: none;\n",
       "      fill: #1967D2;\n",
       "      height: 32px;\n",
       "      padding: 0 0 0 0;\n",
       "      width: 32px;\n",
       "    }\n",
       "\n",
       "    .colab-df-convert:hover {\n",
       "      background-color: #E2EBFA;\n",
       "      box-shadow: 0px 1px 2px rgba(60, 64, 67, 0.3), 0px 1px 3px 1px rgba(60, 64, 67, 0.15);\n",
       "      fill: #174EA6;\n",
       "    }\n",
       "\n",
       "    [theme=dark] .colab-df-convert {\n",
       "      background-color: #3B4455;\n",
       "      fill: #D2E3FC;\n",
       "    }\n",
       "\n",
       "    [theme=dark] .colab-df-convert:hover {\n",
       "      background-color: #434B5C;\n",
       "      box-shadow: 0px 1px 3px 1px rgba(0, 0, 0, 0.15);\n",
       "      filter: drop-shadow(0px 1px 2px rgba(0, 0, 0, 0.3));\n",
       "      fill: #FFFFFF;\n",
       "    }\n",
       "  </style>\n",
       "\n",
       "      <script>\n",
       "        const buttonEl =\n",
       "          document.querySelector('#df-5dfb34f1-1ad8-4a88-9a55-1fd00a9a04de button.colab-df-convert');\n",
       "        buttonEl.style.display =\n",
       "          google.colab.kernel.accessAllowed ? 'block' : 'none';\n",
       "\n",
       "        async function convertToInteractive(key) {\n",
       "          const element = document.querySelector('#df-5dfb34f1-1ad8-4a88-9a55-1fd00a9a04de');\n",
       "          const dataTable =\n",
       "            await google.colab.kernel.invokeFunction('convertToInteractive',\n",
       "                                                     [key], {});\n",
       "          if (!dataTable) return;\n",
       "\n",
       "          const docLinkHtml = 'Like what you see? Visit the ' +\n",
       "            '<a target=\"_blank\" href=https://colab.research.google.com/notebooks/data_table.ipynb>data table notebook</a>'\n",
       "            + ' to learn more about interactive tables.';\n",
       "          element.innerHTML = '';\n",
       "          dataTable['output_type'] = 'display_data';\n",
       "          await google.colab.output.renderOutput(dataTable, element);\n",
       "          const docLink = document.createElement('div');\n",
       "          docLink.innerHTML = docLinkHtml;\n",
       "          element.appendChild(docLink);\n",
       "        }\n",
       "      </script>\n",
       "    </div>\n",
       "  </div>\n",
       "  "
      ]
     },
     "metadata": {},
     "execution_count": 14
    }
   ]
  },
  {
   "cell_type": "code",
   "metadata": {
    "id": "G0UlGw76ySUl"
   },
   "source": [
    "# Separamos las variables dependientes e independientes\n",
    "x = df['metros_cuadrados'].values\n",
    "y = np.log(df['precio'].values)"
   ],
   "execution_count": null,
   "outputs": []
  },
  {
   "cell_type": "code",
   "metadata": {
    "id": "tgQINUV0ySUn",
    "outputId": "e13861af-96f7-49e5-ca5e-c4233a7eb851",
    "colab": {
     "base_uri": "https://localhost:8080/",
     "height": 34
    }
   },
   "source": [
    "# Para evaluar el modelo dividimos la data en un conjunto de entrenamiento y validación\n",
    "x_train, x_val, y_train, y_val = train_test_split(x, y, test_size=0.33, random_state=42)\n",
    "x_train.shape, x_val.shape"
   ],
   "execution_count": null,
   "outputs": [
    {
     "output_type": "execute_result",
     "data": {
      "text/plain": [
       "((38,), (20,))"
      ]
     },
     "metadata": {
      "tags": []
     },
     "execution_count": 12
    }
   ]
  },
  {
   "cell_type": "code",
   "metadata": {
    "id": "D7FJItiPySUo"
   },
   "source": [
    "# Normalizamos la data\n",
    "x_mean = x_train.mean()\n",
    "x_std = x_train.std()\n",
    "x_train = (x_train - x_mean) / x_std\n",
    "\n",
    "# Aplicamos la misma normalizacion al conjunto de validacion\n",
    "x_val = (x_val - x_mean) / x_std"
   ],
   "execution_count": null,
   "outputs": []
  },
  {
   "cell_type": "code",
   "metadata": {
    "id": "tMt8AITaySUq"
   },
   "source": [
    "# Algunas funciones para graficar\n",
    "def plot_train_val(title=''):\n",
    "    y_train_ = f(x_train)\n",
    "    y_val_ = f(x_val)\n",
    "    fig, [ax1, ax2] = plt.subplots(1, 2, sharex=True, sharey=True, figsize=(10,4))\n",
    "    ax1.plot(x_train, y_train, 'o', label='data')\n",
    "    ax1.plot(x_train, y_train_, label='model')\n",
    "    ax1.set_title(f'Train (L={L(y_train, y_train_):.4f})')\n",
    "    ax1.legend()\n",
    "    ax2.plot(x_val, y_val, 'o', label='data')\n",
    "    ax2.plot(x_val, y_val_, label='model')\n",
    "    ax2.set_title(f'Validation (L={L(y_val, y_val_):.4f})')\n",
    "    plt.tight_layout()\n",
    "    plt.show()\n",
    "\n",
    "def plot_losses():\n",
    "    plt.plot(losses_train, label='train')\n",
    "    plt.plot(losses_val, label='validation')\n",
    "    plt.legend()\n",
    "    plt.show()"
   ],
   "execution_count": null,
   "outputs": []
  },
  {
   "cell_type": "code",
   "metadata": {
    "id": "7W_YGJUxySUs",
    "outputId": "780c84b3-98b7-4afc-cc86-13e465b6be65",
    "colab": {
     "base_uri": "https://localhost:8080/",
     "height": 297
    }
   },
   "source": "plot_train_val()",
   "execution_count": null,
   "outputs": [
    {
     "output_type": "display_data",
     "data": {
      "image/png": "[encoded data removed]",
      "text/plain": [
       "<Figure size 720x288 with 2 Axes>"
      ]
     },
     "metadata": {
      "tags": [],
      "needs_background": "light"
     }
    }
   ]
  },
  {
   "cell_type": "code",
   "metadata": {
    "id": "jm8LBIPhySUv",
    "outputId": "7b0ba9ae-327e-4219-bd61-4ac91a48e0f1",
    "colab": {
     "base_uri": "https://localhost:8080/",
     "height": 611,
     "referenced_widgets": [
      "7f5b3e7367b64779a112f03e01edf71e",
      "572bdf1c176e4e8db332eae5d7760886",
      "0e3af21c2f60485dac7ae1ba49b3e605",
      "2ac34fe13c7f4b4dbacd4fdd5b677123",
      "bd69815f3b6947f19b9b2fe4996d1501",
      "1cef582b27ec44ef81932467e1c1e337",
      "57ffe054993c4c5690a443f1a772d22d",
      "551f1a33e4154a1daad499c6ac15a172"
     ]
    }
   },
   "source": [
    "a = 1\n",
    "b = 0\n",
    "lr = 0.01\n",
    "steps = 10_000\n",
    "losses_train = []\n",
    "losses_val = []\n",
    "\n",
    "for i in tqdm(range(steps)):\n",
    "    # Guardamos las perdidas\n",
    "    loss_train = L(y_train, y_)\n",
    "    loss_val = L(y_val, f(x_val))\n",
    "    losses_train.append(loss_train)\n",
    "    losses_val.append(loss_val)\n",
    "\n",
    "print(f'f(x) = {a:.2f}*x + {b:.2f}')\n",
    "plot_train_val()\n",
    "plot_losses()"
   ],
   "execution_count": null,
   "outputs": [
    {
     "output_type": "display_data",
     "data": {
      "application/vnd.jupyter.widget-view+json": {
       "model_id": "7f5b3e7367b64779a112f03e01edf71e",
       "version_minor": 0,
       "version_major": 2
      },
      "text/plain": [
       "HBox(children=(IntProgress(value=0, max=10000), HTML(value='')))"
      ]
     },
     "metadata": {
      "tags": []
     }
    },
    {
     "output_type": "stream",
     "text": [
      "\n",
      "f(x) = 0.52*x + 12.69\n"
     ],
     "name": "stdout"
    },
    {
     "output_type": "display_data",
     "data": {
      "image/png": "[encoded data removed]",
      "text/plain": [
       "<Figure size 720x288 with 2 Axes>"
      ]
     },
     "metadata": {
      "tags": [],
      "needs_background": "light"
     }
    },
    {
     "output_type": "display_data",
     "data": {
      "image/png": "[encoded data removed]",
      "text/plain": [
       "<Figure size 432x288 with 1 Axes>"
      ]
     },
     "metadata": {
      "tags": [],
      "needs_background": "light"
     }
    }
   ]
  },
  {
   "cell_type": "markdown",
   "metadata": {
    "id": "dfDK2mgyySUx"
   },
   "source": [
    "# Multiple linear regression"
   ]
  },
  {
   "cell_type": "markdown",
   "metadata": {
    "id": "s9d4s1Q5ySUx"
   },
   "source": [
    "$ f(x_{1i}, x_{2i}) = ax_{1i} + bx_{2i} + c $"
   ]
  },
  {
   "cell_type": "code",
   "metadata": {
    "id": "DcFLZnLpySUx"
   },
   "source": [
    "np.random.seed(10)\n",
    "\n",
    "n = 100\n",
    "\n",
    "x1 = np.random.normal(size=n) + np.random.normal(0, 0.5, n)\n",
    "x2 = np.random.normal(size=n) + np.random.normal(0, 0.5, n)\n",
    "y = x1 + x2*2 + np.random.normal(1, 1, n)"
   ],
   "execution_count": null,
   "outputs": []
  },
  {
   "cell_type": "code",
   "metadata": {
    "id": "_zH4SwwSySUz"
   },
   "source": [
    "a = 1.0\n",
    "b = 1.0\n",
    "c = 0.0\n",
    "\n",
    "def f(x1,x2): return a*x1 + b*x2 + c\n",
    "\n",
    "y_ = f(x1,x2)"
   ],
   "execution_count": null,
   "outputs": []
  },
  {
   "cell_type": "code",
   "metadata": {
    "id": "RG2Y5opAySU1",
    "outputId": "8335e2f9-71cc-4425-a5b8-61997421bd51",
    "colab": {
     "base_uri": "https://localhost:8080/",
     "height": 542
    }
   },
   "source": [
    "def plot3d(title=''):\n",
    "    trace = go.Scatter3d(\n",
    "        x=x1, y=x2, z=y,\n",
    "        mode='markers',\n",
    "        marker={'size':2, 'opacity':0.8}\n",
    "    )\n",
    "\n",
    "    mesh_x1 = [-4,-4,4,4]\n",
    "    mesh_x2 = [-4,4,-4,4]\n",
    "    mesh_y = [f(x1,x2) for x1,x2 in zip(mesh_x1,mesh_x2)]\n",
    "\n",
    "    mesh = go.Mesh3d(x=mesh_x1, y=mesh_x2, z=mesh_y, opacity=0.5)\n",
    "\n",
    "    layout = go.Layout({\n",
    "        'title': title,\n",
    "        'scene':{\n",
    "            'xaxis':{'title':'x1'},\n",
    "            'yaxis':{'title':'x2'},\n",
    "            'zaxis':{'title':'y'}\n",
    "        }\n",
    "    })\n",
    "\n",
    "    fig = go.Figure(data=[trace, mesh], layout=layout)\n",
    "\n",
    "    return fig\n",
    "\n",
    "loss = L(y, y_)\n",
    "plot3d(f'f(x) = {a:.2}(x1) + {b:.2}(x2) + {c:.2}<br>L={loss:.2}').show()"
   ],
   "execution_count": null,
   "outputs": [
    {
     "output_type": "display_data",
     "data": {
      "text/html": [
       "<html>\n",
       "<head><meta charset=\"utf-8\" /></head>\n",
       "<body>\n",
       "    <div>\n",
       "            <script src=\"https://cdnjs.cloudflare.com/ajax/libs/mathjax/2.7.5/MathJax.js?config=TeX-AMS-MML_SVG\"></script><script type=\"text/javascript\">if (window.MathJax) {MathJax.Hub.Config({SVG: {font: \"STIX-Web\"}});}</script>\n",
       "                <script type=\"text/javascript\">window.PlotlyConfig = {MathJaxConfig: 'local'};</script>\n",
       "        <script src=\"https://cdn.plot.ly/plotly-latest.min.js\"></script>    \n",
       "            <div id=\"b6c84cc7-c119-4e59-ad28-327af88dbab7\" class=\"plotly-graph-div\" style=\"height:525px; width:100%;\"></div>\n",
       "            <script type=\"text/javascript\">\n",
       "                \n",
       "                    window.PLOTLYENV=window.PLOTLYENV || {};\n",
       "                    \n",
       "                if (document.getElementById(\"b6c84cc7-c119-4e59-ad28-327af88dbab7\")) {\n",
       "                    Plotly.newPlot(\n",
       "                        'b6c84cc7-c119-4e59-ad28-327af88dbab7',\n",
       "                        [{\"marker\": {\"opacity\": 0.8, \"size\": 2}, \"mode\": \"markers\", \"type\": \"scatter3d\", \"x\": [1.3903243346428371, -0.23844946966379466, -2.006854924535741, 0.2264918671129992, 0.5491525923769986, -0.9201547367117611, 0.11751965922251345, 0.5326528302257976, 0.3577066583098507, -0.5682346737165347, 0.5794965523695814, 0.9676337480694533, 0.23709713245191155, 0.658595708728368, 0.07221575145611489, 0.27069665372160123, -1.3561153299410513, 0.20568896248085147, 1.6210616618842377, -1.8890902596931736, -2.264284961437702, -2.403596068844635, 0.8841728270939588, 3.617629871741835, 1.8153073681771827, 1.8457387709834192, 0.6104072694523117, 1.4814015106034415, 0.557110324273365, 0.9471489892763603, -0.38229051056093005, -1.1140846113223746, -0.18727300635429767, -0.3192267541478342, 0.6955550904944503, 0.08411671103334584, 1.0701731432311248, -0.3229774816139461, 2.2491651367998498, -0.008386701667096763, 0.5164168444010229, -1.0305271779928709, -0.9634540223772615, -0.7297308869506636, -0.6157145992872836, 0.5945063483622207, -0.9006922636756263, 0.11780596288581646, 0.7313276444223857, 0.420066328813933, 0.2294518688827452, 0.4962430244009396, 0.1323956403502693, 0.9549176785507478, 0.7237226461209151, 0.2322233724054877, 2.0411679413509534, 1.1907913562776966, 0.3589777332759101, -1.851978832672807, 0.37689216923143276, -0.5299892611361625, 1.3592293793093104, -0.3666230246093981, -1.228673848298258, -1.127260736731247, 0.8796322757393468, -1.8142514147071167, -0.22541279277558737, -0.3793606523975144, -0.5361791774859083, 0.7670515579209936, 0.33427479467614246, 1.271248720692498, -0.0416459396017963, 2.3372213171575154, -1.2341074540153034, 0.9222001881239092, -0.5417019682020263, -0.9452218213672157, 1.274644333848614, 1.4053407610292807, -1.5892430759557103, 0.14921350278996254, 1.046676971700396, -2.0731213983843624, 0.073476748793742, 0.304691805758956, 0.01440038129349358, -1.60350617455325, 1.2844470416845746, 0.14090423378727085, -0.6017607214718286, -0.8154278750027693, 0.5164679238666379, 1.5458560173342013, -0.008530099747885211, -0.42156773354918126, 1.4105828068643238, -2.2405005266453886], \"y\": [0.5107874758471455, 1.642486719248736, -1.1447311164597362, -0.1871291597611093, -1.3661753286211848, -1.7665614766887447, 1.792326463894672, 0.14789700051473986, -0.5798662837570249, -2.415854114134496, 0.938482334617937, 0.7904182186244118, 1.3113603978456172, -0.6507850872575189, -0.19316781662450266, 0.5134224235099648, -1.515145691040523, 1.2616038248713624, 0.03283429414007033, 1.1675533516016974, -0.012937569623981182, 1.0408900290154552, 0.24617423211465173, -0.9540429324414006, -0.4528660448202397, 0.4200307391575384, -1.0205111251167862, -0.7515150079251185, 0.9760506354305927, -0.26933832481116843, -1.7622541922011097, 0.32209382074165915, 0.606128292709297, -0.11552095334929041, 0.7031545617778046, 0.9531632140464351, -0.24936050319628955, -0.27589209268560844, 0.1896509948900701, 0.11375688733358069, -1.4393741876202846, 0.8451818462424454, -1.603899498851122, -1.276777559373953, -0.8082055652501927, -0.5455920552387387, 1.4746166431785377, -1.6282780577593763, 2.2682339225835335, 1.0408510063941792, -0.9503669016560863, -0.1678467643394712, -1.0710735325209804, -0.04237330901820924, -0.777182493646171, 1.7202897656260807, -0.0513699740424679, 1.2466129151493335, 0.23072994333134714, -0.8449652337654848, 1.9970139627766998, 0.30199273488848555, 1.0175971386818565, -1.3151380791883556, -1.3534156030059847, -0.025490576609748267, -0.4858190447026048, 0.474382043731571, 0.45126903492294546, 0.3181400245095555, 0.6351197859153981, -0.6893863553176324, 0.16275586648755933, -2.2371165817343615, -0.5260340417730378, 0.44906787993498587, 1.0270328948180403, -1.4550506593786425, 0.7253174971271286, 0.3889137363998385, -1.576972014971651, 0.7419308174080668, 0.5739653534659894, 0.08280159091712741, 2.698862983193918, 0.291704173349253, 0.8093636851562651, 0.14580890848523628, 1.1677269035300435, -2.4375296354824014, -0.7444593404149632, -0.42221845154514925, 0.7097281072417744, 0.3322364317290331, 1.337362812212826, 0.7590727458515125, -0.3079745390561255, -0.823913317344486, 0.03065332016344649, 0.7438660856047208], \"z\": [3.874284837060933, 2.8266684350332594, -3.1037443182649938, 1.2876839361020276, -2.818142200987962, -3.018340415495884, 6.09999197283873, 1.9531136063336574, -0.6934773112378412, -4.976836243472976, 3.381512353473468, 3.0266937371322866, 0.6554165838135155, 1.8197365268818344, 0.21897749667202515, 2.1185217998751584, -2.461659077510175, 3.96414137721915, 2.1981219946156734, 1.3530349019201326, -0.754758718457404, 1.2290286902948298, 2.184999237824012, 3.50424163458413, 2.6946717775958997, 3.1980758323513223, -1.4364798456160792, 1.3059468603251043, 4.08826004531541, 0.9485467917582194, -3.3426148088321845, 1.0663715819085187, 2.1819985625150684, 1.80852047813688, 3.6172094591812503, 5.374567762160102, 2.1006424046483665, -0.7709055034547637, 3.430657009192829, 1.123651241152706, -3.0427774498460263, 2.3365447099863332, -3.1105251965341063, -2.3063271940718177, -1.7854441573841329, -0.602800998398133, 2.831406128291575, -3.0141725294368635, 6.278576918588083, 2.5955215208784472, -2.0870351451788145, 1.2552578069773284, -0.8159508141521912, 2.4134061461594873, 0.22569343820614274, 6.138457908743886, 2.30245878168318, 5.793522415035124, 0.8278051357789625, -3.2242507737325705, 4.961650894174224, 0.8265209355731867, 5.922274776071401, -2.6463375538932254, -4.204520580409804, 0.5766341807757969, 0.8840857437334169, -1.4230297992749692, 2.0234768536841585, 2.199283894078407, 1.3485835776388384, 1.9484876282529622, 3.2049482875681212, -2.89467209690079, 0.7708044489790777, 2.137565203753742, 1.9902530304293673, -1.7457307829842952, 2.876743442203423, -0.04191939325993721, 0.1485406939721412, 3.0863127674073936, 0.13038422329658328, 0.5594008508138004, 7.6648998370349775, -1.862827236340946, 3.338962456393984, 0.9228078087097631, 5.591720690896887, -5.725052566115197, 0.03192402203129974, 0.7772560737901641, 0.9858962902120113, 1.4422342197447455, 3.7424144090405553, 4.551697447214311, 0.4318355515939669, -0.5236099029507364, 1.788767046114978, -0.41178566377119763]}, {\"opacity\": 0.5, \"type\": \"mesh3d\", \"x\": [-4, -4, 4, 4], \"y\": [-4, 4, -4, 4], \"z\": [-8.0, 0.0, 0.0, 8.0]}],\n",
       "                        {\"scene\": {\"xaxis\": {\"title\": {\"text\": \"x1\"}}, \"yaxis\": {\"title\": {\"text\": \"x2\"}}, \"zaxis\": {\"title\": {\"text\": \"y\"}}}, \"template\": {\"data\": {\"bar\": [{\"error_x\": {\"color\": \"#2a3f5f\"}, \"error_y\": {\"color\": \"#2a3f5f\"}, \"marker\": {\"line\": {\"color\": \"#E5ECF6\", \"width\": 0.5}}, \"type\": \"bar\"}], \"barpolar\": [{\"marker\": {\"line\": {\"color\": \"#E5ECF6\", \"width\": 0.5}}, \"type\": \"barpolar\"}], \"carpet\": [{\"aaxis\": {\"endlinecolor\": \"#2a3f5f\", \"gridcolor\": \"white\", \"linecolor\": \"white\", \"minorgridcolor\": \"white\", \"startlinecolor\": \"#2a3f5f\"}, \"baxis\": {\"endlinecolor\": \"#2a3f5f\", \"gridcolor\": \"white\", \"linecolor\": \"white\", \"minorgridcolor\": \"white\", \"startlinecolor\": \"#2a3f5f\"}, \"type\": \"carpet\"}], \"choropleth\": [{\"colorbar\": {\"outlinewidth\": 0, \"ticks\": \"\"}, \"type\": \"choropleth\"}], \"contour\": [{\"colorbar\": {\"outlinewidth\": 0, \"ticks\": \"\"}, \"colorscale\": [[0.0, \"#0d0887\"], [0.1111111111111111, \"#46039f\"], [0.2222222222222222, \"#7201a8\"], [0.3333333333333333, \"#9c179e\"], [0.4444444444444444, \"#bd3786\"], [0.5555555555555556, \"#d8576b\"], [0.6666666666666666, \"#ed7953\"], [0.7777777777777778, \"#fb9f3a\"], [0.8888888888888888, \"#fdca26\"], [1.0, \"#f0f921\"]], \"type\": \"contour\"}], \"contourcarpet\": [{\"colorbar\": {\"outlinewidth\": 0, \"ticks\": \"\"}, \"type\": \"contourcarpet\"}], \"heatmap\": [{\"colorbar\": {\"outlinewidth\": 0, \"ticks\": \"\"}, \"colorscale\": [[0.0, \"#0d0887\"], [0.1111111111111111, \"#46039f\"], [0.2222222222222222, \"#7201a8\"], [0.3333333333333333, \"#9c179e\"], [0.4444444444444444, \"#bd3786\"], [0.5555555555555556, \"#d8576b\"], [0.6666666666666666, \"#ed7953\"], [0.7777777777777778, \"#fb9f3a\"], [0.8888888888888888, \"#fdca26\"], [1.0, \"#f0f921\"]], \"type\": \"heatmap\"}], \"heatmapgl\": [{\"colorbar\": {\"outlinewidth\": 0, \"ticks\": \"\"}, \"colorscale\": [[0.0, \"#0d0887\"], [0.1111111111111111, \"#46039f\"], [0.2222222222222222, \"#7201a8\"], [0.3333333333333333, \"#9c179e\"], [0.4444444444444444, \"#bd3786\"], [0.5555555555555556, \"#d8576b\"], [0.6666666666666666, \"#ed7953\"], [0.7777777777777778, \"#fb9f3a\"], [0.8888888888888888, \"#fdca26\"], [1.0, \"#f0f921\"]], \"type\": \"heatmapgl\"}], \"histogram\": [{\"marker\": {\"colorbar\": {\"outlinewidth\": 0, \"ticks\": \"\"}}, \"type\": \"histogram\"}], \"histogram2d\": [{\"colorbar\": {\"outlinewidth\": 0, \"ticks\": \"\"}, \"colorscale\": [[0.0, \"#0d0887\"], [0.1111111111111111, \"#46039f\"], [0.2222222222222222, \"#7201a8\"], [0.3333333333333333, \"#9c179e\"], [0.4444444444444444, \"#bd3786\"], [0.5555555555555556, \"#d8576b\"], [0.6666666666666666, \"#ed7953\"], [0.7777777777777778, \"#fb9f3a\"], [0.8888888888888888, \"#fdca26\"], [1.0, \"#f0f921\"]], \"type\": \"histogram2d\"}], \"histogram2dcontour\": [{\"colorbar\": {\"outlinewidth\": 0, \"ticks\": \"\"}, \"colorscale\": [[0.0, \"#0d0887\"], [0.1111111111111111, \"#46039f\"], [0.2222222222222222, \"#7201a8\"], [0.3333333333333333, \"#9c179e\"], [0.4444444444444444, \"#bd3786\"], [0.5555555555555556, \"#d8576b\"], [0.6666666666666666, \"#ed7953\"], [0.7777777777777778, \"#fb9f3a\"], [0.8888888888888888, \"#fdca26\"], [1.0, \"#f0f921\"]], \"type\": \"histogram2dcontour\"}], \"mesh3d\": [{\"colorbar\": {\"outlinewidth\": 0, \"ticks\": \"\"}, \"type\": \"mesh3d\"}], \"parcoords\": [{\"line\": {\"colorbar\": {\"outlinewidth\": 0, \"ticks\": \"\"}}, \"type\": \"parcoords\"}], \"pie\": [{\"automargin\": true, \"type\": \"pie\"}], \"scatter\": [{\"marker\": {\"colorbar\": {\"outlinewidth\": 0, \"ticks\": \"\"}}, \"type\": \"scatter\"}], \"scatter3d\": [{\"line\": {\"colorbar\": {\"outlinewidth\": 0, \"ticks\": \"\"}}, \"marker\": {\"colorbar\": {\"outlinewidth\": 0, \"ticks\": \"\"}}, \"type\": \"scatter3d\"}], \"scattercarpet\": [{\"marker\": {\"colorbar\": {\"outlinewidth\": 0, \"ticks\": \"\"}}, \"type\": \"scattercarpet\"}], \"scattergeo\": [{\"marker\": {\"colorbar\": {\"outlinewidth\": 0, \"ticks\": \"\"}}, \"type\": \"scattergeo\"}], \"scattergl\": [{\"marker\": {\"colorbar\": {\"outlinewidth\": 0, \"ticks\": \"\"}}, \"type\": \"scattergl\"}], \"scattermapbox\": [{\"marker\": {\"colorbar\": {\"outlinewidth\": 0, \"ticks\": \"\"}}, \"type\": \"scattermapbox\"}], \"scatterpolar\": [{\"marker\": {\"colorbar\": {\"outlinewidth\": 0, \"ticks\": \"\"}}, \"type\": \"scatterpolar\"}], \"scatterpolargl\": [{\"marker\": {\"colorbar\": {\"outlinewidth\": 0, \"ticks\": \"\"}}, \"type\": \"scatterpolargl\"}], \"scatterternary\": [{\"marker\": {\"colorbar\": {\"outlinewidth\": 0, \"ticks\": \"\"}}, \"type\": \"scatterternary\"}], \"surface\": [{\"colorbar\": {\"outlinewidth\": 0, \"ticks\": \"\"}, \"colorscale\": [[0.0, \"#0d0887\"], [0.1111111111111111, \"#46039f\"], [0.2222222222222222, \"#7201a8\"], [0.3333333333333333, \"#9c179e\"], [0.4444444444444444, \"#bd3786\"], [0.5555555555555556, \"#d8576b\"], [0.6666666666666666, \"#ed7953\"], [0.7777777777777778, \"#fb9f3a\"], [0.8888888888888888, \"#fdca26\"], [1.0, \"#f0f921\"]], \"type\": \"surface\"}], \"table\": [{\"cells\": {\"fill\": {\"color\": \"#EBF0F8\"}, \"line\": {\"color\": \"white\"}}, \"header\": {\"fill\": {\"color\": \"#C8D4E3\"}, \"line\": {\"color\": \"white\"}}, \"type\": \"table\"}]}, \"layout\": {\"annotationdefaults\": {\"arrowcolor\": \"#2a3f5f\", \"arrowhead\": 0, \"arrowwidth\": 1}, \"coloraxis\": {\"colorbar\": {\"outlinewidth\": 0, \"ticks\": \"\"}}, \"colorscale\": {\"diverging\": [[0, \"#8e0152\"], [0.1, \"#c51b7d\"], [0.2, \"#de77ae\"], [0.3, \"#f1b6da\"], [0.4, \"#fde0ef\"], [0.5, \"#f7f7f7\"], [0.6, \"#e6f5d0\"], [0.7, \"#b8e186\"], [0.8, \"#7fbc41\"], [0.9, \"#4d9221\"], [1, \"#276419\"]], \"sequential\": [[0.0, \"#0d0887\"], [0.1111111111111111, \"#46039f\"], [0.2222222222222222, \"#7201a8\"], [0.3333333333333333, \"#9c179e\"], [0.4444444444444444, \"#bd3786\"], [0.5555555555555556, \"#d8576b\"], [0.6666666666666666, \"#ed7953\"], [0.7777777777777778, \"#fb9f3a\"], [0.8888888888888888, \"#fdca26\"], [1.0, \"#f0f921\"]], \"sequentialminus\": [[0.0, \"#0d0887\"], [0.1111111111111111, \"#46039f\"], [0.2222222222222222, \"#7201a8\"], [0.3333333333333333, \"#9c179e\"], [0.4444444444444444, \"#bd3786\"], [0.5555555555555556, \"#d8576b\"], [0.6666666666666666, \"#ed7953\"], [0.7777777777777778, \"#fb9f3a\"], [0.8888888888888888, \"#fdca26\"], [1.0, \"#f0f921\"]]}, \"colorway\": [\"#636efa\", \"#EF553B\", \"#00cc96\", \"#ab63fa\", \"#FFA15A\", \"#19d3f3\", \"#FF6692\", \"#B6E880\", \"#FF97FF\", \"#FECB52\"], \"font\": {\"color\": \"#2a3f5f\"}, \"geo\": {\"bgcolor\": \"white\", \"lakecolor\": \"white\", \"landcolor\": \"#E5ECF6\", \"showlakes\": true, \"showland\": true, \"subunitcolor\": \"white\"}, \"hoverlabel\": {\"align\": \"left\"}, \"hovermode\": \"closest\", \"mapbox\": {\"style\": \"light\"}, \"paper_bgcolor\": \"white\", \"plot_bgcolor\": \"#E5ECF6\", \"polar\": {\"angularaxis\": {\"gridcolor\": \"white\", \"linecolor\": \"white\", \"ticks\": \"\"}, \"bgcolor\": \"#E5ECF6\", \"radialaxis\": {\"gridcolor\": \"white\", \"linecolor\": \"white\", \"ticks\": \"\"}}, \"scene\": {\"xaxis\": {\"backgroundcolor\": \"#E5ECF6\", \"gridcolor\": \"white\", \"gridwidth\": 2, \"linecolor\": \"white\", \"showbackground\": true, \"ticks\": \"\", \"zerolinecolor\": \"white\"}, \"yaxis\": {\"backgroundcolor\": \"#E5ECF6\", \"gridcolor\": \"white\", \"gridwidth\": 2, \"linecolor\": \"white\", \"showbackground\": true, \"ticks\": \"\", \"zerolinecolor\": \"white\"}, \"zaxis\": {\"backgroundcolor\": \"#E5ECF6\", \"gridcolor\": \"white\", \"gridwidth\": 2, \"linecolor\": \"white\", \"showbackground\": true, \"ticks\": \"\", \"zerolinecolor\": \"white\"}}, \"shapedefaults\": {\"line\": {\"color\": \"#2a3f5f\"}}, \"ternary\": {\"aaxis\": {\"gridcolor\": \"white\", \"linecolor\": \"white\", \"ticks\": \"\"}, \"baxis\": {\"gridcolor\": \"white\", \"linecolor\": \"white\", \"ticks\": \"\"}, \"bgcolor\": \"#E5ECF6\", \"caxis\": {\"gridcolor\": \"white\", \"linecolor\": \"white\", \"ticks\": \"\"}}, \"title\": {\"x\": 0.05}, \"xaxis\": {\"automargin\": true, \"gridcolor\": \"white\", \"linecolor\": \"white\", \"ticks\": \"\", \"title\": {\"standoff\": 15}, \"zerolinecolor\": \"white\", \"zerolinewidth\": 2}, \"yaxis\": {\"automargin\": true, \"gridcolor\": \"white\", \"linecolor\": \"white\", \"ticks\": \"\", \"title\": {\"standoff\": 15}, \"zerolinecolor\": \"white\", \"zerolinewidth\": 2}}}, \"title\": {\"text\": \"f(x) = 1.0(x1) + 1.0(x2) + 0.0<br>L=1.6\"}},\n",
       "                        {\"responsive\": true}\n",
       "                    ).then(function(){\n",
       "                            \n",
       "var gd = document.getElementById('b6c84cc7-c119-4e59-ad28-327af88dbab7');\n",
       "var x = new MutationObserver(function (mutations, observer) {{\n",
       "        var display = window.getComputedStyle(gd).display;\n",
       "        if (!display || display === 'none') {{\n",
       "            console.log([gd, 'removed!']);\n",
       "            Plotly.purge(gd);\n",
       "            observer.disconnect();\n",
       "        }}\n",
       "}});\n",
       "\n",
       "// Listen for the removal of the full notebook cells\n",
       "var notebookContainer = gd.closest('#notebook-container');\n",
       "if (notebookContainer) {{\n",
       "    x.observe(notebookContainer, {childList: true});\n",
       "}}\n",
       "\n",
       "// Listen for the clearing of the current output cell\n",
       "var outputEl = gd.closest('.output');\n",
       "if (outputEl) {{\n",
       "    x.observe(outputEl, {childList: true});\n",
       "}}\n",
       "\n",
       "                        })\n",
       "                };\n",
       "                \n",
       "            </script>\n",
       "        </div>\n",
       "</body>\n",
       "</html>"
      ]
     },
     "metadata": {
      "tags": []
     }
    }
   ]
  },
  {
   "cell_type": "markdown",
   "metadata": {
    "id": "GkLbgGImySU3"
   },
   "source": [
    "$ \\hat{y} = f(x_{1i}, x_{2i}) = ax_{1i} + bx_{2i} + c $\n",
    "\n",
    "$ L = \\frac{1}{2m}\\sum\\limits_{i=1}^m (\\hat{y} - y_i)^2 $\n",
    "\n",
    "$ \\frac{dL}{da} = \\sum\\limits_{i=1}^m (\\hat{y} - y_i)(x_{1i})$\n",
    "\n",
    "$ \\frac{dL}{db} = \\sum\\limits_{i=1}^m (\\hat{y} - y_i)(x_{2i})$\n",
    "\n",
    "$ \\frac{dL}{dc} = \\sum\\limits_{i=1}^m (\\hat{y} - y_i)$"
   ]
  },
  {
   "cell_type": "code",
   "metadata": {
    "id": "tyaxXzTPySU4",
    "outputId": "4c8aba0e-cfd1-45a6-cd68-4a6618368733",
    "colab": {
     "base_uri": "https://localhost:8080/",
     "height": 34
    }
   },
   "source": [
    "def gradients_mult(x1, x2, y, y_):\n",
    "    da = ((y_ - y) * x1).mean()\n",
    "    db = ((y_ - y) * x2).mean()\n",
    "    dc = (y_ - y).mean()\n",
    "\n",
    "    return da, db, dc\n",
    "\n",
    "gradients_mult(x1, x2, y, y_)"
   ],
   "execution_count": null,
   "outputs": [
    {
     "output_type": "execute_result",
     "data": {
      "text/plain": [
       "(-0.17682251230571785, -1.2459663089216684, -0.9666406308813196)"
      ]
     },
     "metadata": {
      "tags": []
     },
     "execution_count": 20
    }
   ]
  },
  {
   "cell_type": "code",
   "metadata": {
    "id": "OmHlnWYdySU6",
    "outputId": "9d775fd3-3973-489d-c41e-22832e15a7ed",
    "colab": {
     "base_uri": "https://localhost:8080/",
     "height": 839,
     "referenced_widgets": [
      "06dfe59bb24841f491f5c1a6cde2bdb7",
      "42576981867446cbbb0d3bcdc9477de1",
      "c7ee2c01a2294c849a5e2fbbd6bd764d",
      "52eb22ae07ce46229e4f3549a0a46b6f",
      "9ad119c3a9b9419b90d37b4cc8169982",
      "f6bd9dc6fa3b4460849b5da989febacb",
      "16d2b3586b9e4340a56936aa28936bd6",
      "6eb776e958f640b18159b508d8ba7e4a"
     ]
    }
   },
   "source": [
    "# initial params\n",
    "a = 1\n",
    "b = 1\n",
    "c = 0\n",
    "lr = 0.1\n",
    "steps = 10_000\n",
    "losses = []\n",
    "\n",
    "for i in tqdm(range(steps)):\n",
    "    y_ = f(x1, x2)\n",
    "    loss = L(y, y_)\n",
    "    losses.append(loss)\n",
    "    da, db, dc = gradients_mult(x1, x2, y, y_)\n",
    "    a -= da*lr\n",
    "    b -= db*lr\n",
    "    c -= dc*lr\n",
    "\n",
    "loss = L(y, y_)\n",
    "display(plot3d(f'f(x) = {a:.2}(x1) + {b:.2}(x2) + {c:.2}<br>L={loss:.2}'))\n",
    "plt.plot(losses);"
   ],
   "execution_count": null,
   "outputs": [
    {
     "output_type": "display_data",
     "data": {
      "application/vnd.jupyter.widget-view+json": {
       "model_id": "06dfe59bb24841f491f5c1a6cde2bdb7",
       "version_minor": 0,
       "version_major": 2
      },
      "text/plain": [
       "HBox(children=(IntProgress(value=0, max=10000), HTML(value='')))"
      ]
     },
     "metadata": {
      "tags": []
     }
    },
    {
     "output_type": "stream",
     "text": [
      "\n"
     ],
     "name": "stdout"
    },
    {
     "output_type": "display_data",
     "data": {
      "text/html": [
       "<html>\n",
       "<head><meta charset=\"utf-8\" /></head>\n",
       "<body>\n",
       "    <div>\n",
       "            <script src=\"https://cdnjs.cloudflare.com/ajax/libs/mathjax/2.7.5/MathJax.js?config=TeX-AMS-MML_SVG\"></script><script type=\"text/javascript\">if (window.MathJax) {MathJax.Hub.Config({SVG: {font: \"STIX-Web\"}});}</script>\n",
       "                <script type=\"text/javascript\">window.PlotlyConfig = {MathJaxConfig: 'local'};</script>\n",
       "        <script src=\"https://cdn.plot.ly/plotly-latest.min.js\"></script>    \n",
       "            <div id=\"05e495b2-c9f8-49b8-bd36-394b5e886048\" class=\"plotly-graph-div\" style=\"height:525px; width:100%;\"></div>\n",
       "            <script type=\"text/javascript\">\n",
       "                \n",
       "                    window.PLOTLYENV=window.PLOTLYENV || {};\n",
       "                    \n",
       "                if (document.getElementById(\"05e495b2-c9f8-49b8-bd36-394b5e886048\")) {\n",
       "                    Plotly.newPlot(\n",
       "                        '05e495b2-c9f8-49b8-bd36-394b5e886048',\n",
       "                        [{\"marker\": {\"opacity\": 0.8, \"size\": 2}, \"mode\": \"markers\", \"type\": \"scatter3d\", \"x\": [1.3903243346428371, -0.23844946966379466, -2.006854924535741, 0.2264918671129992, 0.5491525923769986, -0.9201547367117611, 0.11751965922251345, 0.5326528302257976, 0.3577066583098507, -0.5682346737165347, 0.5794965523695814, 0.9676337480694533, 0.23709713245191155, 0.658595708728368, 0.07221575145611489, 0.27069665372160123, -1.3561153299410513, 0.20568896248085147, 1.6210616618842377, -1.8890902596931736, -2.264284961437702, -2.403596068844635, 0.8841728270939588, 3.617629871741835, 1.8153073681771827, 1.8457387709834192, 0.6104072694523117, 1.4814015106034415, 0.557110324273365, 0.9471489892763603, -0.38229051056093005, -1.1140846113223746, -0.18727300635429767, -0.3192267541478342, 0.6955550904944503, 0.08411671103334584, 1.0701731432311248, -0.3229774816139461, 2.2491651367998498, -0.008386701667096763, 0.5164168444010229, -1.0305271779928709, -0.9634540223772615, -0.7297308869506636, -0.6157145992872836, 0.5945063483622207, -0.9006922636756263, 0.11780596288581646, 0.7313276444223857, 0.420066328813933, 0.2294518688827452, 0.4962430244009396, 0.1323956403502693, 0.9549176785507478, 0.7237226461209151, 0.2322233724054877, 2.0411679413509534, 1.1907913562776966, 0.3589777332759101, -1.851978832672807, 0.37689216923143276, -0.5299892611361625, 1.3592293793093104, -0.3666230246093981, -1.228673848298258, -1.127260736731247, 0.8796322757393468, -1.8142514147071167, -0.22541279277558737, -0.3793606523975144, -0.5361791774859083, 0.7670515579209936, 0.33427479467614246, 1.271248720692498, -0.0416459396017963, 2.3372213171575154, -1.2341074540153034, 0.9222001881239092, -0.5417019682020263, -0.9452218213672157, 1.274644333848614, 1.4053407610292807, -1.5892430759557103, 0.14921350278996254, 1.046676971700396, -2.0731213983843624, 0.073476748793742, 0.304691805758956, 0.01440038129349358, -1.60350617455325, 1.2844470416845746, 0.14090423378727085, -0.6017607214718286, -0.8154278750027693, 0.5164679238666379, 1.5458560173342013, -0.008530099747885211, -0.42156773354918126, 1.4105828068643238, -2.2405005266453886], \"y\": [0.5107874758471455, 1.642486719248736, -1.1447311164597362, -0.1871291597611093, -1.3661753286211848, -1.7665614766887447, 1.792326463894672, 0.14789700051473986, -0.5798662837570249, -2.415854114134496, 0.938482334617937, 0.7904182186244118, 1.3113603978456172, -0.6507850872575189, -0.19316781662450266, 0.5134224235099648, -1.515145691040523, 1.2616038248713624, 0.03283429414007033, 1.1675533516016974, -0.012937569623981182, 1.0408900290154552, 0.24617423211465173, -0.9540429324414006, -0.4528660448202397, 0.4200307391575384, -1.0205111251167862, -0.7515150079251185, 0.9760506354305927, -0.26933832481116843, -1.7622541922011097, 0.32209382074165915, 0.606128292709297, -0.11552095334929041, 0.7031545617778046, 0.9531632140464351, -0.24936050319628955, -0.27589209268560844, 0.1896509948900701, 0.11375688733358069, -1.4393741876202846, 0.8451818462424454, -1.603899498851122, -1.276777559373953, -0.8082055652501927, -0.5455920552387387, 1.4746166431785377, -1.6282780577593763, 2.2682339225835335, 1.0408510063941792, -0.9503669016560863, -0.1678467643394712, -1.0710735325209804, -0.04237330901820924, -0.777182493646171, 1.7202897656260807, -0.0513699740424679, 1.2466129151493335, 0.23072994333134714, -0.8449652337654848, 1.9970139627766998, 0.30199273488848555, 1.0175971386818565, -1.3151380791883556, -1.3534156030059847, -0.025490576609748267, -0.4858190447026048, 0.474382043731571, 0.45126903492294546, 0.3181400245095555, 0.6351197859153981, -0.6893863553176324, 0.16275586648755933, -2.2371165817343615, -0.5260340417730378, 0.44906787993498587, 1.0270328948180403, -1.4550506593786425, 0.7253174971271286, 0.3889137363998385, -1.576972014971651, 0.7419308174080668, 0.5739653534659894, 0.08280159091712741, 2.698862983193918, 0.291704173349253, 0.8093636851562651, 0.14580890848523628, 1.1677269035300435, -2.4375296354824014, -0.7444593404149632, -0.42221845154514925, 0.7097281072417744, 0.3322364317290331, 1.337362812212826, 0.7590727458515125, -0.3079745390561255, -0.823913317344486, 0.03065332016344649, 0.7438660856047208], \"z\": [3.874284837060933, 2.8266684350332594, -3.1037443182649938, 1.2876839361020276, -2.818142200987962, -3.018340415495884, 6.09999197283873, 1.9531136063336574, -0.6934773112378412, -4.976836243472976, 3.381512353473468, 3.0266937371322866, 0.6554165838135155, 1.8197365268818344, 0.21897749667202515, 2.1185217998751584, -2.461659077510175, 3.96414137721915, 2.1981219946156734, 1.3530349019201326, -0.754758718457404, 1.2290286902948298, 2.184999237824012, 3.50424163458413, 2.6946717775958997, 3.1980758323513223, -1.4364798456160792, 1.3059468603251043, 4.08826004531541, 0.9485467917582194, -3.3426148088321845, 1.0663715819085187, 2.1819985625150684, 1.80852047813688, 3.6172094591812503, 5.374567762160102, 2.1006424046483665, -0.7709055034547637, 3.430657009192829, 1.123651241152706, -3.0427774498460263, 2.3365447099863332, -3.1105251965341063, -2.3063271940718177, -1.7854441573841329, -0.602800998398133, 2.831406128291575, -3.0141725294368635, 6.278576918588083, 2.5955215208784472, -2.0870351451788145, 1.2552578069773284, -0.8159508141521912, 2.4134061461594873, 0.22569343820614274, 6.138457908743886, 2.30245878168318, 5.793522415035124, 0.8278051357789625, -3.2242507737325705, 4.961650894174224, 0.8265209355731867, 5.922274776071401, -2.6463375538932254, -4.204520580409804, 0.5766341807757969, 0.8840857437334169, -1.4230297992749692, 2.0234768536841585, 2.199283894078407, 1.3485835776388384, 1.9484876282529622, 3.2049482875681212, -2.89467209690079, 0.7708044489790777, 2.137565203753742, 1.9902530304293673, -1.7457307829842952, 2.876743442203423, -0.04191939325993721, 0.1485406939721412, 3.0863127674073936, 0.13038422329658328, 0.5594008508138004, 7.6648998370349775, -1.862827236340946, 3.338962456393984, 0.9228078087097631, 5.591720690896887, -5.725052566115197, 0.03192402203129974, 0.7772560737901641, 0.9858962902120113, 1.4422342197447455, 3.7424144090405553, 4.551697447214311, 0.4318355515939669, -0.5236099029507364, 1.788767046114978, -0.41178566377119763]}, {\"opacity\": 0.5, \"type\": \"mesh3d\", \"x\": [-4, -4, 4, 4], \"y\": [-4, 4, -4, 4], \"z\": [-11.6555562803298, 5.410753514976031, -3.517425210808446, 13.548884584497385]}],\n",
       "                        {\"scene\": {\"xaxis\": {\"title\": {\"text\": \"x1\"}}, \"yaxis\": {\"title\": {\"text\": \"x2\"}}, \"zaxis\": {\"title\": {\"text\": \"y\"}}}, \"template\": {\"data\": {\"bar\": [{\"error_x\": {\"color\": \"#2a3f5f\"}, \"error_y\": {\"color\": \"#2a3f5f\"}, \"marker\": {\"line\": {\"color\": \"#E5ECF6\", \"width\": 0.5}}, \"type\": \"bar\"}], \"barpolar\": [{\"marker\": {\"line\": {\"color\": \"#E5ECF6\", \"width\": 0.5}}, \"type\": \"barpolar\"}], \"carpet\": [{\"aaxis\": {\"endlinecolor\": \"#2a3f5f\", \"gridcolor\": \"white\", \"linecolor\": \"white\", \"minorgridcolor\": \"white\", \"startlinecolor\": \"#2a3f5f\"}, \"baxis\": {\"endlinecolor\": \"#2a3f5f\", \"gridcolor\": \"white\", \"linecolor\": \"white\", \"minorgridcolor\": \"white\", \"startlinecolor\": \"#2a3f5f\"}, \"type\": \"carpet\"}], \"choropleth\": [{\"colorbar\": {\"outlinewidth\": 0, \"ticks\": \"\"}, \"type\": \"choropleth\"}], \"contour\": [{\"colorbar\": {\"outlinewidth\": 0, \"ticks\": \"\"}, \"colorscale\": [[0.0, \"#0d0887\"], [0.1111111111111111, \"#46039f\"], [0.2222222222222222, \"#7201a8\"], [0.3333333333333333, \"#9c179e\"], [0.4444444444444444, \"#bd3786\"], [0.5555555555555556, \"#d8576b\"], [0.6666666666666666, \"#ed7953\"], [0.7777777777777778, \"#fb9f3a\"], [0.8888888888888888, \"#fdca26\"], [1.0, \"#f0f921\"]], \"type\": \"contour\"}], \"contourcarpet\": [{\"colorbar\": {\"outlinewidth\": 0, \"ticks\": \"\"}, \"type\": \"contourcarpet\"}], \"heatmap\": [{\"colorbar\": {\"outlinewidth\": 0, \"ticks\": \"\"}, \"colorscale\": [[0.0, \"#0d0887\"], [0.1111111111111111, \"#46039f\"], [0.2222222222222222, \"#7201a8\"], [0.3333333333333333, \"#9c179e\"], [0.4444444444444444, \"#bd3786\"], [0.5555555555555556, \"#d8576b\"], [0.6666666666666666, \"#ed7953\"], [0.7777777777777778, \"#fb9f3a\"], [0.8888888888888888, \"#fdca26\"], [1.0, \"#f0f921\"]], \"type\": \"heatmap\"}], \"heatmapgl\": [{\"colorbar\": {\"outlinewidth\": 0, \"ticks\": \"\"}, \"colorscale\": [[0.0, \"#0d0887\"], [0.1111111111111111, \"#46039f\"], [0.2222222222222222, \"#7201a8\"], [0.3333333333333333, \"#9c179e\"], [0.4444444444444444, \"#bd3786\"], [0.5555555555555556, \"#d8576b\"], [0.6666666666666666, \"#ed7953\"], [0.7777777777777778, \"#fb9f3a\"], [0.8888888888888888, \"#fdca26\"], [1.0, \"#f0f921\"]], \"type\": \"heatmapgl\"}], \"histogram\": [{\"marker\": {\"colorbar\": {\"outlinewidth\": 0, \"ticks\": \"\"}}, \"type\": \"histogram\"}], \"histogram2d\": [{\"colorbar\": {\"outlinewidth\": 0, \"ticks\": \"\"}, \"colorscale\": [[0.0, \"#0d0887\"], [0.1111111111111111, \"#46039f\"], [0.2222222222222222, \"#7201a8\"], [0.3333333333333333, \"#9c179e\"], [0.4444444444444444, \"#bd3786\"], [0.5555555555555556, \"#d8576b\"], [0.6666666666666666, \"#ed7953\"], [0.7777777777777778, \"#fb9f3a\"], [0.8888888888888888, \"#fdca26\"], [1.0, \"#f0f921\"]], \"type\": \"histogram2d\"}], \"histogram2dcontour\": [{\"colorbar\": {\"outlinewidth\": 0, \"ticks\": \"\"}, \"colorscale\": [[0.0, \"#0d0887\"], [0.1111111111111111, \"#46039f\"], [0.2222222222222222, \"#7201a8\"], [0.3333333333333333, \"#9c179e\"], [0.4444444444444444, \"#bd3786\"], [0.5555555555555556, \"#d8576b\"], [0.6666666666666666, \"#ed7953\"], [0.7777777777777778, \"#fb9f3a\"], [0.8888888888888888, \"#fdca26\"], [1.0, \"#f0f921\"]], \"type\": \"histogram2dcontour\"}], \"mesh3d\": [{\"colorbar\": {\"outlinewidth\": 0, \"ticks\": \"\"}, \"type\": \"mesh3d\"}], \"parcoords\": [{\"line\": {\"colorbar\": {\"outlinewidth\": 0, \"ticks\": \"\"}}, \"type\": \"parcoords\"}], \"pie\": [{\"automargin\": true, \"type\": \"pie\"}], \"scatter\": [{\"marker\": {\"colorbar\": {\"outlinewidth\": 0, \"ticks\": \"\"}}, \"type\": \"scatter\"}], \"scatter3d\": [{\"line\": {\"colorbar\": {\"outlinewidth\": 0, \"ticks\": \"\"}}, \"marker\": {\"colorbar\": {\"outlinewidth\": 0, \"ticks\": \"\"}}, \"type\": \"scatter3d\"}], \"scattercarpet\": [{\"marker\": {\"colorbar\": {\"outlinewidth\": 0, \"ticks\": \"\"}}, \"type\": \"scattercarpet\"}], \"scattergeo\": [{\"marker\": {\"colorbar\": {\"outlinewidth\": 0, \"ticks\": \"\"}}, \"type\": \"scattergeo\"}], \"scattergl\": [{\"marker\": {\"colorbar\": {\"outlinewidth\": 0, \"ticks\": \"\"}}, \"type\": \"scattergl\"}], \"scattermapbox\": [{\"marker\": {\"colorbar\": {\"outlinewidth\": 0, \"ticks\": \"\"}}, \"type\": \"scattermapbox\"}], \"scatterpolar\": [{\"marker\": {\"colorbar\": {\"outlinewidth\": 0, \"ticks\": \"\"}}, \"type\": \"scatterpolar\"}], \"scatterpolargl\": [{\"marker\": {\"colorbar\": {\"outlinewidth\": 0, \"ticks\": \"\"}}, \"type\": \"scatterpolargl\"}], \"scatterternary\": [{\"marker\": {\"colorbar\": {\"outlinewidth\": 0, \"ticks\": \"\"}}, \"type\": \"scatterternary\"}], \"surface\": [{\"colorbar\": {\"outlinewidth\": 0, \"ticks\": \"\"}, \"colorscale\": [[0.0, \"#0d0887\"], [0.1111111111111111, \"#46039f\"], [0.2222222222222222, \"#7201a8\"], [0.3333333333333333, \"#9c179e\"], [0.4444444444444444, \"#bd3786\"], [0.5555555555555556, \"#d8576b\"], [0.6666666666666666, \"#ed7953\"], [0.7777777777777778, \"#fb9f3a\"], [0.8888888888888888, \"#fdca26\"], [1.0, \"#f0f921\"]], \"type\": \"surface\"}], \"table\": [{\"cells\": {\"fill\": {\"color\": \"#EBF0F8\"}, \"line\": {\"color\": \"white\"}}, \"header\": {\"fill\": {\"color\": \"#C8D4E3\"}, \"line\": {\"color\": \"white\"}}, \"type\": \"table\"}]}, \"layout\": {\"annotationdefaults\": {\"arrowcolor\": \"#2a3f5f\", \"arrowhead\": 0, \"arrowwidth\": 1}, \"coloraxis\": {\"colorbar\": {\"outlinewidth\": 0, \"ticks\": \"\"}}, \"colorscale\": {\"diverging\": [[0, \"#8e0152\"], [0.1, \"#c51b7d\"], [0.2, \"#de77ae\"], [0.3, \"#f1b6da\"], [0.4, \"#fde0ef\"], [0.5, \"#f7f7f7\"], [0.6, \"#e6f5d0\"], [0.7, \"#b8e186\"], [0.8, \"#7fbc41\"], [0.9, \"#4d9221\"], [1, \"#276419\"]], \"sequential\": [[0.0, \"#0d0887\"], [0.1111111111111111, \"#46039f\"], [0.2222222222222222, \"#7201a8\"], [0.3333333333333333, \"#9c179e\"], [0.4444444444444444, \"#bd3786\"], [0.5555555555555556, \"#d8576b\"], [0.6666666666666666, \"#ed7953\"], [0.7777777777777778, \"#fb9f3a\"], [0.8888888888888888, \"#fdca26\"], [1.0, \"#f0f921\"]], \"sequentialminus\": [[0.0, \"#0d0887\"], [0.1111111111111111, \"#46039f\"], [0.2222222222222222, \"#7201a8\"], [0.3333333333333333, \"#9c179e\"], [0.4444444444444444, \"#bd3786\"], [0.5555555555555556, \"#d8576b\"], [0.6666666666666666, \"#ed7953\"], [0.7777777777777778, \"#fb9f3a\"], [0.8888888888888888, \"#fdca26\"], [1.0, \"#f0f921\"]]}, \"colorway\": [\"#636efa\", \"#EF553B\", \"#00cc96\", \"#ab63fa\", \"#FFA15A\", \"#19d3f3\", \"#FF6692\", \"#B6E880\", \"#FF97FF\", \"#FECB52\"], \"font\": {\"color\": \"#2a3f5f\"}, \"geo\": {\"bgcolor\": \"white\", \"lakecolor\": \"white\", \"landcolor\": \"#E5ECF6\", \"showlakes\": true, \"showland\": true, \"subunitcolor\": \"white\"}, \"hoverlabel\": {\"align\": \"left\"}, \"hovermode\": \"closest\", \"mapbox\": {\"style\": \"light\"}, \"paper_bgcolor\": \"white\", \"plot_bgcolor\": \"#E5ECF6\", \"polar\": {\"angularaxis\": {\"gridcolor\": \"white\", \"linecolor\": \"white\", \"ticks\": \"\"}, \"bgcolor\": \"#E5ECF6\", \"radialaxis\": {\"gridcolor\": \"white\", \"linecolor\": \"white\", \"ticks\": \"\"}}, \"scene\": {\"xaxis\": {\"backgroundcolor\": \"#E5ECF6\", \"gridcolor\": \"white\", \"gridwidth\": 2, \"linecolor\": \"white\", \"showbackground\": true, \"ticks\": \"\", \"zerolinecolor\": \"white\"}, \"yaxis\": {\"backgroundcolor\": \"#E5ECF6\", \"gridcolor\": \"white\", \"gridwidth\": 2, \"linecolor\": \"white\", \"showbackground\": true, \"ticks\": \"\", \"zerolinecolor\": \"white\"}, \"zaxis\": {\"backgroundcolor\": \"#E5ECF6\", \"gridcolor\": \"white\", \"gridwidth\": 2, \"linecolor\": \"white\", \"showbackground\": true, \"ticks\": \"\", \"zerolinecolor\": \"white\"}}, \"shapedefaults\": {\"line\": {\"color\": \"#2a3f5f\"}}, \"ternary\": {\"aaxis\": {\"gridcolor\": \"white\", \"linecolor\": \"white\", \"ticks\": \"\"}, \"baxis\": {\"gridcolor\": \"white\", \"linecolor\": \"white\", \"ticks\": \"\"}, \"bgcolor\": \"#E5ECF6\", \"caxis\": {\"gridcolor\": \"white\", \"linecolor\": \"white\", \"ticks\": \"\"}}, \"title\": {\"x\": 0.05}, \"xaxis\": {\"automargin\": true, \"gridcolor\": \"white\", \"linecolor\": \"white\", \"ticks\": \"\", \"title\": {\"standoff\": 15}, \"zerolinecolor\": \"white\", \"zerolinewidth\": 2}, \"yaxis\": {\"automargin\": true, \"gridcolor\": \"white\", \"linecolor\": \"white\", \"ticks\": \"\", \"title\": {\"standoff\": 15}, \"zerolinecolor\": \"white\", \"zerolinewidth\": 2}}}, \"title\": {\"text\": \"f(x) = 1.0(x1) + 2.1(x2) + 0.95<br>L=0.41\"}},\n",
       "                        {\"responsive\": true}\n",
       "                    ).then(function(){\n",
       "                            \n",
       "var gd = document.getElementById('05e495b2-c9f8-49b8-bd36-394b5e886048');\n",
       "var x = new MutationObserver(function (mutations, observer) {{\n",
       "        var display = window.getComputedStyle(gd).display;\n",
       "        if (!display || display === 'none') {{\n",
       "            console.log([gd, 'removed!']);\n",
       "            Plotly.purge(gd);\n",
       "            observer.disconnect();\n",
       "        }}\n",
       "}});\n",
       "\n",
       "// Listen for the removal of the full notebook cells\n",
       "var notebookContainer = gd.closest('#notebook-container');\n",
       "if (notebookContainer) {{\n",
       "    x.observe(notebookContainer, {childList: true});\n",
       "}}\n",
       "\n",
       "// Listen for the clearing of the current output cell\n",
       "var outputEl = gd.closest('.output');\n",
       "if (outputEl) {{\n",
       "    x.observe(outputEl, {childList: true});\n",
       "}}\n",
       "\n",
       "                        })\n",
       "                };\n",
       "                \n",
       "            </script>\n",
       "        </div>\n",
       "</body>\n",
       "</html>"
      ]
     },
     "metadata": {
      "tags": []
     }
    },
    {
     "output_type": "display_data",
     "data": {
      "image/png": "[encoded data removed]",
      "text/plain": [
       "<Figure size 432x288 with 1 Axes>"
      ]
     },
     "metadata": {
      "tags": [],
      "needs_background": "light"
     }
    }
   ]
  },
  {
   "cell_type": "markdown",
   "metadata": {
    "id": "4Rs4VOITySU8"
   },
   "source": "# Casas Multi"
  },
  {
   "cell_type": "code",
   "metadata": {
    "id": "uobIJQ4EySU8",
    "outputId": "3fa8706c-b5c4-4376-8e23-e6515d45888a",
    "colab": {
     "base_uri": "https://localhost:8080/",
     "height": 221
    }
   },
   "source": [
    "df = pd.read_table(url_casas_mult, names=['m2_construidos', 'num_cuartos', 'num_banos', 'm2_habitables', 'precio'])\n",
    "print(df.shape)\n",
    "df.head()"
   ],
   "execution_count": null,
   "outputs": [
    {
     "output_type": "stream",
     "text": [
      "(58, 5)\n"
     ],
     "name": "stdout"
    },
    {
     "output_type": "execute_result",
     "data": {
      "text/html": [
       "<div>\n",
       "<style scoped>\n",
       "    .dataframe tbody tr th:only-of-type {\n",
       "        vertical-align: middle;\n",
       "    }\n",
       "\n",
       "    .dataframe tbody tr th {\n",
       "        vertical-align: top;\n",
       "    }\n",
       "\n",
       "    .dataframe thead th {\n",
       "        text-align: right;\n",
       "    }\n",
       "</style>\n",
       "<table border=\"1\" class=\"dataframe\">\n",
       "  <thead>\n",
       "    <tr style=\"text-align: right;\">\n",
       "      <th></th>\n",
       "      <th>m2_construidos</th>\n",
       "      <th>num_cuartos</th>\n",
       "      <th>num_banos</th>\n",
       "      <th>m2_habitables</th>\n",
       "      <th>precio</th>\n",
       "    </tr>\n",
       "  </thead>\n",
       "  <tbody>\n",
       "    <tr>\n",
       "      <th>0</th>\n",
       "      <td>132.3</td>\n",
       "      <td>3</td>\n",
       "      <td>2</td>\n",
       "      <td>66.15</td>\n",
       "      <td>319000.0</td>\n",
       "    </tr>\n",
       "    <tr>\n",
       "      <th>1</th>\n",
       "      <td>141.5</td>\n",
       "      <td>3</td>\n",
       "      <td>2</td>\n",
       "      <td>70.75</td>\n",
       "      <td>389000.0</td>\n",
       "    </tr>\n",
       "    <tr>\n",
       "      <th>2</th>\n",
       "      <td>71.2</td>\n",
       "      <td>1</td>\n",
       "      <td>1</td>\n",
       "      <td>71.20</td>\n",
       "      <td>199000.0</td>\n",
       "    </tr>\n",
       "    <tr>\n",
       "      <th>3</th>\n",
       "      <td>277.4</td>\n",
       "      <td>3</td>\n",
       "      <td>2</td>\n",
       "      <td>138.70</td>\n",
       "      <td>599000.0</td>\n",
       "    </tr>\n",
       "    <tr>\n",
       "      <th>4</th>\n",
       "      <td>338.7</td>\n",
       "      <td>4</td>\n",
       "      <td>4</td>\n",
       "      <td>84.68</td>\n",
       "      <td>750000.0</td>\n",
       "    </tr>\n",
       "  </tbody>\n",
       "</table>\n",
       "</div>"
      ],
      "text/plain": [
       "   m2_construidos  num_cuartos  num_banos  m2_habitables    precio\n",
       "0           132.3            3          2          66.15  319000.0\n",
       "1           141.5            3          2          70.75  389000.0\n",
       "2            71.2            1          1          71.20  199000.0\n",
       "3           277.4            3          2         138.70  599000.0\n",
       "4           338.7            4          4          84.68  750000.0"
      ]
     },
     "metadata": {
      "tags": []
     },
     "execution_count": 26
    }
   ]
  },
  {
   "cell_type": "code",
   "metadata": {
    "id": "YAiU07N4ySU_",
    "outputId": "cdc70723-fc84-4609-f470-797d348fe234",
    "colab": {
     "base_uri": "https://localhost:8080/",
     "height": 34
    }
   },
   "source": [
    "# Separamos las variables dependientes e independientes\n",
    "x = df.drop('precio', axis=1)\n",
    "y = np.log(df['precio'].values)\n",
    "\n",
    "# Para evaluar el modelo dividimos la data en un conjunto de entrenamiento y validación\n",
    "x_train, x_val, y_train, y_val = train_test_split(x, y, test_size=0.33, random_state=42)\n",
    "x_train.shape, x_val.shape"
   ],
   "execution_count": null,
   "outputs": [
    {
     "output_type": "execute_result",
     "data": {
      "text/plain": [
       "((38, 4), (20, 4))"
      ]
     },
     "metadata": {
      "tags": []
     },
     "execution_count": 27
    }
   ]
  },
  {
   "cell_type": "code",
   "metadata": {
    "id": "fm-J0nZxySVB"
   },
   "source": [
    "# Usamos el metodo StandardScaler para normalizar todas las variables\n",
    "scaler = StandardScaler()\n",
    "x_train = scaler.fit_transform(x_train)\n",
    "\n",
    "# Aplicamos el scaler al conjunto de validación\n",
    "x_val = scaler.transform(x_val)"
   ],
   "execution_count": null,
   "outputs": []
  },
  {
   "cell_type": "code",
   "metadata": {
    "id": "HkqQgAasySVD"
   },
   "source": [
    "# Separamos las variables\n",
    "x1_train, x1_val = x_train[:, 0], x_val[:, 0]\n",
    "x2_train, x2_val = x_train[:, 1], x_val[:, 1]\n",
    "x3_train, x3_val = x_train[:, 2], x_val[:, 2]\n",
    "x4_train, x4_val = x_train[:, 3], x_val[:, 3]"
   ],
   "execution_count": null,
   "outputs": []
  },
  {
   "cell_type": "markdown",
   "metadata": {
    "id": "r1jvE2uVySVE"
   },
   "source": [
    "$ f(x_{1i}, x_{2i}) = ax_{1i} + bx_{2i} + cx_{3i} + dx_{4i} + e $"
   ]
  },
  {
   "cell_type": "code",
   "metadata": {
    "id": "yoerTYSmySVE",
    "outputId": "3f08878b-8726-4368-a426-e6d1d9d911f6",
    "colab": {
     "base_uri": "https://localhost:8080/",
     "height": 51
    }
   },
   "source": [
    "# Definimos el modelo\n",
    "\n",
    "y_train_ = f(x1_train, x2_train, x3_train, x4_train)\n",
    "y_val_ = f(x1_val, x2_val, x3_val, x4_val)\n",
    "\n",
    "print(f'Train loss      = {L(y_train, y_train_):.4f}')\n",
    "print(f'Validation loss = {L(y_val, y_val_):.4f}')"
   ],
   "execution_count": null,
   "outputs": [
    {
     "output_type": "stream",
     "text": [
      "Train loss      = 84.0930\n",
      "Validation loss = 76.3324\n"
     ],
     "name": "stdout"
    }
   ]
  },
  {
   "cell_type": "markdown",
   "metadata": {
    "id": "rFdIKJxKySVK"
   },
   "source": [
    "# Usando matrices"
   ]
  },
  {
   "metadata": {
    "id": "q9Gj1xNnySVI",
    "outputId": "878e1c3f-8e13-455c-81c4-38051f10a171",
    "colab": {
     "base_uri": "https://localhost:8080/",
     "height": 365,
     "referenced_widgets": [
      "27ba1cf038264537bdefcd7bf8cf2646",
      "b42f9790649b4e979975b16933b09871",
      "bf92d722583b4aeeaed37778574a89ef",
      "dce211bf6cd249b8ad35dca55b1e03da",
      "0ead02aca1a24f668d4ca5708a8bb679",
      "0a61290be9584285bfe86e2da29cc3be",
      "523069b0a86048898ca2b725932aaa70",
      "683dc447c49345159455eadea186fc42"
     ]
    }
   },
   "cell_type": "code",
   "outputs": [
    {
     "output_type": "display_data",
     "data": {
      "application/vnd.jupyter.widget-view+json": {
       "model_id": "27ba1cf038264537bdefcd7bf8cf2646",
       "version_minor": 0,
       "version_major": 2
      },
      "text/plain": [
       "HBox(children=(IntProgress(value=0, max=10000), HTML(value='')))"
      ]
     },
     "metadata": {
      "tags": []
     }
    },
    {
     "output_type": "stream",
     "text": [
      "\n",
      "f(x) = 0.64*x1 + -0.14*x2 + -0.01*x3 + -0.02*x4 + 12.69\n",
      "Train loss      = 0.0505\n",
      "Validation loss = 0.0312\n"
     ],
     "name": "stdout"
    },
    {
     "output_type": "display_data",
     "data": {
      "image/png": "[encoded data removed]",
      "text/plain": [
       "<Figure size 432x288 with 1 Axes>"
      ]
     },
     "metadata": {
      "tags": [],
      "needs_background": "light"
     }
    }
   ],
   "execution_count": null,
   "source": [
    "print(f'f(x) = {a:.2f}*x1 + {b:.2f}*x2 + {c:.2f}*x3 + {d:.2f}*x4 + {e:.2f}')\n",
    "print(f'Train loss      = {loss_train:.4f}')\n",
    "print(f'Validation loss = {loss_val:.4f}')\n",
    "plot_losses()"
   ]
  },
  {
   "cell_type": "code",
   "metadata": {
    "id": "YyKs9NwiySVL",
    "outputId": "0a0fbdef-7f3b-4105-fcdf-36dd70131cd0",
    "colab": {
     "base_uri": "https://localhost:8080/",
     "height": 34
    }
   },
   "source": [
    "# Usamos la misma data del ejercicio 2\n",
    "df = pd.read_table(url_casas_mult, names=['m2_construidos', 'num_cuartos', 'num_banos', 'm2_habitables', 'precio'])\n",
    "\n",
    "# Separamos las variables dependientes e independientes\n",
    "x = df.drop('precio', axis=1)\n",
    "y = np.log(df['precio'].values)\n",
    "\n",
    "# Para evaluar el modelo dividimos la data en un conjunto de entrenamiento y validación\n",
    "x_train, x_val, y_train, y_val = train_test_split(x, y, test_size=0.33, random_state=42)\n",
    "\n",
    "# Usamos el metodo StandardScaler para normalizar todas las variables\n",
    "scaler = StandardScaler()\n",
    "x_train = scaler.fit_transform(x_train)\n",
    "\n",
    "# Aplicamos el scaler al conjunto de validación\n",
    "x_val = scaler.transform(x_val)\n",
    "\n",
    "x_train.shape, x_val.shape, y_train.shape, y_val.shape"
   ],
   "execution_count": null,
   "outputs": [
    {
     "output_type": "execute_result",
     "data": {
      "text/plain": [
       "((38, 4), (20, 4), (38,), (20,))"
      ]
     },
     "metadata": {
      "tags": []
     },
     "execution_count": 35
    }
   ]
  },
  {
   "cell_type": "code",
   "metadata": {
    "id": "AQCX72pXySVN",
    "outputId": "88b66bdf-8321-4376-9185-b864561b7a32",
    "colab": {
     "base_uri": "https://localhost:8080/",
     "height": 34
    }
   },
   "source": [
    "# Creamos una matriz de pesos y un valor para el bias\n",
    "w = np.ones([x.shape[1], 1])\n",
    "b = 0\n",
    "\n",
    "w.shape"
   ],
   "execution_count": null,
   "outputs": [
    {
     "output_type": "execute_result",
     "data": {
      "text/plain": [
       "(4, 1)"
      ]
     },
     "metadata": {
      "tags": []
     },
     "execution_count": 36
    }
   ]
  },
  {
   "cell_type": "code",
   "metadata": {
    "id": "AWcJSrl-ySVO",
    "outputId": "3e8b60b3-a8f7-486b-eace-b1a83284645c",
    "colab": {
     "base_uri": "https://localhost:8080/",
     "height": 34
    }
   },
   "source": [
    "# Definimos el modelo\n",
    "def f(x): return x@w + b\n",
    "\n",
    "y_train_ = f(x_train)\n",
    "y_train_.shape, y_train.shape"
   ],
   "execution_count": null,
   "outputs": [
    {
     "output_type": "execute_result",
     "data": {
      "text/plain": [
       "((38, 1), (38,))"
      ]
     },
     "metadata": {
      "tags": []
     },
     "execution_count": 37
    }
   ]
  },
  {
   "cell_type": "code",
   "metadata": {
    "id": "bAYzxLIsySVR",
    "outputId": "82e0408b-1eb0-406e-c7dd-332d3806f7b9",
    "colab": {
     "base_uri": "https://localhost:8080/",
     "height": 34
    }
   },
   "source": [
    "# Usamos la funcion ravel() para que el resultado tenga solo 1 dimension\n",
    "def f(x): return (x@w + b).ravel()\n",
    "\n",
    "y_train_ = f(x_train)\n",
    "y_train_.shape, y_train.shape"
   ],
   "execution_count": null,
   "outputs": [
    {
     "output_type": "execute_result",
     "data": {
      "text/plain": [
       "((38,), (38,))"
      ]
     },
     "metadata": {
      "tags": []
     },
     "execution_count": 38
    }
   ]
  },
  {
   "cell_type": "code",
   "metadata": {
    "id": "9RsXO05pySVT",
    "outputId": "48ee401c-5826-41e0-fe49-7de229fd434a",
    "colab": {
     "base_uri": "https://localhost:8080/",
     "height": 51
    }
   },
   "source": [
    "y_val_ = f(x_val)\n",
    "print(f'Train loss      = {L(y_train, y_train_):.4f}')\n",
    "print(f'Validation loss = {L(y_val, y_val_):.4f}')"
   ],
   "execution_count": null,
   "outputs": [
    {
     "output_type": "stream",
     "text": [
      "Train loss      = 84.0930\n",
      "Validation loss = 76.3324\n"
     ],
     "name": "stdout"
    }
   ]
  },
  {
   "cell_type": "code",
   "metadata": {
    "id": "6zhpDbbzySVV",
    "outputId": "909d20f4-e65c-4e6f-d9f6-107b2d0e0262",
    "colab": {
     "base_uri": "https://localhost:8080/",
     "height": 85
    }
   },
   "source": [
    "def gradients_matrices(x, y, y_):\n",
    "    dw = (x.T @ (y_ - y)) / len(x)\n",
    "    db = (y_ - y).mean()\n",
    "    return dw[:,None], db\n",
    "\n",
    "gradients_matrices(x_train, y_train, y_train_)"
   ],
   "execution_count": null,
   "outputs": [
    {
     "output_type": "execute_result",
     "data": {
      "text/plain": [
       "(array([[2.4983424 ],\n",
       "        [2.41344952],\n",
       "        [2.13058758],\n",
       "        [1.13592854]]), -12.694690176511244)"
      ]
     },
     "metadata": {
      "tags": []
     },
     "execution_count": 40
    }
   ]
  },
  {
   "cell_type": "code",
   "metadata": {
    "id": "IbLfFBcmySVX",
    "outputId": "6f519a2d-2879-4b46-bce4-7574ba56027c",
    "colab": {
     "base_uri": "https://localhost:8080/",
     "height": 382,
     "referenced_widgets": [
      "100c2c298c394d63a7c6bf38365da624",
      "41d3da88749d468aab0296f14ae1673b",
      "4d08b4bf6fff4966bd3829f6301af20b",
      "6e07af65d154494a98c561c82ff016ea",
      "9083acd1f70e463fada71c18db14c919",
      "c81ca44833084e2dbdec8cfc2f3d8f24",
      "eb3c27c122ee4d5a8ac91ff9c23b39e5",
      "c16099d5236e4ad7819ec4907e9e6885"
     ]
    }
   },
   "source": [
    "w = np.ones([x.shape[1], 1])\n",
    "b = 0\n",
    "lr = 0.1\n",
    "steps = 10_000\n",
    "losses_train = []\n",
    "losses_val = []\n",
    "\n",
    "for i in tqdm(range(steps)):\n",
    "    y_ = f(x_train)\n",
    "\n",
    "    loss_train = L(y_train, y_)\n",
    "    loss_val = L(y_val, f(x_val))\n",
    "    losses_train.append(loss_train)\n",
    "    losses_val.append(loss_val)\n",
    "\n",
    "    dw, db = gradients_matrices(x_train, y_train, y_)\n",
    "    w -= dw*lr\n",
    "    b -= db*lr\n",
    "\n",
    "print(f'w = {w.ravel().round(2)}')\n",
    "print(f'b = {b:.2f}')\n",
    "print(f'Train loss      = {loss_train:.4f}')\n",
    "print(f'Validation loss = {loss_val:.4f}')\n",
    "plot_losses()"
   ],
   "execution_count": null,
   "outputs": [
    {
     "output_type": "display_data",
     "data": {
      "application/vnd.jupyter.widget-view+json": {
       "model_id": "100c2c298c394d63a7c6bf38365da624",
       "version_minor": 0,
       "version_major": 2
      },
      "text/plain": [
       "HBox(children=(IntProgress(value=0, max=10000), HTML(value='')))"
      ]
     },
     "metadata": {
      "tags": []
     }
    },
    {
     "output_type": "stream",
     "text": [
      "\n",
      "w = [ 0.64 -0.14 -0.01 -0.02]\n",
      "b = 12.69\n",
      "Train loss      = 0.0505\n",
      "Validation loss = 0.0312\n"
     ],
     "name": "stdout"
    },
    {
     "output_type": "display_data",
     "data": {
      "image/png": "[encoded data removed]",
      "text/plain": [
       "<Figure size 432x288 with 1 Axes>"
      ]
     },
     "metadata": {
      "tags": [],
      "needs_background": "light"
     }
    }
   ]
  },
  {
   "cell_type": "code",
   "metadata": {
    "id": "xeBOOgeXySVZ",
    "outputId": "ad303a1d-4fd1-497f-ed6d-75b2029af75e",
    "colab": {
     "base_uri": "https://localhost:8080/",
     "height": 162
    }
   },
   "source": [
    "n = 15\n",
    "results = pd.DataFrame({'real': y_val, 'pred': f(x_val)})\n",
    "results['error'] = results['pred'] - results['real']\n",
    "results.head(n).round(4).T"
   ],
   "execution_count": null,
   "outputs": [
    {
     "output_type": "execute_result",
     "data": {
      "text/html": [
       "<div>\n",
       "<style scoped>\n",
       "    .dataframe tbody tr th:only-of-type {\n",
       "        vertical-align: middle;\n",
       "    }\n",
       "\n",
       "    .dataframe tbody tr th {\n",
       "        vertical-align: top;\n",
       "    }\n",
       "\n",
       "    .dataframe thead th {\n",
       "        text-align: right;\n",
       "    }\n",
       "</style>\n",
       "<table border=\"1\" class=\"dataframe\">\n",
       "  <thead>\n",
       "    <tr style=\"text-align: right;\">\n",
       "      <th></th>\n",
       "      <th>0</th>\n",
       "      <th>1</th>\n",
       "      <th>2</th>\n",
       "      <th>3</th>\n",
       "      <th>4</th>\n",
       "      <th>5</th>\n",
       "      <th>6</th>\n",
       "      <th>7</th>\n",
       "      <th>8</th>\n",
       "      <th>9</th>\n",
       "      <th>10</th>\n",
       "      <th>11</th>\n",
       "      <th>12</th>\n",
       "      <th>13</th>\n",
       "      <th>14</th>\n",
       "    </tr>\n",
       "  </thead>\n",
       "  <tbody>\n",
       "    <tr>\n",
       "      <th>real</th>\n",
       "      <td>12.6729</td>\n",
       "      <td>13.6048</td>\n",
       "      <td>12.6099</td>\n",
       "      <td>12.8980</td>\n",
       "      <td>13.0168</td>\n",
       "      <td>13.0169</td>\n",
       "      <td>12.8186</td>\n",
       "      <td>13.3692</td>\n",
       "      <td>12.7219</td>\n",
       "      <td>12.3842</td>\n",
       "      <td>12.2011</td>\n",
       "      <td>13.3030</td>\n",
       "      <td>13.4135</td>\n",
       "      <td>12.4854</td>\n",
       "      <td>12.9692</td>\n",
       "    </tr>\n",
       "    <tr>\n",
       "      <th>pred</th>\n",
       "      <td>12.3777</td>\n",
       "      <td>13.3485</td>\n",
       "      <td>12.5535</td>\n",
       "      <td>12.5532</td>\n",
       "      <td>12.8200</td>\n",
       "      <td>12.7251</td>\n",
       "      <td>12.4757</td>\n",
       "      <td>12.8331</td>\n",
       "      <td>12.8720</td>\n",
       "      <td>12.2233</td>\n",
       "      <td>12.2156</td>\n",
       "      <td>13.1223</td>\n",
       "      <td>13.0648</td>\n",
       "      <td>12.1890</td>\n",
       "      <td>12.9315</td>\n",
       "    </tr>\n",
       "    <tr>\n",
       "      <th>error</th>\n",
       "      <td>-0.2952</td>\n",
       "      <td>-0.2563</td>\n",
       "      <td>-0.0564</td>\n",
       "      <td>-0.3447</td>\n",
       "      <td>-0.1968</td>\n",
       "      <td>-0.2918</td>\n",
       "      <td>-0.3428</td>\n",
       "      <td>-0.5361</td>\n",
       "      <td>0.1501</td>\n",
       "      <td>-0.1610</td>\n",
       "      <td>0.0145</td>\n",
       "      <td>-0.1807</td>\n",
       "      <td>-0.3487</td>\n",
       "      <td>-0.2964</td>\n",
       "      <td>-0.0377</td>\n",
       "    </tr>\n",
       "  </tbody>\n",
       "</table>\n",
       "</div>"
      ],
      "text/plain": [
       "            0        1        2        3   ...       11       12       13       14\n",
       "real   12.6729  13.6048  12.6099  12.8980  ...  13.3030  13.4135  12.4854  12.9692\n",
       "pred   12.3777  13.3485  12.5535  12.5532  ...  13.1223  13.0648  12.1890  12.9315\n",
       "error  -0.2952  -0.2563  -0.0564  -0.3447  ...  -0.1807  -0.3487  -0.2964  -0.0377\n",
       "\n",
       "[3 rows x 15 columns]"
      ]
     },
     "metadata": {
      "tags": []
     },
     "execution_count": 43
    }
   ]
  },
  {
   "cell_type": "markdown",
   "metadata": {
    "id": "4tWef_i0ySVb"
   },
   "source": [
    "# Ejercicio 3: Diabetes Dataset"
   ]
  },
  {
   "cell_type": "code",
   "metadata": {
    "id": "s4sBMuZ5ySVc"
   },
   "source": [
    "from sklearn.datasets import load_diabetes\n",
    "data = load_diabetes()"
   ],
   "execution_count": null,
   "outputs": []
  },
  {
   "cell_type": "code",
   "metadata": {
    "id": "LBhCbzBHySVe",
    "outputId": "66662191-04a0-442d-e28c-864259d51e3b",
    "colab": {
     "base_uri": "https://localhost:8080/",
     "height": 34
    }
   },
   "source": [
    "data.keys()"
   ],
   "execution_count": null,
   "outputs": [
    {
     "output_type": "execute_result",
     "data": {
      "text/plain": [
       "dict_keys(['data', 'target', 'DESCR', 'feature_names', 'data_filename', 'target_filename'])"
      ]
     },
     "metadata": {
      "tags": []
     },
     "execution_count": 45
    }
   ]
  },
  {
   "cell_type": "code",
   "metadata": {
    "id": "Tugsgmo8ySVg",
    "outputId": "ebf41426-306a-4d9e-e7ca-01ef6c50518d",
    "colab": {
     "base_uri": "https://localhost:8080/",
     "height": 683
    }
   },
   "source": [
    "print(data['DESCR'])"
   ],
   "execution_count": null,
   "outputs": [
    {
     "output_type": "stream",
     "text": [
      ".. _diabetes_dataset:\n",
      "\n",
      "Diabetes dataset\n",
      "----------------\n",
      "\n",
      "Ten baseline variables, age, sex, body mass index, average blood\n",
      "pressure, and six blood serum measurements were obtained for each of n =\n",
      "442 diabetes patients, as well as the response of interest, a\n",
      "quantitative measure of disease progression one year after baseline.\n",
      "\n",
      "**Data Set Characteristics:**\n",
      "\n",
      "  :Number of Instances: 442\n",
      "\n",
      "  :Number of Attributes: First 10 columns are numeric predictive values\n",
      "\n",
      "  :Target: Column 11 is a quantitative measure of disease progression one year after baseline\n",
      "\n",
      "  :Attribute Information:\n",
      "      - Age\n",
      "      - Sex\n",
      "      - Body mass index\n",
      "      - Average blood pressure\n",
      "      - S1\n",
      "      - S2\n",
      "      - S3\n",
      "      - S4\n",
      "      - S5\n",
      "      - S6\n",
      "\n",
      "Note: Each of these 10 feature variables have been mean centered and scaled by the standard deviation times `n_samples` (i.e. the sum of squares of each column totals 1).\n",
      "\n",
      "Source URL:\n",
      "https://www4.stat.ncsu.edu/~boos/var.select/diabetes.html\n",
      "\n",
      "For more information see:\n",
      "Bradley Efron, Trevor Hastie, Iain Johnstone and Robert Tibshirani (2004) \"Least Angle Regression,\" Annals of Statistics (with discussion), 407-499.\n",
      "(https://web.stanford.edu/~hastie/Papers/LARS/LeastAngle_2002.pdf)\n"
     ],
     "name": "stdout"
    }
   ]
  },
  {
   "cell_type": "code",
   "metadata": {
    "id": "YBe-XaqGySVi",
    "outputId": "a81f8d80-ed93-48f6-bb05-d800fc6afb5a",
    "colab": {
     "base_uri": "https://localhost:8080/",
     "height": 34
    }
   },
   "source": [
    "x = data['data']\n",
    "y = data['target']\n",
    "x.shape, y.shape"
   ],
   "execution_count": null,
   "outputs": [
    {
     "output_type": "execute_result",
     "data": {
      "text/plain": [
       "((442, 10), (442,))"
      ]
     },
     "metadata": {
      "tags": []
     },
     "execution_count": 47
    }
   ]
  },
  {
   "cell_type": "code",
   "metadata": {
    "id": "WlYpLHllySVk",
    "outputId": "e5fceadb-9943-4bd3-b729-c88bf823d346",
    "colab": {
     "base_uri": "https://localhost:8080/",
     "height": 34
    }
   },
   "source": [
    "# Para evaluar el modelo dividimos la data en un conjunto de entrenamiento y validación\n",
    "x_train, x_val, y_train, y_val = train_test_split(x, y, test_size=0.33, random_state=42)\n",
    "x_train.shape, x_val.shape"
   ],
   "execution_count": null,
   "outputs": [
    {
     "output_type": "execute_result",
     "data": {
      "text/plain": [
       "((296, 10), (146, 10))"
      ]
     },
     "metadata": {
      "tags": []
     },
     "execution_count": 48
    }
   ]
  },
  {
   "cell_type": "code",
   "metadata": {
    "id": "XNUz1FRmySVo",
    "outputId": "7f537e20-c87d-46d2-f0e1-6056a9fe4a9d",
    "colab": {
     "base_uri": "https://localhost:8080/",
     "height": 162
    }
   },
   "source": [
    "n = 15\n",
    "results = pd.DataFrame({'real': y_val, 'pred': f(x_val)})\n",
    "results['error'] = results['pred'] - results['real']\n",
    "results.head(n).round(4).T"
   ],
   "execution_count": null,
   "outputs": [
    {
     "output_type": "execute_result",
     "data": {
      "text/html": [
       "<div>\n",
       "<style scoped>\n",
       "    .dataframe tbody tr th:only-of-type {\n",
       "        vertical-align: middle;\n",
       "    }\n",
       "\n",
       "    .dataframe tbody tr th {\n",
       "        vertical-align: top;\n",
       "    }\n",
       "\n",
       "    .dataframe thead th {\n",
       "        text-align: right;\n",
       "    }\n",
       "</style>\n",
       "<table border=\"1\" class=\"dataframe\">\n",
       "  <thead>\n",
       "    <tr style=\"text-align: right;\">\n",
       "      <th></th>\n",
       "      <th>0</th>\n",
       "      <th>1</th>\n",
       "      <th>2</th>\n",
       "      <th>3</th>\n",
       "      <th>4</th>\n",
       "      <th>5</th>\n",
       "      <th>6</th>\n",
       "      <th>7</th>\n",
       "      <th>8</th>\n",
       "      <th>9</th>\n",
       "      <th>10</th>\n",
       "      <th>11</th>\n",
       "      <th>12</th>\n",
       "      <th>13</th>\n",
       "      <th>14</th>\n",
       "    </tr>\n",
       "  </thead>\n",
       "  <tbody>\n",
       "    <tr>\n",
       "      <th>real</th>\n",
       "      <td>219.0000</td>\n",
       "      <td>70.0000</td>\n",
       "      <td>202.0000</td>\n",
       "      <td>230.000</td>\n",
       "      <td>111.0000</td>\n",
       "      <td>84.0000</td>\n",
       "      <td>242.0000</td>\n",
       "      <td>272.0000</td>\n",
       "      <td>94.000</td>\n",
       "      <td>96.000</td>\n",
       "      <td>94.0000</td>\n",
       "      <td>252.0000</td>\n",
       "      <td>99.0000</td>\n",
       "      <td>297.0000</td>\n",
       "      <td>135.0000</td>\n",
       "    </tr>\n",
       "    <tr>\n",
       "      <th>pred</th>\n",
       "      <td>139.7918</td>\n",
       "      <td>179.7074</td>\n",
       "      <td>137.2657</td>\n",
       "      <td>283.936</td>\n",
       "      <td>124.3804</td>\n",
       "      <td>96.1178</td>\n",
       "      <td>251.6132</td>\n",
       "      <td>186.4243</td>\n",
       "      <td>82.953</td>\n",
       "      <td>115.738</td>\n",
       "      <td>96.7736</td>\n",
       "      <td>154.8702</td>\n",
       "      <td>69.7018</td>\n",
       "      <td>204.7184</td>\n",
       "      <td>102.2091</td>\n",
       "    </tr>\n",
       "    <tr>\n",
       "      <th>error</th>\n",
       "      <td>-79.2082</td>\n",
       "      <td>109.7074</td>\n",
       "      <td>-64.7343</td>\n",
       "      <td>53.936</td>\n",
       "      <td>13.3804</td>\n",
       "      <td>12.1178</td>\n",
       "      <td>9.6132</td>\n",
       "      <td>-85.5757</td>\n",
       "      <td>-11.047</td>\n",
       "      <td>19.738</td>\n",
       "      <td>2.7736</td>\n",
       "      <td>-97.1298</td>\n",
       "      <td>-29.2982</td>\n",
       "      <td>-92.2816</td>\n",
       "      <td>-32.7909</td>\n",
       "    </tr>\n",
       "  </tbody>\n",
       "</table>\n",
       "</div>"
      ],
      "text/plain": [
       "             0         1         2   ...       12        13        14\n",
       "real   219.0000   70.0000  202.0000  ...  99.0000  297.0000  135.0000\n",
       "pred   139.7918  179.7074  137.2657  ...  69.7018  204.7184  102.2091\n",
       "error  -79.2082  109.7074  -64.7343  ... -29.2982  -92.2816  -32.7909\n",
       "\n",
       "[3 rows x 15 columns]"
      ]
     },
     "metadata": {
      "tags": []
     },
     "execution_count": 51
    }
   ]
  },
  {
   "cell_type": "code",
   "metadata": {
    "id": "jt44YVCHySVr"
   },
   "source": [],
   "execution_count": null,
   "outputs": []
  }
 ]
}
