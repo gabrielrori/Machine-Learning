{
 "nbformat": 4,
 "nbformat_minor": 0,
 "metadata": {
  "kernelspec": {
   "display_name": "Python 3",
   "language": "python",
   "name": "python3"
  },
  "language_info": {
   "codemirror_mode": {
    "name": "ipython",
    "version": 3
   },
   "file_extension": ".py",
   "mimetype": "text/x-python",
   "name": "python",
   "nbconvert_exporter": "python",
   "pygments_lexer": "ipython3",
   "version": "3.6.6"
  },
  "toc": {
   "base_numbering": 1,
   "nav_menu": {},
   "number_sections": true,
   "sideBar": true,
   "skip_h1_title": false,
   "title_cell": "Table of Contents",
   "title_sidebar": "Contents",
   "toc_cell": false,
   "toc_position": {
    "height": "calc(100% - 180px)",
    "left": "10px",
    "top": "150px",
    "width": "308.2px"
   },
   "toc_section_display": true,
   "toc_window_display": false
  },
  "colab": {
   "name": "03-training_nn.ipynb",
   "provenance": [],
   "collapsed_sections": []
  }
 },
 "cells": [
  {
   "cell_type": "code",
   "metadata": {
    "id": "1TsE-Lozror4",
    "colab_type": "code",
    "colab": {},
    "executionInfo": {
     "status": "ok",
     "timestamp": 1600397383137,
     "user_tz": 300,
     "elapsed": 3637,
     "user": {
      "displayName": "CÉSAR ARMANDO BELTRÁN CASTAÑÓN",
      "photoUrl": "https://lh3.googleusercontent.com/a-/AOh14Gj1_E0G2ds1YP5B-_Pd9K7wtOg2dU42IvnRv3ibeA=s64",
      "userId": "10066086307676625511"
     }
    }
   },
   "source": [
    "import math\n",
    "import os\n",
    "import numpy as np\n",
    "import pandas as pd\n",
    "import matplotlib.pyplot as plt\n",
    "from tensorflow.python.keras import backend as K\n",
    "import tensorflow as tf\n",
    "%matplotlib inline\n",
    "\n",
    "tf.random.set_seed(0)"
   ],
   "execution_count": 2,
   "outputs": []
  },
  {
   "cell_type": "code",
   "metadata": {
    "id": "3CXC2LypNLMH",
    "colab_type": "code",
    "colab": {},
    "executionInfo": {
     "status": "ok",
     "timestamp": 1600397383139,
     "user_tz": 300,
     "elapsed": 3632,
     "user": {
      "displayName": "CÉSAR ARMANDO BELTRÁN CASTAÑÓN",
      "photoUrl": "https://lh3.googleusercontent.com/a-/AOh14Gj1_E0G2ds1YP5B-_Pd9K7wtOg2dU42IvnRv3ibeA=s64",
      "userId": "10066086307676625511"
     }
    }
   },
   "source": [
    "config = tf.compat.v1.ConfigProto()\n",
    "config.gpu_options.per_process_gpu_memory_fraction = 0.8\n",
    "config.gpu_options.allow_growth = True\n",
    "sess = tf.compat.v1.Session(config=config)\n",
    "K.set_session(sess)"
   ],
   "execution_count": 3,
   "outputs": []
  },
  {
   "cell_type": "code",
   "metadata": {
    "id": "T4-mFuxPOQj7",
    "colab_type": "code",
    "colab": {
     "base_uri": "https://localhost:8080/",
     "height": 35
    },
    "executionInfo": {
     "status": "ok",
     "timestamp": 1600397383140,
     "user_tz": 300,
     "elapsed": 3624,
     "user": {
      "displayName": "CÉSAR ARMANDO BELTRÁN CASTAÑÓN",
      "photoUrl": "https://lh3.googleusercontent.com/a-/AOh14Gj1_E0G2ds1YP5B-_Pd9K7wtOg2dU42IvnRv3ibeA=s64",
      "userId": "10066086307676625511"
     }
    },
    "outputId": "7ad3a2b4-4938-44e9-8f45-4881688b1ff9"
   },
   "source": [
    "K.get_session()"
   ],
   "execution_count": 4,
   "outputs": [
    {
     "output_type": "execute_result",
     "data": {
      "text/plain": [
       "<tensorflow.python.client.session.Session at 0x7f1372efb470>"
      ]
     },
     "metadata": {
      "tags": []
     },
     "execution_count": 4
    }
   ]
  },
  {
   "cell_type": "code",
   "metadata": {
    "id": "SIoyaIdvRqRq",
    "colab_type": "code",
    "cellView": "form",
    "colab": {
     "base_uri": "https://localhost:8080/",
     "height": 35
    },
    "executionInfo": {
     "status": "ok",
     "timestamp": 1600397383141,
     "user_tz": 300,
     "elapsed": 3559,
     "user": {
      "displayName": "CÉSAR ARMANDO BELTRÁN CASTAÑÓN",
      "photoUrl": "https://lh3.googleusercontent.com/a-/AOh14Gj1_E0G2ds1YP5B-_Pd9K7wtOg2dU42IvnRv3ibeA=s64",
      "userId": "10066086307676625511"
     }
    },
    "outputId": "6a4cea1b-0bc3-4c18-f5a4-1888dd77f703"
   },
   "source": [
    "import tensorflow.python.keras, math\n",
    "import numpy as np\n",
    "import tensorflow as tf\n",
    "from tensorflow.python.keras import backend as K\n",
    "import matplotlib.pyplot as plt\n",
    "from pathlib import Path\n",
    "import os\n",
    "\n",
    "def save_weights(model, file):\n",
    "    model.save_weights(file, overwrite=True)\n",
    "\n",
    "def reset_weights(model, file):\n",
    "    model.load_weights(file)\n",
    "            \n",
    "\n",
    "class CycleLearner(tensorflow.python.keras.callbacks.Callback):\n",
    "    def __init__(self, lr, nb, n_cycle, cycle_len=1, cycle_mult=1,\n",
    "                 snapshots=False, n_snapshots=5,\n",
    "                 snapshots_name='temp_model', snapshots_folder='snapshots'):\n",
    "        super().__init__()\n",
    "        self.lr = lr\n",
    "        self.nb = nb*cycle_len\n",
    "        self.n_cycle = n_cycle\n",
    "        self.cycle_len = cycle_len\n",
    "        self.cycle_mult = cycle_mult\n",
    "        self.snapshots = snapshots\n",
    "        self.n_snapshots = n_snapshots\n",
    "        self.start_snaps = n_cycle - n_snapshots\n",
    "        self.snapshots_name = snapshots_name\n",
    "        self.snapshots_folder = snapshots_folder\n",
    "        self.lr_list = []\n",
    "        self.losses = []\n",
    "        self.iterations = []\n",
    "\n",
    "        if not os.path.exists:\n",
    "            os.mkdir(self.snapshots_folder, )\n",
    "       \n",
    "    def on_train_begin(self, logs={}):\n",
    "        self.iteration,self.epoch = 0,0\n",
    "        self.cycle_iter,self.cycle_count=0,0\n",
    "        self.update_lr()\n",
    "    \n",
    "    def on_epoch_end(self, epoch, logs=None):\n",
    "        self.epoch += 1\n",
    "\n",
    "    def on_batch_end(self, batch, logs={}):\n",
    "        self.iteration += 1\n",
    "        self.lr_list.append(K.eval(self.model.optimizer.lr))\n",
    "        loss = logs.get('loss')\n",
    "        self.losses.append(loss)\n",
    "        self.iterations.append(self.iteration)\n",
    "        self.update_lr()\n",
    "        if self.cycle_count == self.n_cycle:\n",
    "            self.model.stop_training = True\n",
    "    \n",
    "    def on_cycle_end(self):\n",
    "        self.cycle_iter = 0\n",
    "        self.nb *= self.cycle_mult\n",
    "        self.cycle_count += 1\n",
    "        if self.snapshots and self.cycle_count>self.start_snaps:\n",
    "            file = self.snapshots_folder +  '/'+ f'{self.snapshots_name}_{self.cycle_count}.hdf5'\n",
    "            \n",
    "            self.model.save_weights(file, overwrite=True)\n",
    "    \n",
    "    def update_lr(self):\n",
    "        new_lr = self.calc_lr()\n",
    "        K.set_value(self.model.optimizer.lr, new_lr)\n",
    "\n",
    "    def calc_lr(self):\n",
    "        if self.iteration<self.nb/20:\n",
    "            self.cycle_iter += 1\n",
    "            return self.lr/100.\n",
    "\n",
    "        cos_out = np.cos(np.pi*(self.cycle_iter)/self.nb) + 1\n",
    "        self.cycle_iter += 1\n",
    "        if self.cycle_iter==self.nb:\n",
    "            self.on_cycle_end()\n",
    "            \n",
    "        return self.lr / 2 * cos_out        \n",
    "        \n",
    "    def plot_loss(self, skip=10):\n",
    "        plt.plot(self.iterations[skip:], self.losses[skip:])\n",
    "\n",
    "    def plot_lr(self):\n",
    "        plt.xlabel(\"iterations\")\n",
    "        plt.ylabel(\"learning rate\")\n",
    "        plt.plot(self.iterations, self.lr_list)\n",
    "\n",
    "\n",
    "class LrFinder(tensorflow.python.keras.callbacks.Callback):\n",
    "    def __init__(self, nb, start_lr=1e-5, end_lr=10):\n",
    "        super().__init__()\n",
    "        self.start_lr = start_lr\n",
    "        self.lr = start_lr\n",
    "        self.lr_mult = (end_lr/start_lr)**(1/nb)\n",
    "        self.lr_list = []\n",
    "        self.losses = []\n",
    "        self.iterations = []\n",
    "        self.derivatives = []\n",
    "        \n",
    "    def on_train_begin(self, logs={}):\n",
    "        self.best = 1e9\n",
    "        self.iteration = 0\n",
    "        self.update_lr()\n",
    "\n",
    "    def on_batch_end(self, batch, logs={}):\n",
    "        self.iteration += 1\n",
    "        self.lr_list.append(K.eval(self.model.optimizer.lr))\n",
    "        loss = logs.get('loss')\n",
    "        self.losses.append(loss)\n",
    "        self.iterations.append(self.iteration)\n",
    "\n",
    "        if math.isnan(loss) or loss>self.best*4:\n",
    "            self.model.stop_training = True\n",
    "        if loss<self.best:\n",
    "            self.best=loss\n",
    "        self.update_lr()\n",
    "    \n",
    "    def update_lr(self):\n",
    "        new_lr = self.start_lr * (self.lr_mult**self.iteration)\n",
    "        K.set_value(self.model.optimizer.lr, new_lr)\n",
    "        \n",
    "    def plot_loss(self):\n",
    "        plt.plot(self.iterations[10:], self.losses[10:])\n",
    "\n",
    "    def plot_lr(self):\n",
    "        plt.xlabel(\"iterations\")\n",
    "        plt.ylabel(\"learning rate\")\n",
    "        plt.plot(self.iterations, self.lr_list)\n",
    "        \n",
    "    def plot(self, n_skip_start=2, xlim=None, ylim=None):\n",
    "        plt.ylabel(\"loss\")\n",
    "        plt.xlabel(\"learning rate (log scale)\")\n",
    "        plt.plot(self.lr_list[n_skip_start:], self.losses[n_skip_start:])\n",
    "        plt.xscale('log')\n",
    "        if ylim is not None: plt.ylim(top=ylim)\n",
    "        if xlim is not None: plt.xlim(right=xlim)\n",
    "        \n",
    "    def plot_loss_variation(self, window_size=1, xlim_range=None, ylim_range=None):\n",
    "        assert (window_size>0),\n",
    "\n",
    "        self.derivatives = []\n",
    "        self.lr_list_on_xlim = []\n",
    "        for i in range(len(self.lr_list)-window_size):\n",
    "            if  self.lr_list[i] < xlim_range[0]:\n",
    "                continue\n",
    "            if  self.lr_list[i] > xlim_range[1]:\n",
    "                break\n",
    "            derivative = (self.losses[i + window_size] - self.losses[i]) / window_size\n",
    "            self.derivatives.append(derivative)\n",
    "            self.lr_list_on_xlim.append(self.lr_list[i])\n",
    "      \n",
    "        plt.ylabel(\"d/loss\")        \n",
    "        plt.xlabel(\"learning rate (log scale)\")\n",
    "        plt.plot(self.lr_list_on_xlim, self.derivatives)\n",
    "        plt.xscale('log')\n",
    "        if ylim_range is not None: plt.ylim(ylim_range)\n",
    "        if xlim_range is not None: plt.xlim(xlim_range)\n",
    "\n"
   ],
   "execution_count": 5,
   "outputs": [
    {
     "output_type": "stream",
     "text": [
      "Overwriting custom_callbacks.py\n"
     ],
     "name": "stdout"
    }
   ]
  },
  {
   "cell_type": "markdown",
   "metadata": {
    "id": "lB-46wNqror8",
    "colab_type": "text"
   },
   "source": [
    "# MNIST"
   ]
  },
  {
   "cell_type": "code",
   "metadata": {
    "id": "boJy5401ror8",
    "colab_type": "code",
    "colab": {
     "base_uri": "https://localhost:8080/",
     "height": 87
    },
    "executionInfo": {
     "status": "ok",
     "timestamp": 1600397383820,
     "user_tz": 300,
     "elapsed": 4212,
     "user": {
      "displayName": "CÉSAR ARMANDO BELTRÁN CASTAÑÓN",
      "photoUrl": "https://lh3.googleusercontent.com/a-/AOh14Gj1_E0G2ds1YP5B-_Pd9K7wtOg2dU42IvnRv3ibeA=s64",
      "userId": "10066086307676625511"
     }
    },
    "outputId": "991fa611-340c-4673-ccfa-3ae6cf24aaae"
   },
   "source": [
    "from tensorflow.python.keras.datasets import mnist\n",
    "(x_train, y_train), (x_test, y_test) = mnist.load_data()\n",
    "print(f'Train -> x: {x_train.shape}')\n",
    "print(f'         y: {y_train.shape}')\n",
    "print(f'Test -> x: {x_test.shape}')\n",
    "print(f'        y: {y_test.shape}')"
   ],
   "execution_count": 6,
   "outputs": [
    {
     "output_type": "stream",
     "text": [
      "Train -> x: (60000, 28, 28)\n",
      "         y: (60000,)\n",
      "Test -> x: (10000, 28, 28)\n",
      "        y: (10000,)\n"
     ],
     "name": "stdout"
    }
   ]
  },
  {
   "cell_type": "code",
   "metadata": {
    "id": "WMEycJHuror_",
    "colab_type": "code",
    "colab": {
     "base_uri": "https://localhost:8080/",
     "height": 265
    },
    "executionInfo": {
     "status": "ok",
     "timestamp": 1600397384154,
     "user_tz": 300,
     "elapsed": 4529,
     "user": {
      "displayName": "CÉSAR ARMANDO BELTRÁN CASTAÑÓN",
      "photoUrl": "https://lh3.googleusercontent.com/a-/AOh14Gj1_E0G2ds1YP5B-_Pd9K7wtOg2dU42IvnRv3ibeA=s64",
      "userId": "10066086307676625511"
     }
    },
    "outputId": "48c22626-0b4b-47f3-a31a-7e33f4fb9610"
   },
   "source": [
    "# Veamos una muestra\n",
    "plt.imshow(x_train[0], 'gray');"
   ],
   "execution_count": 7,
   "outputs": [
    {
     "output_type": "display_data",
     "data": {
      "image/png": "[encoded data removed]",
      "text/plain": [
       "<Figure size 432x288 with 1 Axes>"
      ]
     },
     "metadata": {
      "tags": [],
      "needs_background": "light"
     }
    }
   ]
  },
  {
   "cell_type": "code",
   "metadata": {
    "id": "2Hikygdh-nup",
    "colab_type": "code",
    "colab": {
     "base_uri": "https://localhost:8080/",
     "height": 35
    },
    "executionInfo": {
     "status": "ok",
     "timestamp": 1600397384155,
     "user_tz": 300,
     "elapsed": 4514,
     "user": {
      "displayName": "CÉSAR ARMANDO BELTRÁN CASTAÑÓN",
      "photoUrl": "https://lh3.googleusercontent.com/a-/AOh14Gj1_E0G2ds1YP5B-_Pd9K7wtOg2dU42IvnRv3ibeA=s64",
      "userId": "10066086307676625511"
     }
    },
    "outputId": "823f0db7-6543-4f96-f76b-00cde9321c6b"
   },
   "source": [
    "y_train[0]"
   ],
   "execution_count": 8,
   "outputs": [
    {
     "output_type": "execute_result",
     "data": {
      "text/plain": [
       "5"
      ]
     },
     "metadata": {
      "tags": []
     },
     "execution_count": 8
    }
   ]
  },
  {
   "cell_type": "code",
   "metadata": {
    "id": "50CxPIMAnO99",
    "colab_type": "code",
    "colab": {
     "base_uri": "https://localhost:8080/",
     "height": 35
    },
    "executionInfo": {
     "status": "ok",
     "timestamp": 1600397384155,
     "user_tz": 300,
     "elapsed": 4470,
     "user": {
      "displayName": "CÉSAR ARMANDO BELTRÁN CASTAÑÓN",
      "photoUrl": "https://lh3.googleusercontent.com/a-/AOh14Gj1_E0G2ds1YP5B-_Pd9K7wtOg2dU42IvnRv3ibeA=s64",
      "userId": "10066086307676625511"
     }
    },
    "outputId": "3472b16e-a7a7-4cf7-d641-7f60ce979bed"
   },
   "source": [
    "set(y_train)"
   ],
   "execution_count": 9,
   "outputs": [
    {
     "output_type": "execute_result",
     "data": {
      "text/plain": [
       "{0, 1, 2, 3, 4, 5, 6, 7, 8, 9}"
      ]
     },
     "metadata": {
      "tags": []
     },
     "execution_count": 9
    }
   ]
  },
  {
   "cell_type": "markdown",
   "metadata": {
    "id": "Dk9iOcYIrosC",
    "colab_type": "text"
   },
   "source": [
    "## Ajustamos las dimensiones de las imágenes"
   ]
  },
  {
   "cell_type": "markdown",
   "metadata": {
    "id": "6G5Ll0FjrosC",
    "colab_type": "text"
   },
   "source": [
    "Para usar las imágenes en una multiplicación de matrices, esta necesita tener sólo 2 dimensiones."
   ]
  },
  {
   "cell_type": "code",
   "metadata": {
    "id": "nQySIxc3rosD",
    "colab_type": "code",
    "colab": {
     "base_uri": "https://localhost:8080/",
     "height": 35
    },
    "executionInfo": {
     "status": "ok",
     "timestamp": 1600397384156,
     "user_tz": 300,
     "elapsed": 4395,
     "user": {
      "displayName": "CÉSAR ARMANDO BELTRÁN CASTAÑÓN",
      "photoUrl": "https://lh3.googleusercontent.com/a-/AOh14Gj1_E0G2ds1YP5B-_Pd9K7wtOg2dU42IvnRv3ibeA=s64",
      "userId": "10066086307676625511"
     }
    },
    "outputId": "b057c488-daf5-45c7-beb2-0dd5790b2e03"
   },
   "source": [
    "x_train.shape"
   ],
   "execution_count": 10,
   "outputs": [
    {
     "output_type": "execute_result",
     "data": {
      "text/plain": [
       "(60000, 28, 28)"
      ]
     },
     "metadata": {
      "tags": []
     },
     "execution_count": 10
    }
   ]
  },
  {
   "cell_type": "code",
   "metadata": {
    "id": "f_9NGOsnrosG",
    "colab_type": "code",
    "colab": {
     "base_uri": "https://localhost:8080/",
     "height": 35
    },
    "executionInfo": {
     "status": "ok",
     "timestamp": 1600397384156,
     "user_tz": 300,
     "elapsed": 4342,
     "user": {
      "displayName": "CÉSAR ARMANDO BELTRÁN CASTAÑÓN",
      "photoUrl": "https://lh3.googleusercontent.com/a-/AOh14Gj1_E0G2ds1YP5B-_Pd9K7wtOg2dU42IvnRv3ibeA=s64",
      "userId": "10066086307676625511"
     }
    },
    "outputId": "db548419-7144-4bdc-b06b-b23b7dc90b99"
   },
   "source": [
    "x_train = x_train.reshape([60000, 28*28])\n",
    "x_test = x_test.reshape([10000, 28*28])\n",
    "x_train.shape, x_test.shape"
   ],
   "execution_count": 11,
   "outputs": [
    {
     "output_type": "execute_result",
     "data": {
      "text/plain": [
       "((60000, 784), (10000, 784))"
      ]
     },
     "metadata": {
      "tags": []
     },
     "execution_count": 11
    }
   ]
  },
  {
   "cell_type": "code",
   "metadata": {
    "id": "sGix0rmarosJ",
    "colab_type": "code",
    "colab": {
     "base_uri": "https://localhost:8080/",
     "height": 265
    },
    "executionInfo": {
     "status": "ok",
     "timestamp": 1600397384157,
     "user_tz": 300,
     "elapsed": 4324,
     "user": {
      "displayName": "CÉSAR ARMANDO BELTRÁN CASTAÑÓN",
      "photoUrl": "https://lh3.googleusercontent.com/a-/AOh14Gj1_E0G2ds1YP5B-_Pd9K7wtOg2dU42IvnRv3ibeA=s64",
      "userId": "10066086307676625511"
     }
    },
    "outputId": "108d2f20-5123-4311-8b17-fd188c14f68f"
   },
   "source": [
    "# Podemos usar el reshape de nuevo, para mostrar la imagen\n",
    "plt.imshow(x_train[0].reshape([28,28]), 'CMRmap');"
   ],
   "execution_count": 12,
   "outputs": [
    {
     "output_type": "display_data",
     "data": {
      "image/png": "[encoded data removed]",
      "text/plain": [
       "<Figure size 432x288 with 1 Axes>"
      ]
     },
     "metadata": {
      "tags": [],
      "needs_background": "light"
     }
    }
   ]
  },
  {
   "cell_type": "code",
   "metadata": {
    "id": "MFGfxeeAmbLL",
    "colab_type": "code",
    "colab": {
     "base_uri": "https://localhost:8080/",
     "height": 265
    },
    "executionInfo": {
     "status": "ok",
     "timestamp": 1600397384494,
     "user_tz": 300,
     "elapsed": 4634,
     "user": {
      "displayName": "CÉSAR ARMANDO BELTRÁN CASTAÑÓN",
      "photoUrl": "https://lh3.googleusercontent.com/a-/AOh14Gj1_E0G2ds1YP5B-_Pd9K7wtOg2dU42IvnRv3ibeA=s64",
      "userId": "10066086307676625511"
     }
    },
    "outputId": "3c7424e1-7536-4b0f-ef15-480464c5e62c"
   },
   "source": [
    "plt.imshow(x_train[1].reshape([28,28]), cmap='CMRmap');"
   ],
   "execution_count": 13,
   "outputs": [
    {
     "output_type": "display_data",
     "data": {
      "image/png": "[encoded data removed]",
      "text/plain": [
       "<Figure size 432x288 with 1 Axes>"
      ]
     },
     "metadata": {
      "tags": [],
      "needs_background": "light"
     }
    }
   ]
  },
  {
   "cell_type": "markdown",
   "metadata": {
    "id": "QNFock6RrosL",
    "colab_type": "text"
   },
   "source": [
    "## Definimos un modelo"
   ]
  },
  {
   "cell_type": "code",
   "metadata": {
    "id": "pfe9qQgProsM",
    "colab_type": "code",
    "colab": {
     "base_uri": "https://localhost:8080/",
     "height": 260
    },
    "executionInfo": {
     "status": "ok",
     "timestamp": 1600397384817,
     "user_tz": 300,
     "elapsed": 4926,
     "user": {
      "displayName": "CÉSAR ARMANDO BELTRÁN CASTAÑÓN",
      "photoUrl": "https://lh3.googleusercontent.com/a-/AOh14Gj1_E0G2ds1YP5B-_Pd9K7wtOg2dU42IvnRv3ibeA=s64",
      "userId": "10066086307676625511"
     }
    },
    "outputId": "eb6fbd72-dfb0-47a5-ede2-f37c377ed13d"
   },
   "source": [
    "from tensorflow.python.keras.models import Sequential\n",
    "from tensorflow.python.keras.layers import Dense\n",
    "from tensorflow.keras.optimizers import SGD\n",
    "\n",
    "from custom_callbacks import save_weights\n",
    "\n",
    "lr = 0.01\n",
    "bs = 256\n",
    "nb = math.ceil(len(x_train)/bs) # Nro de batches\n",
    "\n",
    "K.clear_session()\n",
    "\n",
    "model = Sequential([\n",
    "    Dense(128, activation='relu', input_shape=(784,)),\n",
    "    Dense(64, activation='relu'),\n",
    "    Dense(10, activation='softmax')\n",
    "])\n",
    "\n",
    "model.compile(optimizer=SGD(lr), loss='sparse_categorical_crossentropy', metrics=['accuracy'])\n",
    "# La función de pérdida 'sparse_categorical_crossentropy' realiza la conversión\n",
    "# del target a one-hot encoding.\n",
    "\n",
    "# Guardamos los pesos del modelo para poder usarlos posteriormente al re-inicializar los pesos\n",
    "save_weights(model, 'model')\n",
    "\n",
    "model.summary()"
   ],
   "execution_count": 14,
   "outputs": [
    {
     "output_type": "stream",
     "text": [
      "Model: \"sequential\"\n",
      "_________________________________________________________________\n",
      "Layer (type)                 Output Shape              Param #   \n",
      "=================================================================\n",
      "dense (Dense)                (None, 128)               100480    \n",
      "_________________________________________________________________\n",
      "dense_1 (Dense)              (None, 64)                8256      \n",
      "_________________________________________________________________\n",
      "dense_2 (Dense)              (None, 10)                650       \n",
      "=================================================================\n",
      "Total params: 109,386\n",
      "Trainable params: 109,386\n",
      "Non-trainable params: 0\n",
      "_________________________________________________________________\n"
     ],
     "name": "stdout"
    }
   ]
  },
  {
   "cell_type": "markdown",
   "metadata": {
    "id": "Wa2zzlzCrosO",
    "colab_type": "text"
   },
   "source": "## Método de Learning rate finder"
  },
  {
   "cell_type": "code",
   "metadata": {
    "id": "iQzvIhdIrosO",
    "colab_type": "code",
    "colab": {
     "base_uri": "https://localhost:8080/",
     "height": 55
    },
    "executionInfo": {
     "status": "ok",
     "timestamp": 1600397386970,
     "user_tz": 300,
     "elapsed": 7051,
     "user": {
      "displayName": "CÉSAR ARMANDO BELTRÁN CASTAÑÓN",
      "photoUrl": "https://lh3.googleusercontent.com/a-/AOh14Gj1_E0G2ds1YP5B-_Pd9K7wtOg2dU42IvnRv3ibeA=s64",
      "userId": "10066086307676625511"
     }
    },
    "outputId": "d49e10e7-0bf1-410a-9aaa-08cf79cd9608"
   },
   "source": [
    "Çfrom custom_callbacks import LrFinder, reset_weights\n",
    "\n",
    "lr_finder = LrFinder(nb)\n",
    "\n",
    "model.fit(x_train, y_train, batch_size=bs, callbacks=[lr_finder]);"
   ],
   "execution_count": 15,
   "outputs": [
    {
     "output_type": "stream",
     "text": [
      "235/235 [==============================] - 1s 6ms/step - loss: 791.1837 - accuracy: 0.2464\n"
     ],
     "name": "stdout"
    }
   ]
  },
  {
   "cell_type": "code",
   "metadata": {
    "id": "sM-jr59GrosQ",
    "colab_type": "code",
    "colab": {
     "base_uri": "https://localhost:8080/",
     "height": 279
    },
    "executionInfo": {
     "status": "ok",
     "timestamp": 1600397387568,
     "user_tz": 300,
     "elapsed": 7624,
     "user": {
      "displayName": "CÉSAR ARMANDO BELTRÁN CASTAÑÓN",
      "photoUrl": "https://lh3.googleusercontent.com/a-/AOh14Gj1_E0G2ds1YP5B-_Pd9K7wtOg2dU42IvnRv3ibeA=s64",
      "userId": "10066086307676625511"
     }
    },
    "outputId": "f149e20f-4f0b-4138-fb73-d1a99e7af91d"
   },
   "source": [
    "lr_finder.plot_lr()"
   ],
   "execution_count": 16,
   "outputs": [
    {
     "output_type": "display_data",
     "data": {
      "image/png": "[encoded data removed]",
      "text/plain": [
       "<Figure size 432x288 with 1 Axes>"
      ]
     },
     "metadata": {
      "tags": [],
      "needs_background": "light"
     }
    }
   ]
  },
  {
   "cell_type": "code",
   "metadata": {
    "id": "mfj1xtPerosT",
    "colab_type": "code",
    "colab": {
     "base_uri": "https://localhost:8080/",
     "height": 283
    },
    "executionInfo": {
     "status": "ok",
     "timestamp": 1600397388202,
     "user_tz": 300,
     "elapsed": 8235,
     "user": {
      "displayName": "CÉSAR ARMANDO BELTRÁN CASTAÑÓN",
      "photoUrl": "https://lh3.googleusercontent.com/a-/AOh14Gj1_E0G2ds1YP5B-_Pd9K7wtOg2dU42IvnRv3ibeA=s64",
      "userId": "10066086307676625511"
     }
    },
    "outputId": "5d5b9717-0e86-46eb-936a-fa2c5fd2156e"
   },
   "source": [
    "lr_finder.plot()"
   ],
   "execution_count": 17,
   "outputs": [
    {
     "output_type": "display_data",
     "data": {
      "image/png": "[encoded data removed]",
      "text/plain": [
       "<Figure size 432x288 with 1 Axes>"
      ]
     },
     "metadata": {
      "tags": [],
      "needs_background": "light"
     }
    }
   ]
  },
  {
   "cell_type": "code",
   "metadata": {
    "id": "WChOC0skgfQO",
    "colab_type": "code",
    "colab": {
     "base_uri": "https://localhost:8080/",
     "height": 283
    },
    "executionInfo": {
     "status": "ok",
     "timestamp": 1600397388534,
     "user_tz": 300,
     "elapsed": 8547,
     "user": {
      "displayName": "CÉSAR ARMANDO BELTRÁN CASTAÑÓN",
      "photoUrl": "https://lh3.googleusercontent.com/a-/AOh14Gj1_E0G2ds1YP5B-_Pd9K7wtOg2dU42IvnRv3ibeA=s64",
      "userId": "10066086307676625511"
     }
    },
    "outputId": "506b8a93-42fb-4a02-b6f3-bc64d65fc842"
   },
   "source": [
    "window_size = 1\n",
    "xlim_range=[1e-4, 1e-2]\n",
    "\n",
    "lr_finder.plot_loss_variation(window_size=window_size, xlim_range=xlim_range)"
   ],
   "execution_count": 18,
   "outputs": [
    {
     "output_type": "display_data",
     "data": {
      "image/png": "[encoded data removed]",
      "text/plain": [
       "<Figure size 432x288 with 1 Axes>"
      ]
     },
     "metadata": {
      "tags": [],
      "needs_background": "light"
     }
    }
   ]
  },
  {
   "cell_type": "code",
   "metadata": {
    "id": "nw8fCIox9Ibs",
    "colab_type": "code",
    "colab": {
     "base_uri": "https://localhost:8080/",
     "height": 35
    },
    "executionInfo": {
     "status": "ok",
     "timestamp": 1600397388535,
     "user_tz": 300,
     "elapsed": 8531,
     "user": {
      "displayName": "CÉSAR ARMANDO BELTRÁN CASTAÑÓN",
      "photoUrl": "https://lh3.googleusercontent.com/a-/AOh14Gj1_E0G2ds1YP5B-_Pd9K7wtOg2dU42IvnRv3ibeA=s64",
      "userId": "10066086307676625511"
     }
    },
    "outputId": "f8116dd0-c8ea-4c35-8726-729f947620db"
   },
   "source": [
    "index_of_the_min_derivative = np.argmin(lr_finder.derivatives)\n",
    "\n",
    "index_of_the_min_derivative"
   ],
   "execution_count": 19,
   "outputs": [
    {
     "output_type": "execute_result",
     "data": {
      "text/plain": [
       "8"
      ]
     },
     "metadata": {
      "tags": []
     },
     "execution_count": 19
    }
   ]
  },
  {
   "cell_type": "code",
   "metadata": {
    "id": "r-21rFR-pxgH",
    "colab_type": "code",
    "colab": {
     "base_uri": "https://localhost:8080/",
     "height": 35
    },
    "executionInfo": {
     "status": "ok",
     "timestamp": 1600397388536,
     "user_tz": 300,
     "elapsed": 8510,
     "user": {
      "displayName": "CÉSAR ARMANDO BELTRÁN CASTAÑÓN",
      "photoUrl": "https://lh3.googleusercontent.com/a-/AOh14Gj1_E0G2ds1YP5B-_Pd9K7wtOg2dU42IvnRv3ibeA=s64",
      "userId": "10066086307676625511"
     }
    },
    "outputId": "df0558b8-a9ca-4e76-bb32-ac8949a640cf"
   },
   "source": [
    "lr = lr_finder.lr_list_on_xlim[index_of_the_min_derivative]\n",
    "\n",
    "lr"
   ],
   "execution_count": 20,
   "outputs": [
    {
     "output_type": "execute_result",
     "data": {
      "text/plain": [
       "0.00016808615"
      ]
     },
     "metadata": {
      "tags": []
     },
     "execution_count": 20
    }
   ]
  },
  {
   "cell_type": "markdown",
   "metadata": {
    "id": "ViSNqBdCrosX",
    "colab_type": "text"
   },
   "source": [
    "## Entrenamiento"
   ]
  },
  {
   "cell_type": "code",
   "metadata": {
    "id": "DYHV8b2ArosX",
    "colab_type": "code",
    "colab": {},
    "executionInfo": {
     "status": "ok",
     "timestamp": 1600397388536,
     "user_tz": 300,
     "elapsed": 8507,
     "user": {
      "displayName": "CÉSAR ARMANDO BELTRÁN CASTAÑÓN",
      "photoUrl": "https://lh3.googleusercontent.com/a-/AOh14Gj1_E0G2ds1YP5B-_Pd9K7wtOg2dU42IvnRv3ibeA=s64",
      "userId": "10066086307676625511"
     }
    }
   },
   "source": [
    "# Reseteamos los pesos y compilamos el modelo con el nuevo lr porque la variable ya fue sobreescrita\n",
    "reset_weights(model, 'model')\n",
    "\n",
    "model.compile(SGD(lr), loss='sparse_categorical_crossentropy', metrics=['accuracy'])"
   ],
   "execution_count": 21,
   "outputs": []
  },
  {
   "cell_type": "code",
   "metadata": {
    "id": "jqZWq0Wl-WNB",
    "colab_type": "code",
    "colab": {
     "base_uri": "https://localhost:8080/",
     "height": 245
    },
    "executionInfo": {
     "status": "ok",
     "timestamp": 1600397397640,
     "user_tz": 300,
     "elapsed": 17593,
     "user": {
      "displayName": "CÉSAR ARMANDO BELTRÁN CASTAÑÓN",
      "photoUrl": "https://lh3.googleusercontent.com/a-/AOh14Gj1_E0G2ds1YP5B-_Pd9K7wtOg2dU42IvnRv3ibeA=s64",
      "userId": "10066086307676625511"
     }
    },
    "outputId": "35292340-e50a-4a8c-a733-9822988a6142"
   },
   "source": [
    "log = model.fit(x_train, y_train, batch_size=bs, epochs=6, validation_data=(x_test, y_test))"
   ],
   "execution_count": 22,
   "outputs": [
    {
     "output_type": "stream",
     "text": [
      "Epoch 1/6\n",
      "235/235 [==============================] - 2s 7ms/step - loss: 9.6703 - accuracy: 0.6570 - val_loss: 3.7831 - val_accuracy: 0.7707\n",
      "Epoch 2/6\n",
      "235/235 [==============================] - 1s 6ms/step - loss: 3.1807 - accuracy: 0.7982 - val_loss: 2.4842 - val_accuracy: 0.8166\n",
      "Epoch 3/6\n",
      "235/235 [==============================] - 2s 6ms/step - loss: 2.2892 - accuracy: 0.8280 - val_loss: 1.9395 - val_accuracy: 0.8381\n",
      "Epoch 4/6\n",
      "235/235 [==============================] - 1s 6ms/step - loss: 1.8272 - accuracy: 0.8431 - val_loss: 1.6144 - val_accuracy: 0.8495\n",
      "Epoch 5/6\n",
      "235/235 [==============================] - 1s 6ms/step - loss: 1.5427 - accuracy: 0.8548 - val_loss: 1.4202 - val_accuracy: 0.8549\n",
      "Epoch 6/6\n",
      "235/235 [==============================] - 1s 6ms/step - loss: 1.3400 - accuracy: 0.8622 - val_loss: 1.2682 - val_accuracy: 0.8616\n"
     ],
     "name": "stdout"
    }
   ]
  },
  {
   "cell_type": "code",
   "metadata": {
    "id": "3NVXu4Njrosb",
    "colab_type": "code",
    "colab": {},
    "executionInfo": {
     "status": "ok",
     "timestamp": 1600397397944,
     "user_tz": 300,
     "elapsed": 17891,
     "user": {
      "displayName": "CÉSAR ARMANDO BELTRÁN CASTAÑÓN",
      "photoUrl": "https://lh3.googleusercontent.com/a-/AOh14Gj1_E0G2ds1YP5B-_Pd9K7wtOg2dU42IvnRv3ibeA=s64",
      "userId": "10066086307676625511"
     }
    }
   },
   "source": [
    "def show_results(model, log):\n",
    "    loss, acc = model.evaluate(x_test, y_test, batch_size=512, verbose=False)\n",
    "    print(f'Loss     = {loss:.4f}')\n",
    "    print(f'Accuracy = {acc:.4f}')\n",
    "    \n",
    "    val_loss = log.history['val_loss']\n",
    "    val_acc = log.history['val_accuracy']\n",
    "        \n",
    "    fig, axes = plt.subplots(1, 2, figsize=(14,4))\n",
    "    ax1, ax2 = axes\n",
    "    ax1.plot(log.history['loss'], label='train')\n",
    "    ax1.plot(val_loss, label='test')\n",
    "    ax1.set_xlabel('epoch'); ax1.set_ylabel('loss')\n",
    "    ax2.plot(log.history['accuracy'], label='train')\n",
    "    ax2.plot(val_acc, label='test')\n",
    "    ax2.set_xlabel('epoch'); ax2.set_ylabel('accuracy')\n",
    "    for ax in axes: ax.legend()"
   ],
   "execution_count": 23,
   "outputs": []
  },
  {
   "cell_type": "code",
   "metadata": {
    "id": "u2gq4oP4rose",
    "colab_type": "code",
    "colab": {
     "base_uri": "https://localhost:8080/",
     "height": 291
    },
    "executionInfo": {
     "status": "ok",
     "timestamp": 1600397398639,
     "user_tz": 300,
     "elapsed": 18562,
     "user": {
      "displayName": "CÉSAR ARMANDO BELTRÁN CASTAÑÓN",
      "photoUrl": "https://lh3.googleusercontent.com/a-/AOh14Gj1_E0G2ds1YP5B-_Pd9K7wtOg2dU42IvnRv3ibeA=s64",
      "userId": "10066086307676625511"
     }
    },
    "outputId": "1e26b251-c4c4-45c5-a79c-2f11f547e643"
   },
   "source": [
    "show_results(model, log)"
   ],
   "execution_count": 24,
   "outputs": [
    {
     "output_type": "stream",
     "text": [
      "Loss     = 1.2682\n",
      "Accuracy = 0.8616\n"
     ],
     "name": "stdout"
    },
    {
     "output_type": "display_data",
     "data": {
      "image/png": "[encoded data removed]",
      "text/plain": [
       "<Figure size 1008x288 with 2 Axes>"
      ]
     },
     "metadata": {
      "tags": [],
      "needs_background": "light"
     }
    }
   ]
  },
  {
   "cell_type": "markdown",
   "metadata": {
    "id": "FHCW4JeCrosg",
    "colab_type": "text"
   },
   "source": [
    "## Cycling learning rates"
   ]
  },
  {
   "cell_type": "code",
   "metadata": {
    "id": "sx9pvcOfrosh",
    "colab_type": "code",
    "colab": {},
    "executionInfo": {
     "status": "ok",
     "timestamp": 1600397398640,
     "user_tz": 300,
     "elapsed": 18556,
     "user": {
      "displayName": "CÉSAR ARMANDO BELTRÁN CASTAÑÓN",
      "photoUrl": "https://lh3.googleusercontent.com/a-/AOh14Gj1_E0G2ds1YP5B-_Pd9K7wtOg2dU42IvnRv3ibeA=s64",
      "userId": "10066086307676625511"
     }
    }
   },
   "source": [
    "from custom_callbacks import CycleLearner\n",
    "\n",
    "cycle_learner = CycleLearner(lr, nb, n_cycle=3)"
   ],
   "execution_count": 25,
   "outputs": []
  },
  {
   "cell_type": "code",
   "metadata": {
    "id": "ITQtpHhnrosi",
    "colab_type": "code",
    "colab": {
     "base_uri": "https://localhost:8080/",
     "height": 141
    },
    "executionInfo": {
     "status": "ok",
     "timestamp": 1600397403286,
     "user_tz": 300,
     "elapsed": 23177,
     "user": {
      "displayName": "CÉSAR ARMANDO BELTRÁN CASTAÑÓN",
      "photoUrl": "https://lh3.googleusercontent.com/a-/AOh14Gj1_E0G2ds1YP5B-_Pd9K7wtOg2dU42IvnRv3ibeA=s64",
      "userId": "10066086307676625511"
     }
    },
    "outputId": "b2477d3f-4b24-4cbf-d0c8-f68051ddf4d0"
   },
   "source": [
    "reset_weights(model, 'model')\n",
    "\n",
    "log = model.fit(x_train, y_train, batch_size=bs, epochs=100,\n",
    "                validation_data=(x_test, y_test), callbacks=[cycle_learner])\n",
    "# La cantidad de épocas la va a controlar el callback. Cada ciclo es igual a la cantidad de batchs (nb)"
   ],
   "execution_count": 26,
   "outputs": [
    {
     "output_type": "stream",
     "text": [
      "Epoch 1/100\n",
      "235/235 [==============================] - 2s 7ms/step - loss: 15.6459 - accuracy: 0.5986 - val_loss: 6.2700 - val_accuracy: 0.7108\n",
      "Epoch 2/100\n",
      "235/235 [==============================] - 2s 7ms/step - loss: 4.7020 - accuracy: 0.7547 - val_loss: 3.8982 - val_accuracy: 0.7749\n",
      "Epoch 3/100\n",
      "235/235 [==============================] - 2s 7ms/step - loss: 3.4417 - accuracy: 0.7918 - val_loss: 3.0171 - val_accuracy: 0.8011\n"
     ],
     "name": "stdout"
    }
   ]
  },
  {
   "cell_type": "code",
   "metadata": {
    "id": "Kc380ol_rosk",
    "colab_type": "code",
    "colab": {
     "base_uri": "https://localhost:8080/",
     "height": 555
    },
    "executionInfo": {
     "status": "ok",
     "timestamp": 1600397404482,
     "user_tz": 300,
     "elapsed": 24355,
     "user": {
      "displayName": "CÉSAR ARMANDO BELTRÁN CASTAÑÓN",
      "photoUrl": "https://lh3.googleusercontent.com/a-/AOh14Gj1_E0G2ds1YP5B-_Pd9K7wtOg2dU42IvnRv3ibeA=s64",
      "userId": "10066086307676625511"
     }
    },
    "outputId": "b968b6dc-6b18-4c04-b723-43dce579c61c"
   },
   "source": [
    "cycle_learner.plot_lr()\n",
    "show_results(model, log)"
   ],
   "execution_count": 27,
   "outputs": [
    {
     "output_type": "stream",
     "text": [
      "Loss     = 3.0171\n",
      "Accuracy = 0.8011\n"
     ],
     "name": "stdout"
    },
    {
     "output_type": "display_data",
     "data": {
      "image/png": "[encoded data removed]",
      "text/plain": [
       "<Figure size 432x288 with 1 Axes>"
      ]
     },
     "metadata": {
      "tags": [],
      "needs_background": "light"
     }
    },
    {
     "output_type": "display_data",
     "data": {
      "image/png": "[encoded data removed]",
      "text/plain": [
       "<Figure size 1008x288 with 2 Axes>"
      ]
     },
     "metadata": {
      "tags": [],
      "needs_background": "light"
     }
    }
   ]
  },
  {
   "cell_type": "code",
   "metadata": {
    "id": "kbKFZCarrosm",
    "colab_type": "code",
    "colab": {
     "base_uri": "https://localhost:8080/",
     "height": 280
    },
    "executionInfo": {
     "status": "ok",
     "timestamp": 1600397415299,
     "user_tz": 300,
     "elapsed": 35150,
     "user": {
      "displayName": "CÉSAR ARMANDO BELTRÁN CASTAÑÓN",
      "photoUrl": "https://lh3.googleusercontent.com/a-/AOh14Gj1_E0G2ds1YP5B-_Pd9K7wtOg2dU42IvnRv3ibeA=s64",
      "userId": "10066086307676625511"
     }
    },
    "outputId": "4442c505-3c7b-4448-a037-b760a0c01cea"
   },
   "source": [
    "reset_weights(model, 'model')\n",
    "\n",
    "cycle_learner = CycleLearner(lr/2, nb, n_cycle=3, cycle_mult=2)\n",
    "log = model.fit(x_train, y_train, batch_size=bs, epochs=100,\n",
    "                validation_data=(x_test, y_test), callbacks=[cycle_learner])"
   ],
   "execution_count": 28,
   "outputs": [
    {
     "output_type": "stream",
     "text": [
      "Epoch 1/100\n",
      "235/235 [==============================] - 2s 7ms/step - loss: 20.6130 - accuracy: 0.5057 - val_loss: 9.6491 - val_accuracy: 0.6251\n",
      "Epoch 2/100\n",
      "235/235 [==============================] - 2s 7ms/step - loss: 6.7920 - accuracy: 0.7003 - val_loss: 5.0710 - val_accuracy: 0.7397\n",
      "Epoch 3/100\n",
      "235/235 [==============================] - 2s 6ms/step - loss: 4.9389 - accuracy: 0.7487 - val_loss: 4.6441 - val_accuracy: 0.7498\n",
      "Epoch 4/100\n",
      "235/235 [==============================] - 2s 7ms/step - loss: 4.1489 - accuracy: 0.7713 - val_loss: 3.4180 - val_accuracy: 0.7908\n",
      "Epoch 5/100\n",
      "235/235 [==============================] - 2s 6ms/step - loss: 3.2984 - accuracy: 0.7992 - val_loss: 2.9430 - val_accuracy: 0.8054\n",
      "Epoch 6/100\n",
      "235/235 [==============================] - 2s 7ms/step - loss: 2.9528 - accuracy: 0.8101 - val_loss: 2.7831 - val_accuracy: 0.8111\n",
      "Epoch 7/100\n",
      "235/235 [==============================] - 2s 7ms/step - loss: 2.8487 - accuracy: 0.8132 - val_loss: 2.7587 - val_accuracy: 0.8116\n"
     ],
     "name": "stdout"
    }
   ]
  },
  {
   "cell_type": "code",
   "metadata": {
    "id": "8RAC0V7Vroso",
    "colab_type": "code",
    "colab": {
     "base_uri": "https://localhost:8080/",
     "height": 560
    },
    "executionInfo": {
     "status": "ok",
     "timestamp": 1600397416421,
     "user_tz": 300,
     "elapsed": 36258,
     "user": {
      "displayName": "CÉSAR ARMANDO BELTRÁN CASTAÑÓN",
      "photoUrl": "https://lh3.googleusercontent.com/a-/AOh14Gj1_E0G2ds1YP5B-_Pd9K7wtOg2dU42IvnRv3ibeA=s64",
      "userId": "10066086307676625511"
     }
    },
    "outputId": "47f313f3-e91d-49ad-8260-e3b6cd4452ac"
   },
   "source": [
    "cycle_learner.plot_lr()\n",
    "show_results(model, log)"
   ],
   "execution_count": 29,
   "outputs": [
    {
     "output_type": "stream",
     "text": [
      "Loss     = 2.7587\n",
      "Accuracy = 0.8116\n"
     ],
     "name": "stdout"
    },
    {
     "output_type": "display_data",
     "data": {
      "image/png": "[encoded data removed]",
      "text/plain": [
       "<Figure size 432x288 with 1 Axes>"
      ]
     },
     "metadata": {
      "tags": [],
      "needs_background": "light"
     }
    },
    {
     "output_type": "display_data",
     "data": {
      "image/png": "[encoded data removed]",
      "text/plain": [
       "<Figure size 1008x288 with 2 Axes>"
      ]
     },
     "metadata": {
      "tags": [],
      "needs_background": "light"
     }
    }
   ]
  },
  {
   "cell_type": "markdown",
   "metadata": {
    "id": "4qVy7Y8urosq",
    "colab_type": "text"
   },
   "source": [
    "## Snapshot ensembles"
   ]
  },
  {
   "cell_type": "code",
   "metadata": {
    "id": "8SFCoGA0DieS",
    "colab_type": "code",
    "colab": {},
    "executionInfo": {
     "status": "ok",
     "timestamp": 1600397416422,
     "user_tz": 300,
     "elapsed": 36249,
     "user": {
      "displayName": "CÉSAR ARMANDO BELTRÁN CASTAÑÓN",
      "photoUrl": "https://lh3.googleusercontent.com/a-/AOh14Gj1_E0G2ds1YP5B-_Pd9K7wtOg2dU42IvnRv3ibeA=s64",
      "userId": "10066086307676625511"
     }
    }
   },
   "source": [
    "%mkdir -p snapshots"
   ],
   "execution_count": 30,
   "outputs": []
  },
  {
   "cell_type": "code",
   "metadata": {
    "id": "DlHFB4x9rosq",
    "colab_type": "code",
    "colab": {
     "base_uri": "https://localhost:8080/",
     "height": 280
    },
    "executionInfo": {
     "status": "ok",
     "timestamp": 1600397441768,
     "user_tz": 300,
     "elapsed": 11696,
     "user": {
      "displayName": "CÉSAR ARMANDO BELTRÁN CASTAÑÓN",
      "photoUrl": "https://lh3.googleusercontent.com/a-/AOh14Gj1_E0G2ds1YP5B-_Pd9K7wtOg2dU42IvnRv3ibeA=s64",
      "userId": "10066086307676625511"
     }
    },
    "outputId": "f4b2752e-076d-43ce-a9a4-fbccc1424403"
   },
   "source": [
    "# Iniciamos el entrenamiento de forma normal\n",
    "reset_weights(model, 'model')\n",
    "\n",
    "cycle_learner = CycleLearner(lr, nb, n_cycle=3, cycle_mult=2)\n",
    "log = model.fit(x_train, y_train, batch_size=bs, epochs=100,\n",
    "                validation_data=(x_test, y_test), callbacks=[cycle_learner])"
   ],
   "execution_count": 31,
   "outputs": [
    {
     "output_type": "stream",
     "text": [
      "Epoch 1/100\n",
      "235/235 [==============================] - 2s 7ms/step - loss: 15.6459 - accuracy: 0.5986 - val_loss: 6.2700 - val_accuracy: 0.7108\n",
      "Epoch 2/100\n",
      "235/235 [==============================] - 2s 7ms/step - loss: 4.4797 - accuracy: 0.7618 - val_loss: 3.2799 - val_accuracy: 0.7917\n",
      "Epoch 3/100\n",
      "235/235 [==============================] - 2s 7ms/step - loss: 3.2159 - accuracy: 0.7990 - val_loss: 3.0163 - val_accuracy: 0.8003\n",
      "Epoch 4/100\n",
      "235/235 [==============================] - 2s 7ms/step - loss: 2.7209 - accuracy: 0.8151 - val_loss: 2.2342 - val_accuracy: 0.8255\n",
      "Epoch 5/100\n",
      "235/235 [==============================] - 2s 6ms/step - loss: 2.1337 - accuracy: 0.8350 - val_loss: 1.9177 - val_accuracy: 0.8395\n",
      "Epoch 6/100\n",
      "235/235 [==============================] - 2s 7ms/step - loss: 1.8915 - accuracy: 0.8452 - val_loss: 1.8078 - val_accuracy: 0.8428\n",
      "Epoch 7/100\n",
      "235/235 [==============================] - 2s 7ms/step - loss: 1.8147 - accuracy: 0.8480 - val_loss: 1.7923 - val_accuracy: 0.8436\n"
     ],
     "name": "stdout"
    }
   ]
  },
  {
   "cell_type": "code",
   "metadata": {
    "id": "i77lEbuSross",
    "colab_type": "code",
    "colab": {
     "base_uri": "https://localhost:8080/",
     "height": 245
    },
    "executionInfo": {
     "status": "ok",
     "timestamp": 1600397472054,
     "user_tz": 300,
     "elapsed": 10500,
     "user": {
      "displayName": "CÉSAR ARMANDO BELTRÁN CASTAÑÓN",
      "photoUrl": "https://lh3.googleusercontent.com/a-/AOh14Gj1_E0G2ds1YP5B-_Pd9K7wtOg2dU42IvnRv3ibeA=s64",
      "userId": "10066086307676625511"
     }
    },
    "outputId": "82631f00-ddee-442f-e199-60fe7d1b0eb1"
   },
   "source": [
    "# Activamos los snapshots\n",
    "cycle_learner = CycleLearner(lr/2, nb, n_cycle=3, cycle_len=2, snapshots=True, snapshots_name='mnist_test')\n",
    "log = model.fit(x_train, y_train, batch_size=bs, epochs=100,\n",
    "                validation_data=(x_test, y_test), callbacks=[cycle_learner])"
   ],
   "execution_count": 32,
   "outputs": [
    {
     "output_type": "stream",
     "text": [
      "Epoch 1/100\n",
      "235/235 [==============================] - 2s 7ms/step - loss: 1.7683 - accuracy: 0.8494 - val_loss: 1.6985 - val_accuracy: 0.8467\n",
      "Epoch 2/100\n",
      "235/235 [==============================] - 2s 7ms/step - loss: 1.6828 - accuracy: 0.8525 - val_loss: 1.6721 - val_accuracy: 0.8484\n",
      "Epoch 3/100\n",
      "235/235 [==============================] - 2s 7ms/step - loss: 1.6319 - accuracy: 0.8545 - val_loss: 1.5803 - val_accuracy: 0.8515\n",
      "Epoch 4/100\n",
      "235/235 [==============================] - 2s 7ms/step - loss: 1.5529 - accuracy: 0.8572 - val_loss: 1.5599 - val_accuracy: 0.8514\n",
      "Epoch 5/100\n",
      "235/235 [==============================] - 2s 6ms/step - loss: 1.5113 - accuracy: 0.8585 - val_loss: 1.4825 - val_accuracy: 0.8555\n",
      "Epoch 6/100\n",
      "235/235 [==============================] - 2s 7ms/step - loss: 1.4446 - accuracy: 0.8616 - val_loss: 1.4646 - val_accuracy: 0.8565\n"
     ],
     "name": "stdout"
    }
   ]
  },
  {
   "cell_type": "code",
   "metadata": {
    "id": "E4ZqU03Irosu",
    "colab_type": "code",
    "colab": {
     "base_uri": "https://localhost:8080/",
     "height": 560
    },
    "executionInfo": {
     "status": "ok",
     "timestamp": 1600397510568,
     "user_tz": 300,
     "elapsed": 1656,
     "user": {
      "displayName": "CÉSAR ARMANDO BELTRÁN CASTAÑÓN",
      "photoUrl": "https://lh3.googleusercontent.com/a-/AOh14Gj1_E0G2ds1YP5B-_Pd9K7wtOg2dU42IvnRv3ibeA=s64",
      "userId": "10066086307676625511"
     }
    },
    "outputId": "f3ae1030-2509-4e08-e5ce-fa04358e4b50"
   },
   "source": [
    "# Diferencia de usar \"cycle_len=2\" en lugar de \"cycle_mult=2\" en CycleLearner:\n",
    "cycle_learner.plot_lr()\n",
    "show_results(model, log)"
   ],
   "execution_count": 33,
   "outputs": [
    {
     "output_type": "stream",
     "text": [
      "Loss     = 1.4646\n",
      "Accuracy = 0.8565\n"
     ],
     "name": "stdout"
    },
    {
     "output_type": "display_data",
     "data": {
      "image/png": "[encoded data removed]",
      "text/plain": [
       "<Figure size 432x288 with 1 Axes>"
      ]
     },
     "metadata": {
      "tags": [],
      "needs_background": "light"
     }
    },
    {
     "output_type": "display_data",
     "data": {
      "image/png": "[encoded data removed]",
      "text/plain": [
       "<Figure size 1008x288 with 2 Axes>"
      ]
     },
     "metadata": {
      "tags": [],
      "needs_background": "light"
     }
    }
   ]
  },
  {
   "cell_type": "code",
   "metadata": {
    "scrolled": true,
    "id": "8H0jei_Lrosw",
    "colab_type": "code",
    "colab": {
     "base_uri": "https://localhost:8080/",
     "height": 69
    },
    "executionInfo": {
     "status": "ok",
     "timestamp": 1600397525439,
     "user_tz": 300,
     "elapsed": 778,
     "user": {
      "displayName": "CÉSAR ARMANDO BELTRÁN CASTAÑÓN",
      "photoUrl": "https://lh3.googleusercontent.com/a-/AOh14Gj1_E0G2ds1YP5B-_Pd9K7wtOg2dU42IvnRv3ibeA=s64",
      "userId": "10066086307676625511"
     }
    },
    "outputId": "d161fb25-4c48-45fd-b299-b2354bd323e6"
   },
   "source": [
    "# Archivos creados para los snapshots\n",
    "snapshots = 'snapshots'\n",
    "for file in os.listdir(snapshots):\n",
    "    print(file)"
   ],
   "execution_count": 34,
   "outputs": [
    {
     "output_type": "stream",
     "text": [
      "mnist_test_1.hdf5\n",
      "mnist_test_2.hdf5\n",
      "mnist_test_3.hdf5\n"
     ],
     "name": "stdout"
    }
   ]
  },
  {
   "cell_type": "code",
   "metadata": {
    "id": "LHWBXbYcxCKm",
    "colab_type": "code",
    "colab": {
     "base_uri": "https://localhost:8080/",
     "height": 35
    },
    "executionInfo": {
     "status": "ok",
     "timestamp": 1600397530007,
     "user_tz": 300,
     "elapsed": 739,
     "user": {
      "displayName": "CÉSAR ARMANDO BELTRÁN CASTAÑÓN",
      "photoUrl": "https://lh3.googleusercontent.com/a-/AOh14Gj1_E0G2ds1YP5B-_Pd9K7wtOg2dU42IvnRv3ibeA=s64",
      "userId": "10066086307676625511"
     }
    },
    "outputId": "e34cda2e-c955-4d17-b56d-f8a5b50bf28f"
   },
   "source": [
    "%ls snapshots"
   ],
   "execution_count": 35,
   "outputs": [
    {
     "output_type": "stream",
     "text": [
      "mnist_test_1.hdf5  mnist_test_2.hdf5  mnist_test_3.hdf5\n"
     ],
     "name": "stdout"
    }
   ]
  },
  {
   "cell_type": "code",
   "metadata": {
    "id": "zVVFmu0Lrosy",
    "colab_type": "code",
    "colab": {
     "base_uri": "https://localhost:8080/",
     "height": 35
    },
    "executionInfo": {
     "status": "ok",
     "timestamp": 1600397584791,
     "user_tz": 300,
     "elapsed": 1694,
     "user": {
      "displayName": "CÉSAR ARMANDO BELTRÁN CASTAÑÓN",
      "photoUrl": "https://lh3.googleusercontent.com/a-/AOh14Gj1_E0G2ds1YP5B-_Pd9K7wtOg2dU42IvnRv3ibeA=s64",
      "userId": "10066086307676625511"
     }
    },
    "outputId": "2ca7f15c-0481-43f3-a68d-0abf32a7c7dd"
   },
   "source": [
    "# Usando snapshots\n",
    "snapshots_results = np.zeros([10000,10])\n",
    "\n",
    "for file in os.listdir(snapshots):\n",
    "    model.load_weights(os.path.join(snapshots,file))\n",
    "    snapshots_results += model.predict(x_test) / 3\n",
    "    \n",
    "acc = (snapshots_results.argmax(axis=1) == y_test).mean()\n",
    "print(f'Snapshot accuracy = {acc}')"
   ],
   "execution_count": 36,
   "outputs": [
    {
     "output_type": "stream",
     "text": [
      "Snapshot accuracy = 0.8525\n"
     ],
     "name": "stdout"
    }
   ]
  }
 ]
}
