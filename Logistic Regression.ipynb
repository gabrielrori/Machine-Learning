{
 "nbformat": 4,
 "nbformat_minor": 0,
 "metadata": {
  "kernelspec": {
   "display_name": "Python 3",
   "language": "python",
   "name": "python3"
  },
  "language_info": {
   "codemirror_mode": {
    "name": "ipython",
    "version": 3
   },
   "file_extension": ".py",
   "mimetype": "text/x-python",
   "name": "python",
   "nbconvert_exporter": "python",
   "pygments_lexer": "ipython3",
   "version": "3.6.6"
  },
  "toc": {
   "base_numbering": 1,
   "nav_menu": {},
   "number_sections": true,
   "sideBar": true,
   "skip_h1_title": false,
   "title_cell": "Table of Contents",
   "title_sidebar": "Contents",
   "toc_cell": false,
   "toc_position": {
    "height": "calc(100% - 180px)",
    "left": "10px",
    "top": "150px",
    "width": "294px"
   },
   "toc_section_display": true,
   "toc_window_display": true
  },
  "colab": {
   "name": "02-logistic_regression.ipynb",
   "provenance": [],
   "collapsed_sections": []
  },
  "widgets": {
   "application/vnd.jupyter.widget-state+json": {
    "ce757f3643e54186a53cfe5e25fdf1ef": {
     "model_module": "@jupyter-widgets/controls",
     "model_name": "HBoxModel",
     "state": {
      "_view_name": "HBoxView",
      "_dom_classes": [],
      "_model_name": "HBoxModel",
      "_view_module": "@jupyter-widgets/controls",
      "_model_module_version": "1.5.0",
      "_view_count": null,
      "_view_module_version": "1.5.0",
      "box_style": "",
      "layout": "IPY_MODEL_d8eb3e80878a4467a8043a398549f02b",
      "_model_module": "@jupyter-widgets/controls",
      "children": [
       "IPY_MODEL_c7e66ee8781641cba27e1e17630cf0e8",
       "IPY_MODEL_46571129597b48068458bca10943f831"
      ]
     }
    },
    "d8eb3e80878a4467a8043a398549f02b": {
     "model_module": "@jupyter-widgets/base",
     "model_name": "LayoutModel",
     "state": {
      "_view_name": "LayoutView",
      "grid_template_rows": null,
      "right": null,
      "justify_content": null,
      "_view_module": "@jupyter-widgets/base",
      "overflow": null,
      "_model_module_version": "1.2.0",
      "_view_count": null,
      "flex_flow": null,
      "width": null,
      "min_width": null,
      "border": null,
      "align_items": null,
      "bottom": null,
      "_model_module": "@jupyter-widgets/base",
      "top": null,
      "grid_column": null,
      "overflow_y": null,
      "overflow_x": null,
      "grid_auto_flow": null,
      "grid_area": null,
      "grid_template_columns": null,
      "flex": null,
      "_model_name": "LayoutModel",
      "justify_items": null,
      "grid_row": null,
      "max_height": null,
      "align_content": null,
      "visibility": null,
      "align_self": null,
      "height": null,
      "min_height": null,
      "padding": null,
      "grid_auto_rows": null,
      "grid_gap": null,
      "max_width": null,
      "order": null,
      "_view_module_version": "1.2.0",
      "grid_template_areas": null,
      "object_position": null,
      "object_fit": null,
      "grid_auto_columns": null,
      "margin": null,
      "display": null,
      "left": null
     }
    },
    "c7e66ee8781641cba27e1e17630cf0e8": {
     "model_module": "@jupyter-widgets/controls",
     "model_name": "FloatProgressModel",
     "state": {
      "_view_name": "ProgressView",
      "style": "IPY_MODEL_2b04961986a14cffa00f4b2cebc89ec4",
      "_dom_classes": [],
      "description": "100%",
      "_model_name": "FloatProgressModel",
      "bar_style": "success",
      "max": 25,
      "_view_module": "@jupyter-widgets/controls",
      "_model_module_version": "1.5.0",
      "value": 25,
      "_view_count": null,
      "_view_module_version": "1.5.0",
      "orientation": "horizontal",
      "min": 0,
      "description_tooltip": null,
      "_model_module": "@jupyter-widgets/controls",
      "layout": "IPY_MODEL_ee62dc1ad1b7459ebeddc30b4d4cc22e"
     }
    },
    "46571129597b48068458bca10943f831": {
     "model_module": "@jupyter-widgets/controls",
     "model_name": "HTMLModel",
     "state": {
      "_view_name": "HTMLView",
      "style": "IPY_MODEL_7a10f97d0eea403da37abb4609ce0c52",
      "_dom_classes": [],
      "description": "",
      "_model_name": "HTMLModel",
      "placeholder": "​",
      "_view_module": "@jupyter-widgets/controls",
      "_model_module_version": "1.5.0",
      "value": " 25/25 [00:28&lt;00:00,  1.13s/it]",
      "_view_count": null,
      "_view_module_version": "1.5.0",
      "description_tooltip": null,
      "_model_module": "@jupyter-widgets/controls",
      "layout": "IPY_MODEL_cd1af318bb0d42f79c5483d7e8669894"
     }
    },
    "2b04961986a14cffa00f4b2cebc89ec4": {
     "model_module": "@jupyter-widgets/controls",
     "model_name": "ProgressStyleModel",
     "state": {
      "_view_name": "StyleView",
      "_model_name": "ProgressStyleModel",
      "description_width": "initial",
      "_view_module": "@jupyter-widgets/base",
      "_model_module_version": "1.5.0",
      "_view_count": null,
      "_view_module_version": "1.2.0",
      "bar_color": null,
      "_model_module": "@jupyter-widgets/controls"
     }
    },
    "ee62dc1ad1b7459ebeddc30b4d4cc22e": {
     "model_module": "@jupyter-widgets/base",
     "model_name": "LayoutModel",
     "state": {
      "_view_name": "LayoutView",
      "grid_template_rows": null,
      "right": null,
      "justify_content": null,
      "_view_module": "@jupyter-widgets/base",
      "overflow": null,
      "_model_module_version": "1.2.0",
      "_view_count": null,
      "flex_flow": null,
      "width": null,
      "min_width": null,
      "border": null,
      "align_items": null,
      "bottom": null,
      "_model_module": "@jupyter-widgets/base",
      "top": null,
      "grid_column": null,
      "overflow_y": null,
      "overflow_x": null,
      "grid_auto_flow": null,
      "grid_area": null,
      "grid_template_columns": null,
      "flex": null,
      "_model_name": "LayoutModel",
      "justify_items": null,
      "grid_row": null,
      "max_height": null,
      "align_content": null,
      "visibility": null,
      "align_self": null,
      "height": null,
      "min_height": null,
      "padding": null,
      "grid_auto_rows": null,
      "grid_gap": null,
      "max_width": null,
      "order": null,
      "_view_module_version": "1.2.0",
      "grid_template_areas": null,
      "object_position": null,
      "object_fit": null,
      "grid_auto_columns": null,
      "margin": null,
      "display": null,
      "left": null
     }
    },
    "7a10f97d0eea403da37abb4609ce0c52": {
     "model_module": "@jupyter-widgets/controls",
     "model_name": "DescriptionStyleModel",
     "state": {
      "_view_name": "StyleView",
      "_model_name": "DescriptionStyleModel",
      "description_width": "",
      "_view_module": "@jupyter-widgets/base",
      "_model_module_version": "1.5.0",
      "_view_count": null,
      "_view_module_version": "1.2.0",
      "_model_module": "@jupyter-widgets/controls"
     }
    },
    "cd1af318bb0d42f79c5483d7e8669894": {
     "model_module": "@jupyter-widgets/base",
     "model_name": "LayoutModel",
     "state": {
      "_view_name": "LayoutView",
      "grid_template_rows": null,
      "right": null,
      "justify_content": null,
      "_view_module": "@jupyter-widgets/base",
      "overflow": null,
      "_model_module_version": "1.2.0",
      "_view_count": null,
      "flex_flow": null,
      "width": null,
      "min_width": null,
      "border": null,
      "align_items": null,
      "bottom": null,
      "_model_module": "@jupyter-widgets/base",
      "top": null,
      "grid_column": null,
      "overflow_y": null,
      "overflow_x": null,
      "grid_auto_flow": null,
      "grid_area": null,
      "grid_template_columns": null,
      "flex": null,
      "_model_name": "LayoutModel",
      "justify_items": null,
      "grid_row": null,
      "max_height": null,
      "align_content": null,
      "visibility": null,
      "align_self": null,
      "height": null,
      "min_height": null,
      "padding": null,
      "grid_auto_rows": null,
      "grid_gap": null,
      "max_width": null,
      "order": null,
      "_view_module_version": "1.2.0",
      "grid_template_areas": null,
      "object_position": null,
      "object_fit": null,
      "grid_auto_columns": null,
      "margin": null,
      "display": null,
      "left": null
     }
    },
    "254428880448483bb858babf8b2090f0": {
     "model_module": "@jupyter-widgets/controls",
     "model_name": "HBoxModel",
     "state": {
      "_view_name": "HBoxView",
      "_dom_classes": [],
      "_model_name": "HBoxModel",
      "_view_module": "@jupyter-widgets/controls",
      "_model_module_version": "1.5.0",
      "_view_count": null,
      "_view_module_version": "1.5.0",
      "box_style": "",
      "layout": "IPY_MODEL_abf540b5fcf54b45b4c81b14018072f1",
      "_model_module": "@jupyter-widgets/controls",
      "children": [
       "IPY_MODEL_2e93690b4cc145559f8fc0d815aed252",
       "IPY_MODEL_aea4dddfaa8042728c821bdad723fd4b"
      ]
     }
    },
    "abf540b5fcf54b45b4c81b14018072f1": {
     "model_module": "@jupyter-widgets/base",
     "model_name": "LayoutModel",
     "state": {
      "_view_name": "LayoutView",
      "grid_template_rows": null,
      "right": null,
      "justify_content": null,
      "_view_module": "@jupyter-widgets/base",
      "overflow": null,
      "_model_module_version": "1.2.0",
      "_view_count": null,
      "flex_flow": null,
      "width": null,
      "min_width": null,
      "border": null,
      "align_items": null,
      "bottom": null,
      "_model_module": "@jupyter-widgets/base",
      "top": null,
      "grid_column": null,
      "overflow_y": null,
      "overflow_x": null,
      "grid_auto_flow": null,
      "grid_area": null,
      "grid_template_columns": null,
      "flex": null,
      "_model_name": "LayoutModel",
      "justify_items": null,
      "grid_row": null,
      "max_height": null,
      "align_content": null,
      "visibility": null,
      "align_self": null,
      "height": null,
      "min_height": null,
      "padding": null,
      "grid_auto_rows": null,
      "grid_gap": null,
      "max_width": null,
      "order": null,
      "_view_module_version": "1.2.0",
      "grid_template_areas": null,
      "object_position": null,
      "object_fit": null,
      "grid_auto_columns": null,
      "margin": null,
      "display": null,
      "left": null
     }
    },
    "2e93690b4cc145559f8fc0d815aed252": {
     "model_module": "@jupyter-widgets/controls",
     "model_name": "FloatProgressModel",
     "state": {
      "_view_name": "ProgressView",
      "style": "IPY_MODEL_8a6721aa3f624f59bf1abf9559e4d246",
      "_dom_classes": [],
      "description": "100%",
      "_model_name": "FloatProgressModel",
      "bar_style": "success",
      "max": 100,
      "_view_module": "@jupyter-widgets/controls",
      "_model_module_version": "1.5.0",
      "value": 100,
      "_view_count": null,
      "_view_module_version": "1.5.0",
      "orientation": "horizontal",
      "min": 0,
      "description_tooltip": null,
      "_model_module": "@jupyter-widgets/controls",
      "layout": "IPY_MODEL_9e76853fcca648ec9791cbdf94084a8d"
     }
    },
    "aea4dddfaa8042728c821bdad723fd4b": {
     "model_module": "@jupyter-widgets/controls",
     "model_name": "HTMLModel",
     "state": {
      "_view_name": "HTMLView",
      "style": "IPY_MODEL_410aec4faaa64b7b9d6270c92f4f12f7",
      "_dom_classes": [],
      "description": "",
      "_model_name": "HTMLModel",
      "placeholder": "​",
      "_view_module": "@jupyter-widgets/controls",
      "_model_module_version": "1.5.0",
      "value": " 100/100 [00:01&lt;00:00, 58.33it/s]",
      "_view_count": null,
      "_view_module_version": "1.5.0",
      "description_tooltip": null,
      "_model_module": "@jupyter-widgets/controls",
      "layout": "IPY_MODEL_2f194b57bc0a43e69551ffdd9576592e"
     }
    },
    "8a6721aa3f624f59bf1abf9559e4d246": {
     "model_module": "@jupyter-widgets/controls",
     "model_name": "ProgressStyleModel",
     "state": {
      "_view_name": "StyleView",
      "_model_name": "ProgressStyleModel",
      "description_width": "initial",
      "_view_module": "@jupyter-widgets/base",
      "_model_module_version": "1.5.0",
      "_view_count": null,
      "_view_module_version": "1.2.0",
      "bar_color": null,
      "_model_module": "@jupyter-widgets/controls"
     }
    },
    "9e76853fcca648ec9791cbdf94084a8d": {
     "model_module": "@jupyter-widgets/base",
     "model_name": "LayoutModel",
     "state": {
      "_view_name": "LayoutView",
      "grid_template_rows": null,
      "right": null,
      "justify_content": null,
      "_view_module": "@jupyter-widgets/base",
      "overflow": null,
      "_model_module_version": "1.2.0",
      "_view_count": null,
      "flex_flow": null,
      "width": null,
      "min_width": null,
      "border": null,
      "align_items": null,
      "bottom": null,
      "_model_module": "@jupyter-widgets/base",
      "top": null,
      "grid_column": null,
      "overflow_y": null,
      "overflow_x": null,
      "grid_auto_flow": null,
      "grid_area": null,
      "grid_template_columns": null,
      "flex": null,
      "_model_name": "LayoutModel",
      "justify_items": null,
      "grid_row": null,
      "max_height": null,
      "align_content": null,
      "visibility": null,
      "align_self": null,
      "height": null,
      "min_height": null,
      "padding": null,
      "grid_auto_rows": null,
      "grid_gap": null,
      "max_width": null,
      "order": null,
      "_view_module_version": "1.2.0",
      "grid_template_areas": null,
      "object_position": null,
      "object_fit": null,
      "grid_auto_columns": null,
      "margin": null,
      "display": null,
      "left": null
     }
    },
    "410aec4faaa64b7b9d6270c92f4f12f7": {
     "model_module": "@jupyter-widgets/controls",
     "model_name": "DescriptionStyleModel",
     "state": {
      "_view_name": "StyleView",
      "_model_name": "DescriptionStyleModel",
      "description_width": "",
      "_view_module": "@jupyter-widgets/base",
      "_model_module_version": "1.5.0",
      "_view_count": null,
      "_view_module_version": "1.2.0",
      "_model_module": "@jupyter-widgets/controls"
     }
    },
    "2f194b57bc0a43e69551ffdd9576592e": {
     "model_module": "@jupyter-widgets/base",
     "model_name": "LayoutModel",
     "state": {
      "_view_name": "LayoutView",
      "grid_template_rows": null,
      "right": null,
      "justify_content": null,
      "_view_module": "@jupyter-widgets/base",
      "overflow": null,
      "_model_module_version": "1.2.0",
      "_view_count": null,
      "flex_flow": null,
      "width": null,
      "min_width": null,
      "border": null,
      "align_items": null,
      "bottom": null,
      "_model_module": "@jupyter-widgets/base",
      "top": null,
      "grid_column": null,
      "overflow_y": null,
      "overflow_x": null,
      "grid_auto_flow": null,
      "grid_area": null,
      "grid_template_columns": null,
      "flex": null,
      "_model_name": "LayoutModel",
      "justify_items": null,
      "grid_row": null,
      "max_height": null,
      "align_content": null,
      "visibility": null,
      "align_self": null,
      "height": null,
      "min_height": null,
      "padding": null,
      "grid_auto_rows": null,
      "grid_gap": null,
      "max_width": null,
      "order": null,
      "_view_module_version": "1.2.0",
      "grid_template_areas": null,
      "object_position": null,
      "object_fit": null,
      "grid_auto_columns": null,
      "margin": null,
      "display": null,
      "left": null
     }
    }
   }
  }
 },
 "cells": [
  {
   "metadata": {},
   "cell_type": "markdown",
   "source": "# Regresion Logistica"
  },
  {
   "metadata": {
    "id": "lONGLJAMBsO1",
    "cellView": "form",
    "colab": {
     "base_uri": "https://localhost:8080/"
    },
    "outputId": "eac8b3a7-334d-42fd-a037-dc3cf8dc4383"
   },
   "cell_type": "code",
   "outputs": [
    {
     "output_type": "stream",
     "text": [
      "Writing utils.py\n"
     ],
     "name": "stdout"
    }
   ],
   "execution_count": 1,
   "source": [
    "%%writefile utils.py\n",
    "import numpy as np\n",
    "import matplotlib.pyplot as plt\n",
    "\n",
    "def L(y, y_): return -(y * np.log(y_ + 1e-9)).sum()\n",
    "\n",
    "def softmax(x):\n",
    "    exp = np.exp(x)\n",
    "    return  exp / exp.sum()\n",
    "\n",
    "def example(x, y, w, b):\n",
    "    fig, axes = plt.subplots(1, 7, figsize=(12,6), gridspec_kw={'width_ratios': [4]+[1]*6})\n",
    "    ax_w, ax_x, ax_b, ax_y_, ax_sm, ax_y, ax_l = axes\n",
    "    b = b[:,None]\n",
    "    y = y[:,None]\n",
    "\n",
    "    def mplot(x, ax, title):\n",
    "        ax.matshow(x, cmap=plt.cm.Reds, alpha=0.5)\n",
    "        for i in range(x.shape[0]):\n",
    "            for j in range(x.shape[1]):\n",
    "                ax.annotate(x[i,j], xy=(j,i), fontsize=15,\n",
    "                            horizontalalignment='center',\n",
    "                            verticalalignment='center')\n",
    "        ax.set_title(title)\n",
    "        ax.set_axis_off()\n",
    "\n",
    "    mplot(w, ax_w, '$ W $')\n",
    "\n",
    "    mplot(x, ax_x, '$ x $')\n",
    "\n",
    "    mplot(b, ax_b, '$ b $')\n",
    "\n",
    "    y_ = (w@x + b).round(2)\n",
    "    mplot(y_, ax_y_, '$ Wx+b $')\n",
    "\n",
    "    sm = softmax(y_).round(2)\n",
    "    mplot(sm, ax_sm, '$ \\hat{y} $ \\n $ softmax(Wx+b) $')\n",
    "\n",
    "    mplot(y, ax_y, '$ y $')\n",
    "\n",
    "    loss = np.asarray([[L(y[:,0], sm[:,0])]]).round(2)\n",
    "    mplot(loss, ax_l, '$ loss $')\n",
    "\n",
    "    plt.tight_layout()\n",
    "    plt.show()\n",
    "\n"
   ]
  },
  {
   "cell_type": "code",
   "metadata": {
    "id": "6zCFkNYwBdIM"
   },
   "source": [
    "import utils, math\n",
    "import numpy as np\n",
    "import pandas as pd\n",
    "import matplotlib.pyplot as plt\n",
    "from sklearn.datasets import load_iris\n",
    "from sklearn.model_selection import train_test_split\n",
    "from tqdm.notebook import tqdm\n",
    "%matplotlib inline"
   ],
   "execution_count": 2,
   "outputs": []
  },
  {
   "cell_type": "markdown",
   "metadata": {
    "id": "Wab5GzLfBdIP"
   },
   "source": "# Petalos de Iris: Load Data"
  },
  {
   "metadata": {},
   "cell_type": "code",
   "outputs": [],
   "execution_count": null,
   "source": [
    "data = load_iris()\n",
    "data.keys()"
   ]
  },
  {
   "cell_type": "code",
   "metadata": {
    "scrolled": true,
    "id": "kFAQw_Q_BdIT",
    "colab": {
     "base_uri": "https://localhost:8080/"
    },
    "outputId": "b51e10b3-bb07-46a1-b2b0-bbd84a820931"
   },
   "source": [
    "print(data['DESCR'])"
   ],
   "execution_count": 4,
   "outputs": [
    {
     "output_type": "stream",
     "text": [
      ".. _iris_dataset:\n",
      "\n",
      "Iris plants dataset\n",
      "--------------------\n",
      "\n",
      "**Data Set Characteristics:**\n",
      "\n",
      "    :Number of Instances: 150 (50 in each of three classes)\n",
      "    :Number of Attributes: 4 numeric, predictive attributes and the class\n",
      "    :Attribute Information:\n",
      "        - sepal length in cm\n",
      "        - sepal width in cm\n",
      "        - petal length in cm\n",
      "        - petal width in cm\n",
      "        - class:\n",
      "                - Iris-Setosa\n",
      "                - Iris-Versicolour\n",
      "                - Iris-Virginica\n",
      "                \n",
      "    :Summary Statistics:\n",
      "\n",
      "    ============== ==== ==== ======= ===== ====================\n",
      "                    Min  Max   Mean    SD   Class Correlation\n",
      "    ============== ==== ==== ======= ===== ====================\n",
      "    sepal length:   4.3  7.9   5.84   0.83    0.7826\n",
      "    sepal width:    2.0  4.4   3.05   0.43   -0.4194\n",
      "    petal length:   1.0  6.9   3.76   1.76    0.9490  (high!)\n",
      "    petal width:    0.1  2.5   1.20   0.76    0.9565  (high!)\n",
      "    ============== ==== ==== ======= ===== ====================\n",
      "\n",
      "    :Missing Attribute Values: None\n",
      "    :Class Distribution: 33.3% for each of 3 classes.\n",
      "    :Creator: R.A. Fisher\n",
      "    :Donor: Michael Marshall (MARSHALL%PLU@io.arc.nasa.gov)\n",
      "    :Date: July, 1988\n",
      "\n",
      "The famous Iris database, first used by Sir R.A. Fisher. The dataset is taken\n",
      "from Fisher's paper. Note that it's the same as in R, but not as in the UCI\n",
      "Machine Learning Repository, which has two wrong data points.\n",
      "\n",
      "This is perhaps the best known database to be found in the\n",
      "pattern recognition literature.  Fisher's paper is a classic in the field and\n",
      "is referenced frequently to this day.  (See Duda & Hart, for example.)  The\n",
      "data set contains 3 classes of 50 instances each, where each class refers to a\n",
      "type of iris plant.  One class is linearly separable from the other 2; the\n",
      "latter are NOT linearly separable from each other.\n",
      "\n",
      ".. topic:: References\n",
      "\n",
      "   - Fisher, R.A. \"The use of multiple measurements in taxonomic problems\"\n",
      "     Annual Eugenics, 7, Part II, 179-188 (1936); also in \"Contributions to\n",
      "     Mathematical Statistics\" (John Wiley, NY, 1950).\n",
      "   - Duda, R.O., & Hart, P.E. (1973) Pattern Classification and Scene Analysis.\n",
      "     (Q327.D83) John Wiley & Sons.  ISBN 0-471-22361-1.  See page 218.\n",
      "   - Dasarathy, B.V. (1980) \"Nosing Around the Neighborhood: A New System\n",
      "     Structure and Classification Rule for Recognition in Partially Exposed\n",
      "     Environments\".  IEEE Transactions on Pattern Analysis and Machine\n",
      "     Intelligence, Vol. PAMI-2, No. 1, 67-71.\n",
      "   - Gates, G.W. (1972) \"The Reduced Nearest Neighbor Rule\".  IEEE Transactions\n",
      "     on Information Theory, May 1972, 431-433.\n",
      "   - See also: 1988 MLC Proceedings, 54-64.  Cheeseman et al\"s AUTOCLASS II\n",
      "     conceptual clustering system finds 3 classes in the data.\n",
      "   - Many, many more ...\n"
     ],
     "name": "stdout"
    }
   ]
  },
  {
   "cell_type": "code",
   "metadata": {
    "id": "idDXTk7NBdIV",
    "colab": {
     "base_uri": "https://localhost:8080/",
     "height": 136
    },
    "outputId": "384de4be-78df-456a-a9f4-b72251da8854"
   },
   "source": [
    "pd.DataFrame(data['data'], columns=data['feature_names']).head(3)"
   ],
   "execution_count": 5,
   "outputs": [
    {
     "output_type": "execute_result",
     "data": {
      "text/html": [
       "<div>\n",
       "<style scoped>\n",
       "    .dataframe tbody tr th:only-of-type {\n",
       "        vertical-align: middle;\n",
       "    }\n",
       "\n",
       "    .dataframe tbody tr th {\n",
       "        vertical-align: top;\n",
       "    }\n",
       "\n",
       "    .dataframe thead th {\n",
       "        text-align: right;\n",
       "    }\n",
       "</style>\n",
       "<table border=\"1\" class=\"dataframe\">\n",
       "  <thead>\n",
       "    <tr style=\"text-align: right;\">\n",
       "      <th></th>\n",
       "      <th>sepal length (cm)</th>\n",
       "      <th>sepal width (cm)</th>\n",
       "      <th>petal length (cm)</th>\n",
       "      <th>petal width (cm)</th>\n",
       "    </tr>\n",
       "  </thead>\n",
       "  <tbody>\n",
       "    <tr>\n",
       "      <th>0</th>\n",
       "      <td>5.1</td>\n",
       "      <td>3.5</td>\n",
       "      <td>1.4</td>\n",
       "      <td>0.2</td>\n",
       "    </tr>\n",
       "    <tr>\n",
       "      <th>1</th>\n",
       "      <td>4.9</td>\n",
       "      <td>3.0</td>\n",
       "      <td>1.4</td>\n",
       "      <td>0.2</td>\n",
       "    </tr>\n",
       "    <tr>\n",
       "      <th>2</th>\n",
       "      <td>4.7</td>\n",
       "      <td>3.2</td>\n",
       "      <td>1.3</td>\n",
       "      <td>0.2</td>\n",
       "    </tr>\n",
       "  </tbody>\n",
       "</table>\n",
       "</div>"
      ],
      "text/plain": [
       "   sepal length (cm)  sepal width (cm)  petal length (cm)  petal width (cm)\n",
       "0                5.1               3.5                1.4               0.2\n",
       "1                4.9               3.0                1.4               0.2\n",
       "2                4.7               3.2                1.3               0.2"
      ]
     },
     "metadata": {
      "tags": []
     },
     "execution_count": 5
    }
   ]
  },
  {
   "cell_type": "code",
   "metadata": {
    "id": "Xx3yv0UEBdIY",
    "colab": {
     "base_uri": "https://localhost:8080/"
    },
    "outputId": "50a2fbb3-d544-4cf0-fe3b-c604195963ed"
   },
   "source": [
    "x = data['data']\n",
    "print(x.shape)\n",
    "x[:3]"
   ],
   "execution_count": 6,
   "outputs": [
    {
     "output_type": "stream",
     "text": [
      "(150, 4)\n"
     ],
     "name": "stdout"
    },
    {
     "output_type": "execute_result",
     "data": {
      "text/plain": [
       "array([[5.1, 3.5, 1.4, 0.2],\n",
       "       [4.9, 3. , 1.4, 0.2],\n",
       "       [4.7, 3.2, 1.3, 0.2]])"
      ]
     },
     "metadata": {
      "tags": []
     },
     "execution_count": 6
    }
   ]
  },
  {
   "cell_type": "code",
   "metadata": {
    "id": "LAWh6u3cgA23",
    "colab": {
     "base_uri": "https://localhost:8080/"
    },
    "outputId": "ced832fc-60e3-440c-f913-66be463ce776"
   },
   "source": [
    "type(x)"
   ],
   "execution_count": 7,
   "outputs": [
    {
     "output_type": "execute_result",
     "data": {
      "text/plain": [
       "numpy.ndarray"
      ]
     },
     "metadata": {
      "tags": []
     },
     "execution_count": 7
    }
   ]
  },
  {
   "cell_type": "code",
   "metadata": {
    "id": "zNFSEbNTBdIb",
    "colab": {
     "base_uri": "https://localhost:8080/"
    },
    "outputId": "18bb7630-fef1-4be2-81fb-16a6a39c5d07"
   },
   "source": [
    "y = data['target']\n",
    "print(y.shape)\n",
    "y[:5]"
   ],
   "execution_count": 8,
   "outputs": [
    {
     "output_type": "stream",
     "text": [
      "(150,)\n"
     ],
     "name": "stdout"
    },
    {
     "output_type": "execute_result",
     "data": {
      "text/plain": [
       "array([0, 0, 0, 0, 0])"
      ]
     },
     "metadata": {
      "tags": []
     },
     "execution_count": 8
    }
   ]
  },
  {
   "cell_type": "code",
   "metadata": {
    "id": "NJJyNhrmgZl4",
    "colab": {
     "base_uri": "https://localhost:8080/"
    },
    "outputId": "dc000404-6ab6-40b2-e19d-f45ef346e443"
   },
   "source": [
    "set(y)"
   ],
   "execution_count": 9,
   "outputs": [
    {
     "output_type": "execute_result",
     "data": {
      "text/plain": [
       "{0, 1, 2}"
      ]
     },
     "metadata": {
      "tags": []
     },
     "execution_count": 9
    }
   ]
  },
  {
   "cell_type": "code",
   "metadata": {
    "id": "tN-Eft6EBdId",
    "colab": {
     "base_uri": "https://localhost:8080/"
    },
    "outputId": "40c81284-a7ec-44bc-d9ba-a7b122921cc6"
   },
   "source": [
    "np.eye(3)"
   ],
   "execution_count": 10,
   "outputs": [
    {
     "output_type": "execute_result",
     "data": {
      "text/plain": [
       "array([[1., 0., 0.],\n",
       "       [0., 1., 0.],\n",
       "       [0., 0., 1.]])"
      ]
     },
     "metadata": {
      "tags": []
     },
     "execution_count": 10
    }
   ]
  },
  {
   "cell_type": "code",
   "metadata": {
    "id": "SwaHZNYGBdIg",
    "colab": {
     "base_uri": "https://localhost:8080/"
    },
    "outputId": "e66e2df0-9c49-4700-f9e3-dfb9d5c01007"
   },
   "source": [
    "# Cambiamos la representacion de y a one-hot\n",
    "y = np.eye(3)[y]\n",
    "print(y.shape)\n",
    "y"
   ],
   "execution_count": 11,
   "outputs": [
    {
     "output_type": "stream",
     "text": [
      "(150, 3)\n"
     ],
     "name": "stdout"
    },
    {
     "output_type": "execute_result",
     "data": {
      "text/plain": [
       "array([[1., 0., 0.],\n",
       "       [1., 0., 0.],\n",
       "       [1., 0., 0.],\n",
       "       [1., 0., 0.],\n",
       "       [1., 0., 0.],\n",
       "       [1., 0., 0.],\n",
       "       [1., 0., 0.],\n",
       "       [1., 0., 0.],\n",
       "       [1., 0., 0.],\n",
       "       [1., 0., 0.],\n",
       "       [1., 0., 0.],\n",
       "       [1., 0., 0.],\n",
       "       [1., 0., 0.],\n",
       "       [1., 0., 0.],\n",
       "       [1., 0., 0.],\n",
       "       [1., 0., 0.],\n",
       "       [1., 0., 0.],\n",
       "       [1., 0., 0.],\n",
       "       [1., 0., 0.],\n",
       "       [1., 0., 0.],\n",
       "       [1., 0., 0.],\n",
       "       [1., 0., 0.],\n",
       "       [1., 0., 0.],\n",
       "       [1., 0., 0.],\n",
       "       [1., 0., 0.],\n",
       "       [1., 0., 0.],\n",
       "       [1., 0., 0.],\n",
       "       [1., 0., 0.],\n",
       "       [1., 0., 0.],\n",
       "       [1., 0., 0.],\n",
       "       [1., 0., 0.],\n",
       "       [1., 0., 0.],\n",
       "       [1., 0., 0.],\n",
       "       [1., 0., 0.],\n",
       "       [1., 0., 0.],\n",
       "       [1., 0., 0.],\n",
       "       [1., 0., 0.],\n",
       "       [1., 0., 0.],\n",
       "       [1., 0., 0.],\n",
       "       [1., 0., 0.],\n",
       "       [1., 0., 0.],\n",
       "       [1., 0., 0.],\n",
       "       [1., 0., 0.],\n",
       "       [1., 0., 0.],\n",
       "       [1., 0., 0.],\n",
       "       [1., 0., 0.],\n",
       "       [1., 0., 0.],\n",
       "       [1., 0., 0.],\n",
       "       [1., 0., 0.],\n",
       "       [1., 0., 0.],\n",
       "       [0., 1., 0.],\n",
       "       [0., 1., 0.],\n",
       "       [0., 1., 0.],\n",
       "       [0., 1., 0.],\n",
       "       [0., 1., 0.],\n",
       "       [0., 1., 0.],\n",
       "       [0., 1., 0.],\n",
       "       [0., 1., 0.],\n",
       "       [0., 1., 0.],\n",
       "       [0., 1., 0.],\n",
       "       [0., 1., 0.],\n",
       "       [0., 1., 0.],\n",
       "       [0., 1., 0.],\n",
       "       [0., 1., 0.],\n",
       "       [0., 1., 0.],\n",
       "       [0., 1., 0.],\n",
       "       [0., 1., 0.],\n",
       "       [0., 1., 0.],\n",
       "       [0., 1., 0.],\n",
       "       [0., 1., 0.],\n",
       "       [0., 1., 0.],\n",
       "       [0., 1., 0.],\n",
       "       [0., 1., 0.],\n",
       "       [0., 1., 0.],\n",
       "       [0., 1., 0.],\n",
       "       [0., 1., 0.],\n",
       "       [0., 1., 0.],\n",
       "       [0., 1., 0.],\n",
       "       [0., 1., 0.],\n",
       "       [0., 1., 0.],\n",
       "       [0., 1., 0.],\n",
       "       [0., 1., 0.],\n",
       "       [0., 1., 0.],\n",
       "       [0., 1., 0.],\n",
       "       [0., 1., 0.],\n",
       "       [0., 1., 0.],\n",
       "       [0., 1., 0.],\n",
       "       [0., 1., 0.],\n",
       "       [0., 1., 0.],\n",
       "       [0., 1., 0.],\n",
       "       [0., 1., 0.],\n",
       "       [0., 1., 0.],\n",
       "       [0., 1., 0.],\n",
       "       [0., 1., 0.],\n",
       "       [0., 1., 0.],\n",
       "       [0., 1., 0.],\n",
       "       [0., 1., 0.],\n",
       "       [0., 1., 0.],\n",
       "       [0., 1., 0.],\n",
       "       [0., 1., 0.],\n",
       "       [0., 0., 1.],\n",
       "       [0., 0., 1.],\n",
       "       [0., 0., 1.],\n",
       "       [0., 0., 1.],\n",
       "       [0., 0., 1.],\n",
       "       [0., 0., 1.],\n",
       "       [0., 0., 1.],\n",
       "       [0., 0., 1.],\n",
       "       [0., 0., 1.],\n",
       "       [0., 0., 1.],\n",
       "       [0., 0., 1.],\n",
       "       [0., 0., 1.],\n",
       "       [0., 0., 1.],\n",
       "       [0., 0., 1.],\n",
       "       [0., 0., 1.],\n",
       "       [0., 0., 1.],\n",
       "       [0., 0., 1.],\n",
       "       [0., 0., 1.],\n",
       "       [0., 0., 1.],\n",
       "       [0., 0., 1.],\n",
       "       [0., 0., 1.],\n",
       "       [0., 0., 1.],\n",
       "       [0., 0., 1.],\n",
       "       [0., 0., 1.],\n",
       "       [0., 0., 1.],\n",
       "       [0., 0., 1.],\n",
       "       [0., 0., 1.],\n",
       "       [0., 0., 1.],\n",
       "       [0., 0., 1.],\n",
       "       [0., 0., 1.],\n",
       "       [0., 0., 1.],\n",
       "       [0., 0., 1.],\n",
       "       [0., 0., 1.],\n",
       "       [0., 0., 1.],\n",
       "       [0., 0., 1.],\n",
       "       [0., 0., 1.],\n",
       "       [0., 0., 1.],\n",
       "       [0., 0., 1.],\n",
       "       [0., 0., 1.],\n",
       "       [0., 0., 1.],\n",
       "       [0., 0., 1.],\n",
       "       [0., 0., 1.],\n",
       "       [0., 0., 1.],\n",
       "       [0., 0., 1.],\n",
       "       [0., 0., 1.],\n",
       "       [0., 0., 1.],\n",
       "       [0., 0., 1.],\n",
       "       [0., 0., 1.],\n",
       "       [0., 0., 1.],\n",
       "       [0., 0., 1.]])"
      ]
     },
     "metadata": {
      "tags": []
     },
     "execution_count": 11
    }
   ]
  },
  {
   "cell_type": "code",
   "metadata": {
    "id": "cNvlq_RzBdIk",
    "colab": {
     "base_uri": "https://localhost:8080/"
    },
    "outputId": "f10fd0b0-f0ee-48d4-cdbd-e66c7a9c6fc1"
   },
   "source": [
    "# Train validation split\n",
    "x_train, x_val, y_train, y_val = train_test_split(x, y, test_size=0.2, random_state=42)\n",
    "x_train.shape, x_val.shape, y_train.shape, y_val.shape"
   ],
   "execution_count": 12,
   "outputs": [
    {
     "output_type": "execute_result",
     "data": {
      "text/plain": [
       "((120, 4), (30, 4), (120, 3), (30, 3))"
      ]
     },
     "metadata": {
      "tags": []
     },
     "execution_count": 12
    }
   ]
  },
  {
   "cell_type": "code",
   "metadata": {
    "id": "oeQ78P1TBdIm",
    "colab": {
     "base_uri": "https://localhost:8080/"
    },
    "outputId": "f31c0f5a-245b-49c2-f52b-f4aadd0c80cc"
   },
   "source": [
    "data['target_names']"
   ],
   "execution_count": 13,
   "outputs": [
    {
     "output_type": "execute_result",
     "data": {
      "text/plain": [
       "array(['setosa', 'versicolor', 'virginica'], dtype='<U10')"
      ]
     },
     "metadata": {
      "tags": []
     },
     "execution_count": 13
    }
   ]
  },
  {
   "cell_type": "code",
   "metadata": {
    "id": "_z_pqeYiibHe",
    "colab": {
     "base_uri": "https://localhost:8080/"
    },
    "outputId": "b7cf9d15-4d23-4ef1-bec9-c54dac41ea20"
   },
   "source": [
    "for i,e in enumerate(data['target_names']):\n",
    "  print(i,e)"
   ],
   "execution_count": 14,
   "outputs": [
    {
     "output_type": "stream",
     "text": [
      "0 setosa\n",
      "1 versicolor\n",
      "2 virginica\n"
     ],
     "name": "stdout"
    }
   ]
  },
  {
   "cell_type": "code",
   "metadata": {
    "id": "3DXbDBb7BdIo",
    "colab": {
     "base_uri": "https://localhost:8080/"
    },
    "outputId": "2e9b7c8c-23d0-48a6-97a0-a13d6f1c8f92"
   },
   "source": [
    "# Armamos un diccionario para el target\n",
    "idx2class = {i:e for i,e in enumerate(data['target_names'])}\n",
    "idx2class"
   ],
   "execution_count": 15,
   "outputs": [
    {
     "output_type": "execute_result",
     "data": {
      "text/plain": [
       "{0: 'setosa', 1: 'versicolor', 2: 'virginica'}"
      ]
     },
     "metadata": {
      "tags": []
     },
     "execution_count": 15
    }
   ]
  },
  {
   "cell_type": "code",
   "metadata": {
    "id": "imgdwE6bjGyz",
    "colab": {
     "base_uri": "https://localhost:8080/"
    },
    "outputId": "8ac5d340-28e5-4ab7-c18c-7a2bd0c487e7"
   },
   "source": [
    "y_train[0]"
   ],
   "execution_count": 16,
   "outputs": [
    {
     "output_type": "execute_result",
     "data": {
      "text/plain": [
       "array([1., 0., 0.])"
      ]
     },
     "metadata": {
      "tags": []
     },
     "execution_count": 16
    }
   ]
  },
  {
   "cell_type": "code",
   "metadata": {
    "id": "M2xIZzuXBdIs",
    "colab": {
     "base_uri": "https://localhost:8080/"
    },
    "outputId": "11ce2fd8-db46-4ce6-8d66-5e4acd65d25c"
   },
   "source": [
    "eg_x = x_train[0]\n",
    "eg_y = y_train[0]\n",
    "eg_x, eg_y"
   ],
   "execution_count": 17,
   "outputs": [
    {
     "output_type": "execute_result",
     "data": {
      "text/plain": [
       "(array([4.6, 3.6, 1. , 0.2]), array([1., 0., 0.]))"
      ]
     },
     "metadata": {
      "tags": []
     },
     "execution_count": 17
    }
   ]
  },
  {
   "cell_type": "code",
   "metadata": {
    "id": "nJyjCJW0BdIu",
    "colab": {
     "base_uri": "https://localhost:8080/"
    },
    "outputId": "46d586fe-83d9-4005-c236-3d60e5ec7b30"
   },
   "source": [
    "eg_x.shape"
   ],
   "execution_count": 18,
   "outputs": [
    {
     "output_type": "execute_result",
     "data": {
      "text/plain": [
       "(4,)"
      ]
     },
     "metadata": {
      "tags": []
     },
     "execution_count": 18
    }
   ]
  },
  {
   "cell_type": "code",
   "metadata": {
    "id": "bGcBKeQVjdRe",
    "colab": {
     "base_uri": "https://localhost:8080/"
    },
    "outputId": "62be3ef9-8b18-4f69-84d0-340edc8236b9"
   },
   "source": [
    "x_train[0][:,None]"
   ],
   "execution_count": 19,
   "outputs": [
    {
     "output_type": "execute_result",
     "data": {
      "text/plain": [
       "array([[4.6],\n",
       "       [3.6],\n",
       "       [1. ],\n",
       "       [0.2]])"
      ]
     },
     "metadata": {
      "tags": []
     },
     "execution_count": 19
    }
   ]
  },
  {
   "cell_type": "code",
   "metadata": {
    "id": "VhDMW0ZiBdIw",
    "colab": {
     "base_uri": "https://localhost:8080/"
    },
    "outputId": "ebe52bad-624f-4030-bb76-2433299a314b"
   },
   "source": [
    "# Añadimos una dimension a eg_x\n",
    "eg_x = x_train[0][:,None]\n",
    "eg_x.shape"
   ],
   "execution_count": 20,
   "outputs": [
    {
     "output_type": "execute_result",
     "data": {
      "text/plain": [
       "(4, 1)"
      ]
     },
     "metadata": {
      "tags": []
     },
     "execution_count": 20
    }
   ]
  },
  {
   "cell_type": "code",
   "metadata": {
    "id": "WjMpCrD_BdIy",
    "colab": {
     "base_uri": "https://localhost:8080/"
    },
    "outputId": "9b4e4478-5e9d-4c74-c9f5-2616c0a675c8"
   },
   "source": [
    "eg_y.shape"
   ],
   "execution_count": 21,
   "outputs": [
    {
     "output_type": "execute_result",
     "data": {
      "text/plain": [
       "(3,)"
      ]
     },
     "metadata": {
      "tags": []
     },
     "execution_count": 21
    }
   ]
  },
  {
   "cell_type": "code",
   "metadata": {
    "id": "c28mIacJkA_J",
    "colab": {
     "base_uri": "https://localhost:8080/"
    },
    "outputId": "c56b9674-651a-4388-edab-b518fc9b62b3"
   },
   "source": [
    "np.random.normal(size=12).reshape((3,4)).round(1)"
   ],
   "execution_count": 22,
   "outputs": [
    {
     "output_type": "execute_result",
     "data": {
      "text/plain": [
       "array([[-0.3,  1.7,  0.8,  2.2],\n",
       "       [ 0.8, -0.2,  1.4, -0.2],\n",
       "       [-0.3, -0. , -0.8,  0.3]])"
      ]
     },
     "metadata": {
      "tags": []
     },
     "execution_count": 22
    }
   ]
  },
  {
   "cell_type": "code",
   "metadata": {
    "id": "4xSyl2QiBdI0",
    "colab": {
     "base_uri": "https://localhost:8080/"
    },
    "outputId": "fbebfbdc-0e97-43b4-a40b-35fc6c26e26d"
   },
   "source": [
    "# definimos una matriz de pesos eg_w\n",
    "np.random.seed(2)\n",
    "eg_w = np.random.normal(size=4*3).reshape((3,4)).round(1)\n",
    "print(f'shape: {eg_w.shape}')\n",
    "eg_w"
   ],
   "execution_count": 23,
   "outputs": [
    {
     "output_type": "stream",
     "text": [
      "shape: (3, 4)\n"
     ],
     "name": "stdout"
    },
    {
     "output_type": "execute_result",
     "data": {
      "text/plain": [
       "array([[-0.4, -0.1, -2.1,  1.6],\n",
       "       [-1.8, -0.8,  0.5, -1.2],\n",
       "       [-1.1, -0.9,  0.6,  2.3]])"
      ]
     },
     "metadata": {
      "tags": []
     },
     "execution_count": 23
    }
   ]
  },
  {
   "cell_type": "code",
   "metadata": {
    "id": "-lykb-QPlAOG",
    "colab": {
     "base_uri": "https://localhost:8080/"
    },
    "outputId": "1010df16-0960-4933-84cf-15051da13266"
   },
   "source": [
    "eg_w.ravel()"
   ],
   "execution_count": 24,
   "outputs": [
    {
     "output_type": "execute_result",
     "data": {
      "text/plain": [
       "array([-0.4, -0.1, -2.1,  1.6, -1.8, -0.8,  0.5, -1.2, -1.1, -0.9,  0.6,\n",
       "        2.3])"
      ]
     },
     "metadata": {
      "tags": []
     },
     "execution_count": 24
    }
   ]
  },
  {
   "cell_type": "code",
   "metadata": {
    "id": "pVJmZqt_BdI2",
    "colab": {
     "base_uri": "https://localhost:8080/"
    },
    "outputId": "a76ba49b-d986-44e9-d9a9-48d7fdb47a53"
   },
   "source": [
    "# definimos una matriz de bias eg_b\n",
    "np.random.seed(3)\n",
    "eg_b = np.random.normal(size=3).round(1)\n",
    "print(f'shape: {eg_b.shape}')\n",
    "eg_b"
   ],
   "execution_count": 25,
   "outputs": [
    {
     "output_type": "stream",
     "text": [
      "shape: (3,)\n"
     ],
     "name": "stdout"
    },
    {
     "output_type": "execute_result",
     "data": {
      "text/plain": [
       "array([1.8, 0.4, 0.1])"
      ]
     },
     "metadata": {
      "tags": []
     },
     "execution_count": 25
    }
   ]
  },
  {
   "cell_type": "markdown",
   "metadata": {
    "id": "QDkrX0dEBdI5"
   },
   "source": [
    "## Definimos el modelo"
   ]
  },
  {
   "cell_type": "markdown",
   "metadata": {
    "id": "mqRjjrPkBdI5"
   },
   "source": [
    "$ \\hat{y} = f(x) = Wx + b $"
   ]
  },
  {
   "cell_type": "code",
   "metadata": {
    "id": "LU35MV-jBdI5",
    "colab": {
     "base_uri": "https://localhost:8080/"
    },
    "outputId": "9981f8f5-6a9f-4a65-bb37-7848182acbc0"
   },
   "source": [
    "def f(x): return (eg_w@x).ravel() + eg_b\n",
    "\n",
    "eg_y_ = f(eg_x)\n",
    "print(f'data: {eg_y}')\n",
    "print(f'model: {eg_y_}')"
   ],
   "execution_count": 26,
   "outputs": [
    {
     "output_type": "stream",
     "text": [
      "data: [1. 0. 0.]\n",
      "model: [ -2.18 -10.5   -7.14]\n"
     ],
     "name": "stdout"
    }
   ]
  },
  {
   "cell_type": "markdown",
   "metadata": {
    "id": "yrxYtZcSBdI8"
   },
   "source": [
    "###  Softmax"
   ]
  },
  {
   "cell_type": "markdown",
   "metadata": {
    "id": "vDUrbTS6BdI9"
   },
   "source": [
    "$ softmax(\\hat{y_i}) = \\frac{e^{\\hat{y_i}}}{\\sum\\limits_j e^{\\hat{y_j}}} $"
   ]
  },
  {
   "cell_type": "code",
   "metadata": {
    "id": "sXFcJdzsBdI-",
    "colab": {
     "base_uri": "https://localhost:8080/"
    },
    "outputId": "0e2711e0-776b-470d-cd78-dbab7a52026e"
   },
   "source": [
    "np.exp(eg_y_)"
   ],
   "execution_count": 27,
   "outputs": [
    {
     "output_type": "execute_result",
     "data": {
      "text/plain": [
       "array([1.13041531e-01, 2.75364493e-05, 7.92752096e-04])"
      ]
     },
     "metadata": {
      "tags": []
     },
     "execution_count": 27
    }
   ]
  },
  {
   "cell_type": "code",
   "metadata": {
    "id": "bpHWBgNlBdJA",
    "colab": {
     "base_uri": "https://localhost:8080/"
    },
    "outputId": "08f79b88-dadc-489a-cd33-4baf91c3c0ae"
   },
   "source": [
    "np.exp(eg_y_).sum()"
   ],
   "execution_count": 28,
   "outputs": [
    {
     "output_type": "execute_result",
     "data": {
      "text/plain": [
       "0.1138618191862661"
      ]
     },
     "metadata": {
      "tags": []
     },
     "execution_count": 28
    }
   ]
  },
  {
   "cell_type": "code",
   "metadata": {
    "id": "fHsL_9OLBdJC",
    "colab": {
     "base_uri": "https://localhost:8080/"
    },
    "outputId": "3d427499-ecf8-4962-a5cc-76904790aed9"
   },
   "source": [
    "def softmax(x):\n",
    "    exp = np.exp(x)\n",
    "    return  exp / exp.sum()\n",
    "\n",
    "softmax(eg_y_)"
   ],
   "execution_count": 29,
   "outputs": [
    {
     "output_type": "execute_result",
     "data": {
      "text/plain": [
       "array([9.92795754e-01, 2.41840940e-04, 6.96240498e-03])"
      ]
     },
     "metadata": {
      "tags": []
     },
     "execution_count": 29
    }
   ]
  },
  {
   "cell_type": "markdown",
   "metadata": {
    "id": "8KKfaYo8BdJE"
   },
   "source": [
    "### Incluyendo la funcion de activacion\n",
    "\n",
    "$ \\hat{y} = f(x) =  softmax(Wx + b) $"
   ]
  },
  {
   "cell_type": "code",
   "metadata": {
    "id": "I77gqHBTBdJE",
    "colab": {
     "base_uri": "https://localhost:8080/"
    },
    "outputId": "0400c22d-96fc-4d3d-aa04-3fe0f86ad397"
   },
   "source": [
    "def f(x): return softmax((eg_w@x).ravel() + eg_b)\n",
    "\n",
    "eg_y_ = f(eg_x)\n",
    "print(f'data: {eg_y}')\n",
    "print(f'model: {eg_y_}')"
   ],
   "execution_count": 30,
   "outputs": [
    {
     "output_type": "stream",
     "text": [
      "data: [1. 0. 0.]\n",
      "model: [9.92795754e-01 2.41840940e-04 6.96240498e-03]\n"
     ],
     "name": "stdout"
    }
   ]
  },
  {
   "cell_type": "code",
   "metadata": {
    "id": "R6GXAD3elnxb",
    "colab": {
     "base_uri": "https://localhost:8080/"
    },
    "outputId": "27c23be2-15a5-4c71-9730-6afa114f1a78"
   },
   "source": [
    "np.argmax(eg_y_)"
   ],
   "execution_count": 31,
   "outputs": [
    {
     "output_type": "execute_result",
     "data": {
      "text/plain": [
       "0"
      ]
     },
     "metadata": {
      "tags": []
     },
     "execution_count": 31
    }
   ]
  },
  {
   "cell_type": "markdown",
   "metadata": {
    "id": "towV2wXSBdJG"
   },
   "source": [
    "## Loss function: Cross entropy\n",
    "\n",
    "$ L = - \\frac{1}{m} \\sum\\limits_{i=1}^m p(x_i) \\log{q(x_i)} $\n",
    "\n",
    "* p(x): real values\n",
    "* q(x): predicted values"
   ]
  },
  {
   "cell_type": "markdown",
   "metadata": {
    "id": "SUL1DknTBdJG"
   },
   "source": [
    "$ \\log{q(x_i)} = \\log{\\frac{e^{\\hat{y_i}}}{\\sum\\limits_j e^{\\hat{y_j}}}} $"
   ]
  },
  {
   "cell_type": "code",
   "metadata": {
    "id": "icjeLzjABdJG",
    "colab": {
     "base_uri": "https://localhost:8080/"
    },
    "outputId": "010b5cd7-e098-45d4-e803-53ab5e8153c8"
   },
   "source": [
    "np.log(eg_y_)"
   ],
   "execution_count": 32,
   "outputs": [
    {
     "output_type": "execute_result",
     "data": {
      "text/plain": [
       "array([-7.23032181e-03, -8.32723032e+00, -4.96723032e+00])"
      ]
     },
     "metadata": {
      "tags": []
     },
     "execution_count": 32
    }
   ]
  },
  {
   "cell_type": "code",
   "metadata": {
    "id": "ojn6RyohBdJJ",
    "colab": {
     "base_uri": "https://localhost:8080/"
    },
    "outputId": "8dd37b99-2dad-4d85-c738-2bd9088329ac"
   },
   "source": [
    "def L(y, y_): return -(y * np.log(y_ + 1e-9)).sum()\n",
    "\n",
    "eg_loss = L(eg_y, eg_y_)\n",
    "eg_loss"
   ],
   "execution_count": 33,
   "outputs": [
    {
     "output_type": "execute_result",
     "data": {
      "text/plain": [
       "0.007230320801531907"
      ]
     },
     "metadata": {
      "tags": []
     },
     "execution_count": 33
    }
   ]
  },
  {
   "cell_type": "code",
   "metadata": {
    "id": "L2V3sNZ9BdJN",
    "colab": {
     "base_uri": "https://localhost:8080/",
     "height": 314
    },
    "outputId": "b37b0bc7-0a4f-453c-82ef-0f8833acda11"
   },
   "source": [
    "i = np.random.choice(len(x_train))\n",
    "i = 0\n",
    "eg_x = x_train[i][:,None]\n",
    "eg_y = y_train[i]\n",
    "eg_w = np.random.normal(size=4*3).reshape((3,4)).round(2)\n",
    "eg_b = np.random.normal(size=3).round(2)\n",
    "\n",
    "utils.example(eg_x, eg_y, eg_w, eg_b)"
   ],
   "execution_count": 34,
   "outputs": [
    {
     "output_type": "display_data",
     "data": {
      "image/png": "[encoded data removed]",
      "text/plain": [
       "<Figure size 864x432 with 7 Axes>"
      ]
     },
     "metadata": {
      "tags": [],
      "needs_background": "light"
     }
    }
   ]
  },
  {
   "cell_type": "markdown",
   "metadata": {
    "id": "aT3pxmCgBdJQ"
   },
   "source": [
    "# Tensorflow"
   ]
  },
  {
   "cell_type": "markdown",
   "metadata": {
    "id": "_8AGsfyPBdJQ"
   },
   "source": "Calcular automaticamente las gradientes de nuestras operaciones."
  },
  {
   "cell_type": "code",
   "metadata": {
    "id": "XUvCPNhQmm7m",
    "colab": {
     "base_uri": "https://localhost:8080/"
    },
    "outputId": "bdf60ac8-8574-4edf-964d-6a4c084d4aa9"
   },
   "source": [
    "type(x_train)"
   ],
   "execution_count": 38,
   "outputs": [
    {
     "output_type": "execute_result",
     "data": {
      "text/plain": [
       "numpy.ndarray"
      ]
     },
     "metadata": {
      "tags": []
     },
     "execution_count": 38
    }
   ]
  },
  {
   "cell_type": "code",
   "metadata": {
    "id": "RUJPCeseBdJQ"
   },
   "source": [
    "%tensorflow_version 2.x\n",
    "import tensorflow as tf\n",
    "\n",
    "# tf Graph Input\n",
    "X = tf.cast(x_train[:5], dtype=tf.double)\n",
    "Y = tf.cast(y_train[:5], dtype=tf.double)\n",
    "\n",
    "# Set model weights\n",
    "W = tf.random_normal_initializer()((4,3), dtype=tf.double)\n",
    "b = tf.random_normal_initializer()((3,), dtype=tf.double)\n",
    "\n",
    "with tf.GradientTape() as g:\n",
    "    g.watch([W, b])\n",
    "    y_ = tf.nn.softmax((X @ W) + b)\n",
    "    loss = tf.reduce_mean(-tf.reduce_sum(Y * tf.math.log(y_ + 1e-9), axis=1))"
   ],
   "execution_count": 39,
   "outputs": []
  },
  {
   "cell_type": "code",
   "metadata": {
    "id": "-q4Tg5jWnTIE",
    "colab": {
     "base_uri": "https://localhost:8080/"
    },
    "outputId": "321ad5fc-ab26-470e-d274-954edc2d3864"
   },
   "source": [
    "loss"
   ],
   "execution_count": 40,
   "outputs": [
    {
     "output_type": "execute_result",
     "data": {
      "text/plain": [
       "<tf.Tensor: shape=(), dtype=float64, numpy=0.959230024061506>"
      ]
     },
     "metadata": {
      "tags": []
     },
     "execution_count": 40
    }
   ]
  },
  {
   "cell_type": "code",
   "metadata": {
    "id": "B7ULE78CHv4N",
    "colab": {
     "base_uri": "https://localhost:8080/"
    },
    "outputId": "5b09f3ca-a802-49c7-86b2-a0571ea62181"
   },
   "source": [
    "loss.numpy()"
   ],
   "execution_count": 41,
   "outputs": [
    {
     "output_type": "execute_result",
     "data": {
      "text/plain": [
       "0.959230024061506"
      ]
     },
     "metadata": {
      "tags": []
     },
     "execution_count": 41
    }
   ]
  },
  {
   "cell_type": "code",
   "metadata": {
    "id": "UkxnGtvJnaYi",
    "colab": {
     "base_uri": "https://localhost:8080/"
    },
    "outputId": "c4cdf1d5-bea7-4fa1-f8b4-f3b70bbebee2"
   },
   "source": [
    "W"
   ],
   "execution_count": 42,
   "outputs": [
    {
     "output_type": "execute_result",
     "data": {
      "text/plain": [
       "<tf.Tensor: shape=(4, 3), dtype=float64, numpy=\n",
       "array([[ 0.01554093,  0.04515644,  0.02207593],\n",
       "       [ 0.06541641, -0.03440198, -0.04375043],\n",
       "       [-0.07584181,  0.02134968, -0.02960687],\n",
       "       [ 0.07155314,  0.0505619 ,  0.00480047]])>"
      ]
     },
     "metadata": {
      "tags": []
     },
     "execution_count": 42
    }
   ]
  },
  {
   "cell_type": "code",
   "metadata": {
    "id": "z_tkJK3kBdJV",
    "colab": {
     "base_uri": "https://localhost:8080/"
    },
    "outputId": "1d499d61-d695-4aa0-f593-95fd916a892f"
   },
   "source": [
    "W.numpy()"
   ],
   "execution_count": 43,
   "outputs": [
    {
     "output_type": "execute_result",
     "data": {
      "text/plain": [
       "array([[ 0.01554093,  0.04515644,  0.02207593],\n",
       "       [ 0.06541641, -0.03440198, -0.04375043],\n",
       "       [-0.07584181,  0.02134968, -0.02960687],\n",
       "       [ 0.07155314,  0.0505619 ,  0.00480047]])"
      ]
     },
     "metadata": {
      "tags": []
     },
     "execution_count": 43
    }
   ]
  },
  {
   "cell_type": "code",
   "metadata": {
    "id": "FK6cPNsBBdJe"
   },
   "source": [
    "#Veamos las gradientes\n",
    "W_gradients, b_gradients = g.gradient(loss, [W, b])"
   ],
   "execution_count": 44,
   "outputs": []
  },
  {
   "cell_type": "code",
   "metadata": {
    "id": "bNDZnKmD5cvy",
    "colab": {
     "base_uri": "https://localhost:8080/"
    },
    "outputId": "e7f679e1-ee9c-4f43-de11-7a56e0c56644"
   },
   "source": [
    "W_gradients.numpy()"
   ],
   "execution_count": 45,
   "outputs": [
    {
     "output_type": "execute_result",
     "data": {
      "text/plain": [
       "array([[-2.02686771,  0.60133413,  1.42553358],\n",
       "       [-1.63528023,  0.66921453,  0.9660657 ],\n",
       "       [-0.40473834, -0.12416916,  0.5289075 ],\n",
       "       [-0.03805443, -0.09023352,  0.12828794]])"
      ]
     },
     "metadata": {
      "tags": []
     },
     "execution_count": 45
    }
   ]
  },
  {
   "cell_type": "code",
   "metadata": {
    "id": "w87vukmp5gKX",
    "colab": {
     "base_uri": "https://localhost:8080/"
    },
    "outputId": "1f3fcef8-0d42-4eb6-bc7e-d17818370275"
   },
   "source": [
    "b_gradients.numpy()"
   ],
   "execution_count": 46,
   "outputs": [
    {
     "output_type": "execute_result",
     "data": {
      "text/plain": [
       "array([-0.43956198,  0.16625199,  0.27330999])"
      ]
     },
     "metadata": {
      "tags": []
     },
     "execution_count": 46
    }
   ]
  },
  {
   "cell_type": "markdown",
   "metadata": {
    "id": "WJXm_ORtBdJg"
   },
   "source": [
    "## Optimizacion: Mini-batch gradient descent"
   ]
  },
  {
   "cell_type": "code",
   "metadata": {
    "id": "gwVAgXFCBdJg",
    "colab": {
     "base_uri": "https://localhost:8080/"
    },
    "outputId": "6ea8c4b4-6fb5-4618-9695-6f6b90a80a32"
   },
   "source": [
    "# Params\n",
    "bs = 32 # Batch size\n",
    "epochs = 25\n",
    "lr = 0.1\n",
    "optimizer = tf.optimizers.SGD(learning_rate=lr)\n",
    "\n",
    "nb = math.ceil(len(x_train) / bs)\n",
    "nb # Número de batches por epoch"
   ],
   "execution_count": 47,
   "outputs": [
    {
     "output_type": "execute_result",
     "data": {
      "text/plain": [
       "4"
      ]
     },
     "metadata": {
      "tags": []
     },
     "execution_count": 47
    }
   ]
  },
  {
   "cell_type": "code",
   "metadata": {
    "id": "iN4Q5U8rfnN1"
   },
   "source": [
    "def softmax(X, W, b):\n",
    "    return tf.nn.softmax((X @ W) + b)"
   ],
   "execution_count": 48,
   "outputs": []
  },
  {
   "cell_type": "code",
   "metadata": {
    "id": "2wk-Pt7yVG3V"
   },
   "source": [
    "def compute_loss(X, Y, W, b):\n",
    "    y_ = softmax(X, W, b)\n",
    "    return tf.reduce_mean(-tf.reduce_sum(Y * tf.math.log(y_ + 1e-9), axis=1))"
   ],
   "execution_count": 49,
   "outputs": []
  },
  {
   "cell_type": "code",
   "metadata": {
    "id": "eWbm35xyBdJi",
    "colab": {
     "base_uri": "https://localhost:8080/",
     "height": 330,
     "referenced_widgets": [
      "ce757f3643e54186a53cfe5e25fdf1ef",
      "d8eb3e80878a4467a8043a398549f02b",
      "c7e66ee8781641cba27e1e17630cf0e8",
      "46571129597b48068458bca10943f831",
      "2b04961986a14cffa00f4b2cebc89ec4",
      "ee62dc1ad1b7459ebeddc30b4d4cc22e",
      "7a10f97d0eea403da37abb4609ce0c52",
      "cd1af318bb0d42f79c5483d7e8669894"
     ]
    },
    "outputId": "b4a606ba-b5ce-4b1f-dcd8-6e67b3255293"
   },
   "source": [
    "# Train loop\n",
    "train_losses = []\n",
    "val_losses = []\n",
    "\n",
    "W = tf.Variable(tf.random_normal_initializer()((4,3), dtype=tf.double))\n",
    "b = tf.Variable(tf.random_normal_initializer()((3,), dtype=tf.double))\n",
    "\n",
    "for epoch in tqdm(range(epochs)):\n",
    "    # Cada epoch es un recorrido por todo el train set\n",
    "    for i in range(nb):\n",
    "        batch_x = tf.cast(x_train[i*bs:(i+1)*bs], dtype = tf.double)\n",
    "        batch_y = tf.cast(y_train[i*bs:(i+1)*bs], dtype = tf.double)\n",
    "        batch_x = tf.stop_gradient(batch_x)\n",
    "        batch_y = tf.stop_gradient(batch_y)\n",
    "        with tf.GradientTape() as g:\n",
    "            g.watch([W, b])\n",
    "            loss = compute_loss(batch_x, batch_y, W, b)\n",
    "            gradients = g.gradient(loss, [W, b])\n",
    "            optimizer.apply_gradients(zip(gradients, [W, b]))\n",
    "\n",
    "\n",
    "    # Calculamos la perdida en el train y validation set luego de cada epoch\n",
    "    train_loss = compute_loss(x_train, y_train, W,b)\n",
    "    train_losses.append(train_loss)\n",
    "\n",
    "    val_loss = compute_loss(x_val, y_val, W,b)\n",
    "    val_losses.append(val_loss)\n",
    "\n",
    "plt.plot(train_losses, label='train')\n",
    "plt.plot(val_losses, label='validation')\n",
    "plt.legend()"
   ],
   "execution_count": 50,
   "outputs": [
    {
     "output_type": "display_data",
     "data": {
      "application/vnd.jupyter.widget-view+json": {
       "model_id": "ce757f3643e54186a53cfe5e25fdf1ef",
       "version_minor": 0,
       "version_major": 2
      },
      "text/plain": [
       "HBox(children=(FloatProgress(value=0.0, max=25.0), HTML(value='')))"
      ]
     },
     "metadata": {
      "tags": []
     }
    },
    {
     "output_type": "stream",
     "text": [
      "\n"
     ],
     "name": "stdout"
    },
    {
     "output_type": "execute_result",
     "data": {
      "text/plain": [
       "<matplotlib.legend.Legend at 0x7f6b82b07650>"
      ]
     },
     "metadata": {
      "tags": []
     },
     "execution_count": 50
    },
    {
     "output_type": "display_data",
     "data": {
      "image/png": "[encoded data removed]",
      "text/plain": [
       "<Figure size 432x288 with 1 Axes>"
      ]
     },
     "metadata": {
      "tags": [],
      "needs_background": "light"
     }
    }
   ]
  },
  {
   "cell_type": "markdown",
   "metadata": {
    "id": "4zpdwzM1BdJj"
   },
   "source": "## Resultado"
  },
  {
   "cell_type": "code",
   "metadata": {
    "id": "isTiyhClBdJk",
    "colab": {
     "base_uri": "https://localhost:8080/"
    },
    "outputId": "a5168e22-9f75-4381-e42d-b1148c706674"
   },
   "source": [
    "pred, pred_loss = softmax(x_val, W, b), compute_loss(x_val, y_val, W,b)\n",
    "pred_loss.numpy()"
   ],
   "execution_count": 51,
   "outputs": [
    {
     "output_type": "execute_result",
     "data": {
      "text/plain": [
       "0.5687122532121687"
      ]
     },
     "metadata": {
      "tags": []
     },
     "execution_count": 51
    }
   ]
  },
  {
   "cell_type": "code",
   "metadata": {
    "id": "c7sJTuTbBdJn",
    "colab": {
     "base_uri": "https://localhost:8080/"
    },
    "outputId": "60fcc17c-f554-4f5a-966e-5255c49327c3"
   },
   "source": [
    "y_val[0], pred.numpy()[0]"
   ],
   "execution_count": 52,
   "outputs": [
    {
     "output_type": "execute_result",
     "data": {
      "text/plain": [
       "(array([0., 1., 0.]), array([0.0249857 , 0.14983737, 0.82517693]))"
      ]
     },
     "metadata": {
      "tags": []
     },
     "execution_count": 52
    }
   ]
  },
  {
   "cell_type": "code",
   "metadata": {
    "id": "Dy81tHaJBdJr",
    "colab": {
     "base_uri": "https://localhost:8080/"
    },
    "outputId": "903d46b6-e31d-4351-96f7-0e0942b6f795"
   },
   "source": [
    "# Para obtener las predicciones finales vamos a usar np.argmax,\n",
    "# que devuelve el indice con el mayor valor\n",
    "np.argmax(y_val[0]), np.argmax(pred.numpy()[0])"
   ],
   "execution_count": 53,
   "outputs": [
    {
     "output_type": "execute_result",
     "data": {
      "text/plain": [
       "(1, 2)"
      ]
     },
     "metadata": {
      "tags": []
     },
     "execution_count": 53
    }
   ]
  },
  {
   "cell_type": "code",
   "metadata": {
    "id": "-WU1DvhXBdJy",
    "colab": {
     "base_uri": "https://localhost:8080/"
    },
    "outputId": "21151c01-ee2d-4d5a-8dc3-1f57ecde3857"
   },
   "source": [
    "# Obtenemos todos los labels\n",
    "real_labels = np.argmax(y_val, axis=1)\n",
    "pred_labels = np.argmax(pred.numpy(), axis=1)\n",
    "real_labels[:], pred_labels[:]"
   ],
   "execution_count": 54,
   "outputs": [
    {
     "output_type": "execute_result",
     "data": {
      "text/plain": [
       "(array([1, 0, 2, 1, 1, 0, 1, 2, 1, 1, 2, 0, 0, 0, 0, 1, 2, 1, 1, 2, 0, 2,\n",
       "        0, 2, 2, 2, 2, 2, 0, 0]),\n",
       " array([2, 0, 2, 2, 2, 0, 2, 2, 2, 2, 2, 0, 0, 0, 0, 2, 2, 2, 2, 2, 0, 2,\n",
       "        0, 2, 2, 2, 2, 2, 0, 0]))"
      ]
     },
     "metadata": {
      "tags": []
     },
     "execution_count": 54
    }
   ]
  },
  {
   "cell_type": "code",
   "metadata": {
    "id": "aBHHROaeBdJ0",
    "colab": {
     "base_uri": "https://localhost:8080/"
    },
    "outputId": "5ef5389c-ba30-44fe-b48d-c6f4db41f9ef"
   },
   "source": [
    "# Vamos a usar una metrica de accuracy para comparar los resultados\n",
    "pred_acc = (real_labels == pred_labels).mean()\n",
    "pred_acc"
   ],
   "execution_count": 55,
   "outputs": [
    {
     "output_type": "execute_result",
     "data": {
      "text/plain": [
       "0.7"
      ]
     },
     "metadata": {
      "tags": []
     },
     "execution_count": 55
    }
   ]
  },
  {
   "cell_type": "code",
   "metadata": {
    "id": "8qUIcMsiBdJ3",
    "colab": {
     "base_uri": "https://localhost:8080/"
    },
    "outputId": "8c390636-6e7a-42fc-c38e-54e8573f6107"
   },
   "source": [
    "print(f'Loss = {pred_loss:.2f}\\nAccuracy = {pred_acc:.2f}')"
   ],
   "execution_count": 56,
   "outputs": [
    {
     "output_type": "stream",
     "text": [
      "Loss = 0.57\n",
      "Accuracy = 0.70\n"
     ],
     "name": "stdout"
    }
   ]
  },
  {
   "cell_type": "markdown",
   "metadata": {
    "id": "gsY_3iyCBdJ5"
   },
   "source": [
    "# Keras"
   ]
  },
  {
   "cell_type": "markdown",
   "metadata": {
    "id": "uB9Os3p3BdJ5"
   },
   "source": "Codigo equivalente usando keras."
  },
  {
   "cell_type": "code",
   "metadata": {
    "id": "bfaa4b6WBdJ6",
    "colab": {
     "base_uri": "https://localhost:8080/",
     "height": 225
    },
    "outputId": "79fe6961-fa57-4f80-abf1-9c9ea0d444e1"
   },
   "source": [
    "from tensorflow.keras import backend as K\n",
    "from tensorflow.keras.layers import Dense, Input\n",
    "from tensorflow.keras.models import Model\n",
    "from tensorflow.keras.optimizers import SGD\n",
    "\n",
    "# Params\n",
    "bs = 32 # Batch size\n",
    "epochs = 25\n",
    "lr = 0.1\n",
    "\n",
    "K.clear_session()\n",
    "\n",
    "# Modelo\n",
    "input_layer = Input(shape=(4,))\n",
    "output = Dense(3, activation='softmax')(input_layer)\n",
    "model = Model(inputs=input_layer, outputs=output)\n",
    "\n",
    "model.compile(optimizer=SGD(lr), loss='categorical_crossentropy', metrics=['accuracy'])\n",
    "\n",
    "model.summary()"
   ],
   "execution_count": null,
   "outputs": [
    {
     "output_type": "stream",
     "text": [
      "Model: \"functional_1\"\n",
      "_________________________________________________________________\n",
      "Layer (type)                 Output Shape              Param #   \n",
      "=================================================================\n",
      "input_1 (InputLayer)         [(None, 4)]               0         \n",
      "_________________________________________________________________\n",
      "dense (Dense)                (None, 3)                 15        \n",
      "=================================================================\n",
      "Total params: 15\n",
      "Trainable params: 15\n",
      "Non-trainable params: 0\n",
      "_________________________________________________________________\n"
     ],
     "name": "stdout"
    }
   ]
  },
  {
   "cell_type": "code",
   "metadata": {
    "id": "OJZxYpjFjlj3",
    "colab": {
     "base_uri": "https://localhost:8080/",
     "height": 191
    },
    "outputId": "6db5c7ce-523c-4823-e85e-fedc555a7024"
   },
   "source": [
    "from tensorflow.keras import backend as K\n",
    "from tensorflow.keras.layers import Dense\n",
    "from tensorflow.keras.models import Sequential\n",
    "from tensorflow.keras.optimizers import SGD\n",
    "\n",
    "# Params\n",
    "bs = 32 # Batch size\n",
    "epochs = 25\n",
    "lr = 0.1\n",
    "\n",
    "K.clear_session()\n",
    "\n",
    "# Modelo\n",
    "model = Sequential()\n",
    "model.add(Dense(3, input_shape=(4,), activation='softmax'))\n",
    "\n",
    "model.compile(optimizer=SGD(lr), loss='categorical_crossentropy', metrics=['accuracy'])\n",
    "\n",
    "model.summary()"
   ],
   "execution_count": null,
   "outputs": [
    {
     "output_type": "stream",
     "text": [
      "Model: \"sequential\"\n",
      "_________________________________________________________________\n",
      "Layer (type)                 Output Shape              Param #   \n",
      "=================================================================\n",
      "dense (Dense)                (None, 3)                 15        \n",
      "=================================================================\n",
      "Total params: 15\n",
      "Trainable params: 15\n",
      "Non-trainable params: 0\n",
      "_________________________________________________________________\n"
     ],
     "name": "stdout"
    }
   ]
  },
  {
   "cell_type": "code",
   "metadata": {
    "scrolled": true,
    "id": "JGThzKMKBdJ9",
    "colab": {
     "base_uri": "https://localhost:8080/",
     "height": 904
    },
    "outputId": "3101b969-114d-422d-a9b1-580fa8527391"
   },
   "source": [
    "# Entrenamiento\n",
    "log = model.fit(x_train, y_train, batch_size=bs, epochs=epochs, validation_data=(x_val, y_val))"
   ],
   "execution_count": null,
   "outputs": [
    {
     "output_type": "stream",
     "text": [
      "Epoch 1/25\n",
      "4/4 [==============================] - 0s 48ms/step - loss: 2.9865 - accuracy: 0.2583 - val_loss: 2.3942 - val_accuracy: 0.3000\n",
      "Epoch 2/25\n",
      "4/4 [==============================] - 0s 6ms/step - loss: 1.5186 - accuracy: 0.2750 - val_loss: 1.0290 - val_accuracy: 0.3667\n",
      "Epoch 3/25\n",
      "4/4 [==============================] - 0s 5ms/step - loss: 0.8941 - accuracy: 0.5833 - val_loss: 1.1487 - val_accuracy: 0.4000\n",
      "Epoch 4/25\n",
      "4/4 [==============================] - 0s 5ms/step - loss: 1.0643 - accuracy: 0.5833 - val_loss: 0.9276 - val_accuracy: 0.6333\n",
      "Epoch 5/25\n",
      "4/4 [==============================] - 0s 5ms/step - loss: 0.9487 - accuracy: 0.6333 - val_loss: 1.5675 - val_accuracy: 0.4333\n",
      "Epoch 6/25\n",
      "4/4 [==============================] - 0s 5ms/step - loss: 0.7654 - accuracy: 0.7250 - val_loss: 0.6015 - val_accuracy: 0.7000\n",
      "Epoch 7/25\n",
      "4/4 [==============================] - 0s 5ms/step - loss: 0.6621 - accuracy: 0.6917 - val_loss: 0.6028 - val_accuracy: 0.7000\n",
      "Epoch 8/25\n",
      "4/4 [==============================] - 0s 5ms/step - loss: 0.5753 - accuracy: 0.7250 - val_loss: 1.0347 - val_accuracy: 0.6333\n",
      "Epoch 9/25\n",
      "4/4 [==============================] - 0s 6ms/step - loss: 0.9510 - accuracy: 0.6333 - val_loss: 1.2218 - val_accuracy: 0.6333\n",
      "Epoch 10/25\n",
      "4/4 [==============================] - 0s 5ms/step - loss: 0.9954 - accuracy: 0.6167 - val_loss: 1.2062 - val_accuracy: 0.6333\n",
      "Epoch 11/25\n",
      "4/4 [==============================] - 0s 5ms/step - loss: 1.0901 - accuracy: 0.5667 - val_loss: 2.1388 - val_accuracy: 0.4333\n",
      "Epoch 12/25\n",
      "4/4 [==============================] - 0s 5ms/step - loss: 0.8629 - accuracy: 0.7083 - val_loss: 1.0973 - val_accuracy: 0.7000\n",
      "Epoch 13/25\n",
      "4/4 [==============================] - 0s 5ms/step - loss: 0.5907 - accuracy: 0.7667 - val_loss: 0.9657 - val_accuracy: 0.6333\n",
      "Epoch 14/25\n",
      "4/4 [==============================] - 0s 6ms/step - loss: 0.5032 - accuracy: 0.8167 - val_loss: 0.4835 - val_accuracy: 0.8667\n",
      "Epoch 15/25\n",
      "4/4 [==============================] - 0s 6ms/step - loss: 0.5991 - accuracy: 0.6833 - val_loss: 0.5458 - val_accuracy: 0.6667\n",
      "Epoch 16/25\n",
      "4/4 [==============================] - 0s 6ms/step - loss: 0.5440 - accuracy: 0.7083 - val_loss: 1.3376 - val_accuracy: 0.6333\n",
      "Epoch 17/25\n",
      "4/4 [==============================] - 0s 6ms/step - loss: 0.8766 - accuracy: 0.6583 - val_loss: 0.4451 - val_accuracy: 0.8667\n",
      "Epoch 18/25\n",
      "4/4 [==============================] - 0s 5ms/step - loss: 0.4539 - accuracy: 0.8250 - val_loss: 0.7001 - val_accuracy: 0.6333\n",
      "Epoch 19/25\n",
      "4/4 [==============================] - 0s 6ms/step - loss: 0.5913 - accuracy: 0.6917 - val_loss: 0.4217 - val_accuracy: 0.8333\n",
      "Epoch 20/25\n",
      "4/4 [==============================] - 0s 6ms/step - loss: 0.3986 - accuracy: 0.9000 - val_loss: 0.5201 - val_accuracy: 0.7000\n",
      "Epoch 21/25\n",
      "4/4 [==============================] - 0s 6ms/step - loss: 0.4567 - accuracy: 0.8250 - val_loss: 0.4029 - val_accuracy: 0.9000\n",
      "Epoch 22/25\n",
      "4/4 [==============================] - 0s 6ms/step - loss: 0.4174 - accuracy: 0.8083 - val_loss: 0.4919 - val_accuracy: 0.7000\n",
      "Epoch 23/25\n",
      "4/4 [==============================] - 0s 6ms/step - loss: 0.4096 - accuracy: 0.8500 - val_loss: 0.6100 - val_accuracy: 0.6333\n",
      "Epoch 24/25\n",
      "4/4 [==============================] - 0s 6ms/step - loss: 0.4166 - accuracy: 0.7917 - val_loss: 0.4568 - val_accuracy: 0.7000\n",
      "Epoch 25/25\n",
      "4/4 [==============================] - 0s 5ms/step - loss: 0.3979 - accuracy: 0.8583 - val_loss: 0.3987 - val_accuracy: 0.7667\n"
     ],
     "name": "stdout"
    }
   ]
  },
  {
   "cell_type": "code",
   "metadata": {
    "id": "1kk5GUzsBdKA",
    "colab": {
     "base_uri": "https://localhost:8080/",
     "height": 283
    },
    "outputId": "6af263b3-05e3-4488-d4c5-d7e37a9e0159"
   },
   "source": [
    "plt.plot(log.history['loss'], label='train')\n",
    "plt.plot(log.history['val_loss'], label='validation')\n",
    "plt.legend()"
   ],
   "execution_count": null,
   "outputs": [
    {
     "output_type": "execute_result",
     "data": {
      "text/plain": [
       "<matplotlib.legend.Legend at 0x7eff2fb53940>"
      ]
     },
     "metadata": {
      "tags": []
     },
     "execution_count": 69
    },
    {
     "output_type": "display_data",
     "data": {
      "image/png": "[encoded data removed]",
      "text/plain": [
       "<Figure size 432x288 with 1 Axes>"
      ]
     },
     "metadata": {
      "tags": [],
      "needs_background": "light"
     }
    }
   ]
  },
  {
   "cell_type": "code",
   "metadata": {
    "id": "WQnGqJVqrjvP",
    "colab": {
     "base_uri": "https://localhost:8080/",
     "height": 283
    },
    "outputId": "781b2244-65d9-4536-f618-b0e2e8450a3c"
   },
   "source": [
    "plt.plot(log.history['accuracy'], label='train')\n",
    "plt.plot(log.history['val_accuracy'], label='validation')\n",
    "plt.legend()"
   ],
   "execution_count": null,
   "outputs": [
    {
     "output_type": "execute_result",
     "data": {
      "text/plain": [
       "<matplotlib.legend.Legend at 0x7eff2f2bfcc0>"
      ]
     },
     "metadata": {
      "tags": []
     },
     "execution_count": 70
    },
    {
     "output_type": "display_data",
     "data": {
      "image/png": "[encoded data removed]",
      "text/plain": [
       "<Figure size 432x288 with 1 Axes>"
      ]
     },
     "metadata": {
      "tags": [],
      "needs_background": "light"
     }
    }
   ]
  },
  {
   "cell_type": "markdown",
   "metadata": {
    "id": "Da-GdHI5BdKE"
   },
   "source": [
    "## Resultados"
   ]
  },
  {
   "cell_type": "code",
   "metadata": {
    "id": "g85a06q7BdKF",
    "colab": {
     "base_uri": "https://localhost:8080/",
     "height": 69
    },
    "outputId": "a3715845-72d7-47cf-e0a9-c2e67ae6fc93"
   },
   "source": [
    "val_loss, val_acc = model.evaluate(x_val, y_val)\n",
    "print(f'Loss = {val_loss:.2f}\\nAccuracy = {val_acc:.2f}')"
   ],
   "execution_count": null,
   "outputs": [
    {
     "output_type": "stream",
     "text": [
      "1/1 [==============================] - 0s 2ms/step - loss: 0.3987 - accuracy: 0.7667\n",
      "Loss = 0.40\n",
      "Accuracy = 0.77\n"
     ],
     "name": "stdout"
    }
   ]
  },
  {
   "cell_type": "markdown",
   "metadata": {
    "id": "LYyl2syDBdKJ"
   },
   "source": [
    "# Redes Neuronales"
   ]
  },
  {
   "cell_type": "code",
   "metadata": {
    "id": "1gcpksELBdKJ"
   },
   "source": [
    "i = np.random.choice(len(x_train))\n",
    "i = 0\n",
    "eg_x = x_train[i][:,None]\n",
    "eg_y = y_train[i]\n",
    "eg_w = np.random.normal(size=4*3).reshape((3,4))\n",
    "eg_b = np.random.normal(size=3)"
   ],
   "execution_count": null,
   "outputs": []
  },
  {
   "cell_type": "code",
   "metadata": {
    "id": "2cSn3t52BdKM",
    "colab": {
     "base_uri": "https://localhost:8080/",
     "height": 35
    },
    "outputId": "d92d95ae-97de-4d71-9d31-2155c0d5c596"
   },
   "source": [
    "eg_x.shape, eg_w.shape, eg_b.shape"
   ],
   "execution_count": null,
   "outputs": [
    {
     "output_type": "execute_result",
     "data": {
      "text/plain": [
       "((4, 1), (3, 4), (3,))"
      ]
     },
     "metadata": {
      "tags": []
     },
     "execution_count": 73
    }
   ]
  },
  {
   "cell_type": "markdown",
   "metadata": {
    "id": "e2ps_6A6BdKN"
   },
   "source": "**Agregando una matriz intermedia incrementamos los parámetros de 12 a 70.**"
  },
  {
   "cell_type": "code",
   "metadata": {
    "id": "5X6shBPoBdKO"
   },
   "source": [
    "i = np.random.choice(len(x_train))\n",
    "i = 0\n",
    "eg_x = x_train[i][:,None]\n",
    "eg_y = y_train[i]\n",
    "eg_w1 = np.random.normal(size=10*4).reshape((10,4))\n",
    "eg_b1 = np.random.normal(size=10).reshape((10,1))\n",
    "eg_w2 = np.random.normal(size=3*10).reshape((3,10))\n",
    "eg_b2 = np.random.normal(size=3).reshape((3,1))"
   ],
   "execution_count": null,
   "outputs": []
  },
  {
   "cell_type": "code",
   "metadata": {
    "id": "4GKrqgUWBdKP",
    "colab": {
     "base_uri": "https://localhost:8080/",
     "height": 35
    },
    "outputId": "e08641b7-8d93-4909-ae38-05bb2c4d18bb"
   },
   "source": [
    "temp = ((eg_w1 @ eg_x) + eg_b1)\n",
    "temp.shape"
   ],
   "execution_count": null,
   "outputs": [
    {
     "output_type": "execute_result",
     "data": {
      "text/plain": [
       "(10, 1)"
      ]
     },
     "metadata": {
      "tags": []
     },
     "execution_count": 75
    }
   ]
  },
  {
   "cell_type": "code",
   "metadata": {
    "id": "N2FRCgk7BdKS",
    "colab": {
     "base_uri": "https://localhost:8080/",
     "height": 35
    },
    "outputId": "0247707f-3174-4dbc-898e-4c1c15354416"
   },
   "source": [
    "y_ = ((eg_w2 @ temp) + eg_b2).ravel()\n",
    "y_.shape"
   ],
   "execution_count": null,
   "outputs": [
    {
     "output_type": "execute_result",
     "data": {
      "text/plain": [
       "(3,)"
      ]
     },
     "metadata": {
      "tags": []
     },
     "execution_count": 76
    }
   ]
  },
  {
   "cell_type": "markdown",
   "metadata": {
    "id": "S0OnZLC1BdKW"
   },
   "source": [
    "## Tensorflow"
   ]
  },
  {
   "cell_type": "code",
   "metadata": {
    "id": "57Q5yP72BdKW"
   },
   "source": [
    "%tensorflow_version 2.x\n",
    "import tensorflow as tf\n",
    "\n",
    "def softmax(X, W1, b1, W2, b2):\n",
    "    y_ = tf.nn.relu((X @ W1) + b1)\n",
    "    y_ = tf.nn.softmax((y_ @ W2) + b2)\n",
    "    return y_"
   ],
   "execution_count": null,
   "outputs": []
  },
  {
   "cell_type": "code",
   "metadata": {
    "id": "X894wUB6LQtk"
   },
   "source": [
    "def compute_loss(Y, y_):   \n",
    "    # Loss\n",
    "    return tf.reduce_mean(-tf.reduce_sum(Y * tf.math.log(y_ + 1e-9), axis=1))"
   ],
   "execution_count": null,
   "outputs": []
  },
  {
   "cell_type": "code",
   "metadata": {
    "id": "dgP0s_s9BdKZ",
    "colab": {
     "base_uri": "https://localhost:8080/",
     "height": 35
    },
    "outputId": "46cb7546-1637-47ed-9dc7-69b66b3a4ada"
   },
   "source": [
    "# Params\n",
    "bs = 32 # Batch size\n",
    "epochs = 100\n",
    "lr = 0.01\n",
    "optimizer = tf.optimizers.SGD(learning_rate=lr)\n",
    "nb = math.ceil(len(x_train) / bs)\n",
    "nb # Numero de batches por epoch"
   ],
   "execution_count": null,
   "outputs": [
    {
     "output_type": "execute_result",
     "data": {
      "text/plain": [
       "4"
      ]
     },
     "metadata": {
      "tags": []
     },
     "execution_count": 79
    }
   ]
  },
  {
   "cell_type": "code",
   "metadata": {
    "id": "hLCTYXBUBdKc",
    "colab": {
     "base_uri": "https://localhost:8080/",
     "height": 332,
     "referenced_widgets": [
      "254428880448483bb858babf8b2090f0",
      "abf540b5fcf54b45b4c81b14018072f1",
      "2e93690b4cc145559f8fc0d815aed252",
      "aea4dddfaa8042728c821bdad723fd4b",
      "8a6721aa3f624f59bf1abf9559e4d246",
      "9e76853fcca648ec9791cbdf94084a8d",
      "410aec4faaa64b7b9d6270c92f4f12f7",
      "2f194b57bc0a43e69551ffdd9576592e"
     ]
    },
    "outputId": "c7e077d1-293f-4792-f880-18536e28b709"
   },
   "source": [
    "# Train loop\n",
    "train_losses = []\n",
    "val_losses = []\n",
    "\n",
    "W1 = tf.Variable(tf.random_normal_initializer()((4,10), dtype=tf.double))\n",
    "b1 = tf.Variable(tf.random_normal_initializer()((10,), dtype=tf.double))\n",
    "W2 = tf.Variable(tf.random_normal_initializer()((10,3), dtype=tf.double))\n",
    "b2 = tf.Variable(tf.random_normal_initializer()((3,), dtype=tf.double))\n",
    "\n",
    "for epoch in tqdm(range(epochs)):\n",
    "    # Cada epoch es un recorrido por todo el train set\n",
    "    for i in range(nb):\n",
    "        batch_x = tf.cast(x_train[i*bs:(i+1)*bs], dtype=tf.double)\n",
    "        batch_y = tf.cast(y_train[i*bs:(i+1)*bs], dtype=tf.double)\n",
    "        batch_x = tf.stop_gradient(batch_x)\n",
    "        batch_y = tf.stop_gradient(batch_y)\n",
    "        with tf.GradientTape() as g:\n",
    "            g.watch([W1, W2, b1, b2])\n",
    "            loss = compute_loss(batch_y, softmax(batch_x, W1, b1, W2, b2))\n",
    "            gradients = g.gradient(loss, [W1, W2, b1, b2])\n",
    "            optimizer.apply_gradients(zip(gradients, [W1, W2, b1, b2]))\n",
    "    \n",
    "    # Calculamos la perdida en el train y validation set luego de cada epoch\n",
    "    train_loss = compute_loss(y_train, softmax(x_train, W1, b1, W2, b2))\n",
    "    train_losses.append(train_loss)\n",
    "    \n",
    "    val_loss = compute_loss(y_val, softmax(x_val, W1, b1, W2, b2))\n",
    "    val_losses.append(val_loss)\n",
    "\n",
    "plt.plot(train_losses, label='train')\n",
    "plt.plot(val_losses, label='validation')\n",
    "plt.legend()"
   ],
   "execution_count": null,
   "outputs": [
    {
     "output_type": "display_data",
     "data": {
      "application/vnd.jupyter.widget-view+json": {
       "model_id": "254428880448483bb858babf8b2090f0",
       "version_minor": 0,
       "version_major": 2
      },
      "text/plain": [
       "HBox(children=(FloatProgress(value=0.0), HTML(value='')))"
      ]
     },
     "metadata": {
      "tags": []
     }
    },
    {
     "output_type": "stream",
     "text": [
      "\n"
     ],
     "name": "stdout"
    },
    {
     "output_type": "execute_result",
     "data": {
      "text/plain": [
       "<matplotlib.legend.Legend at 0x7eff2f116550>"
      ]
     },
     "metadata": {
      "tags": []
     },
     "execution_count": 80
    },
    {
     "output_type": "display_data",
     "data": {
      "image/png": "[encoded data removed]",
      "text/plain": [
       "<Figure size 432x288 with 1 Axes>"
      ]
     },
     "metadata": {
      "tags": [],
      "needs_background": "light"
     }
    }
   ]
  },
  {
   "cell_type": "code",
   "metadata": {
    "id": "rRneXwTLBdKj",
    "colab": {
     "base_uri": "https://localhost:8080/",
     "height": 52
    },
    "outputId": "5ebcf372-88d6-498e-dc72-6f3907ad8ffa"
   },
   "source": [
    "pred, pred_loss = softmax(x_val, W1, b1, W2, b2), compute_loss(y_val, softmax(x_val, W1, b1, W2, b2))\n",
    "pred_loss.numpy()\n",
    "\n",
    "real_labels = np.argmax(y_val, axis=1)\n",
    "pred_labels = np.argmax(pred, axis=1)\n",
    "\n",
    "pred_acc = (real_labels == pred_labels).mean()\n",
    "\n",
    "print(f'Loss = {pred_loss:.2f}\\nAccuracy = {pred_acc:.2f}')"
   ],
   "execution_count": null,
   "outputs": [
    {
     "output_type": "stream",
     "text": [
      "Loss = 0.69\n",
      "Accuracy = 0.70\n"
     ],
     "name": "stdout"
    }
   ]
  },
  {
   "cell_type": "markdown",
   "metadata": {
    "id": "B999YhCKBdKo"
   },
   "source": [
    "## Keras"
   ]
  },
  {
   "cell_type": "code",
   "metadata": {
    "id": "uTqBDGLJBdKp",
    "colab": {
     "base_uri": "https://localhost:8080/",
     "height": 225
    },
    "outputId": "7a602ab2-01f5-46da-d8dd-0efb18b9bd59"
   },
   "source": [
    "from tensorflow.keras.layers import Dense\n",
    "from tensorflow.keras.models import Sequential\n",
    "from tensorflow.keras.optimizers import SGD\n",
    "\n",
    "# Params\n",
    "bs = 32 # Batch size\n",
    "epochs = 100\n",
    "lr = 0.01\n",
    "\n",
    "# Modelo\n",
    "model = Sequential()\n",
    "model.add(Dense(10, activation='relu', input_shape=(4,)))\n",
    "model.add(Dense(3, activation='softmax'))\n",
    "\n",
    "model.compile(optimizer=SGD(lr), loss='categorical_crossentropy', metrics=['accuracy'])\n",
    "\n",
    "model.summary()"
   ],
   "execution_count": null,
   "outputs": [
    {
     "output_type": "stream",
     "text": [
      "Model: \"sequential_1\"\n",
      "_________________________________________________________________\n",
      "Layer (type)                 Output Shape              Param #   \n",
      "=================================================================\n",
      "dense_1 (Dense)              (None, 10)                50        \n",
      "_________________________________________________________________\n",
      "dense_2 (Dense)              (None, 3)                 33        \n",
      "=================================================================\n",
      "Total params: 83\n",
      "Trainable params: 83\n",
      "Non-trainable params: 0\n",
      "_________________________________________________________________\n"
     ],
     "name": "stdout"
    }
   ]
  },
  {
   "cell_type": "code",
   "metadata": {
    "id": "jAd34IVlBdKs",
    "colab": {
     "base_uri": "https://localhost:8080/",
     "height": 1000
    },
    "outputId": "6caf0278-3bfa-4152-ab1e-995b1b3136a1"
   },
   "source": [
    "# Entrenamiento\n",
    "log = model.fit(x_train, y_train, batch_size=bs, epochs=epochs, validation_data=(x_val, y_val))"
   ],
   "execution_count": null,
   "outputs": [
    {
     "output_type": "stream",
     "text": [
      "Epoch 1/100\n",
      "4/4 [==============================] - 0s 36ms/step - loss: 1.5819 - accuracy: 0.3250 - val_loss: 1.1839 - val_accuracy: 0.3667\n",
      "Epoch 2/100\n",
      "4/4 [==============================] - 0s 6ms/step - loss: 1.2036 - accuracy: 0.3000 - val_loss: 1.1182 - val_accuracy: 0.3667\n",
      "Epoch 3/100\n",
      "4/4 [==============================] - 0s 6ms/step - loss: 1.1399 - accuracy: 0.3000 - val_loss: 1.0925 - val_accuracy: 0.3333\n",
      "Epoch 4/100\n",
      "4/4 [==============================] - 0s 5ms/step - loss: 1.1058 - accuracy: 0.3250 - val_loss: 1.0724 - val_accuracy: 0.4667\n",
      "Epoch 5/100\n",
      "4/4 [==============================] - 0s 5ms/step - loss: 1.0760 - accuracy: 0.3333 - val_loss: 1.0200 - val_accuracy: 0.3667\n",
      "Epoch 6/100\n",
      "4/4 [==============================] - 0s 6ms/step - loss: 1.0037 - accuracy: 0.3000 - val_loss: 0.9526 - val_accuracy: 0.5000\n",
      "Epoch 7/100\n",
      "4/4 [==============================] - 0s 5ms/step - loss: 0.9426 - accuracy: 0.5750 - val_loss: 0.8950 - val_accuracy: 0.8333\n",
      "Epoch 8/100\n",
      "4/4 [==============================] - 0s 5ms/step - loss: 0.8830 - accuracy: 0.6417 - val_loss: 0.8436 - val_accuracy: 0.8333\n",
      "Epoch 9/100\n",
      "4/4 [==============================] - 0s 5ms/step - loss: 0.8333 - accuracy: 0.7583 - val_loss: 0.7925 - val_accuracy: 0.7000\n",
      "Epoch 10/100\n",
      "4/4 [==============================] - 0s 5ms/step - loss: 0.7904 - accuracy: 0.7083 - val_loss: 0.7473 - val_accuracy: 0.7000\n",
      "Epoch 11/100\n",
      "4/4 [==============================] - 0s 5ms/step - loss: 0.7509 - accuracy: 0.6583 - val_loss: 0.7150 - val_accuracy: 0.7000\n",
      "Epoch 12/100\n",
      "4/4 [==============================] - 0s 5ms/step - loss: 0.7205 - accuracy: 0.6583 - val_loss: 0.6838 - val_accuracy: 0.7000\n",
      "Epoch 13/100\n",
      "4/4 [==============================] - 0s 5ms/step - loss: 0.6991 - accuracy: 0.6583 - val_loss: 0.6657 - val_accuracy: 0.7000\n",
      "Epoch 14/100\n",
      "4/4 [==============================] - 0s 5ms/step - loss: 0.6797 - accuracy: 0.6583 - val_loss: 0.6484 - val_accuracy: 0.7000\n",
      "Epoch 15/100\n",
      "4/4 [==============================] - 0s 6ms/step - loss: 0.6644 - accuracy: 0.7083 - val_loss: 0.6320 - val_accuracy: 0.7000\n",
      "Epoch 16/100\n",
      "4/4 [==============================] - 0s 6ms/step - loss: 0.6514 - accuracy: 0.7000 - val_loss: 0.6201 - val_accuracy: 0.7000\n",
      "Epoch 17/100\n",
      "4/4 [==============================] - 0s 5ms/step - loss: 0.6387 - accuracy: 0.7083 - val_loss: 0.6105 - val_accuracy: 0.7333\n",
      "Epoch 18/100\n",
      "4/4 [==============================] - 0s 6ms/step - loss: 0.6315 - accuracy: 0.7167 - val_loss: 0.6007 - val_accuracy: 0.7333\n",
      "Epoch 19/100\n",
      "4/4 [==============================] - 0s 6ms/step - loss: 0.6194 - accuracy: 0.7750 - val_loss: 0.5907 - val_accuracy: 0.7000\n",
      "Epoch 20/100\n",
      "4/4 [==============================] - 0s 6ms/step - loss: 0.6107 - accuracy: 0.7167 - val_loss: 0.5823 - val_accuracy: 0.7000\n",
      "Epoch 21/100\n",
      "4/4 [==============================] - 0s 5ms/step - loss: 0.6017 - accuracy: 0.7250 - val_loss: 0.5754 - val_accuracy: 0.7333\n",
      "Epoch 22/100\n",
      "4/4 [==============================] - 0s 6ms/step - loss: 0.5937 - accuracy: 0.7333 - val_loss: 0.5696 - val_accuracy: 0.8000\n",
      "Epoch 23/100\n",
      "4/4 [==============================] - 0s 5ms/step - loss: 0.5865 - accuracy: 0.8250 - val_loss: 0.5603 - val_accuracy: 0.7333\n",
      "Epoch 24/100\n",
      "4/4 [==============================] - 0s 5ms/step - loss: 0.5843 - accuracy: 0.7167 - val_loss: 0.5564 - val_accuracy: 0.8333\n",
      "Epoch 25/100\n",
      "4/4 [==============================] - 0s 5ms/step - loss: 0.5715 - accuracy: 0.8083 - val_loss: 0.5494 - val_accuracy: 0.8000\n",
      "Epoch 26/100\n",
      "4/4 [==============================] - 0s 6ms/step - loss: 0.5687 - accuracy: 0.8417 - val_loss: 0.5401 - val_accuracy: 0.7000\n",
      "Epoch 27/100\n",
      "4/4 [==============================] - 0s 6ms/step - loss: 0.5630 - accuracy: 0.7333 - val_loss: 0.5384 - val_accuracy: 0.8667\n",
      "Epoch 28/100\n",
      "4/4 [==============================] - 0s 5ms/step - loss: 0.5540 - accuracy: 0.8583 - val_loss: 0.5302 - val_accuracy: 0.7667\n",
      "Epoch 29/100\n",
      "4/4 [==============================] - 0s 5ms/step - loss: 0.5475 - accuracy: 0.8083 - val_loss: 0.5266 - val_accuracy: 0.8667\n",
      "Epoch 30/100\n",
      "4/4 [==============================] - 0s 5ms/step - loss: 0.5414 - accuracy: 0.8333 - val_loss: 0.5207 - val_accuracy: 0.8667\n",
      "Epoch 31/100\n",
      "4/4 [==============================] - 0s 5ms/step - loss: 0.5390 - accuracy: 0.8333 - val_loss: 0.5173 - val_accuracy: 0.8667\n",
      "Epoch 32/100\n",
      "4/4 [==============================] - 0s 6ms/step - loss: 0.5339 - accuracy: 0.8583 - val_loss: 0.5135 - val_accuracy: 0.9000\n",
      "Epoch 33/100\n",
      "4/4 [==============================] - 0s 5ms/step - loss: 0.5279 - accuracy: 0.8667 - val_loss: 0.5064 - val_accuracy: 0.8667\n",
      "Epoch 34/100\n",
      "4/4 [==============================] - 0s 5ms/step - loss: 0.5240 - accuracy: 0.8250 - val_loss: 0.5035 - val_accuracy: 0.9000\n",
      "Epoch 35/100\n",
      "4/4 [==============================] - 0s 5ms/step - loss: 0.5190 - accuracy: 0.8750 - val_loss: 0.4967 - val_accuracy: 0.8667\n",
      "Epoch 36/100\n",
      "4/4 [==============================] - 0s 5ms/step - loss: 0.5127 - accuracy: 0.8333 - val_loss: 0.4922 - val_accuracy: 0.8667\n",
      "Epoch 37/100\n",
      "4/4 [==============================] - 0s 5ms/step - loss: 0.5073 - accuracy: 0.8500 - val_loss: 0.4886 - val_accuracy: 0.8667\n",
      "Epoch 38/100\n",
      "4/4 [==============================] - 0s 6ms/step - loss: 0.5048 - accuracy: 0.8500 - val_loss: 0.4851 - val_accuracy: 0.9000\n",
      "Epoch 39/100\n",
      "4/4 [==============================] - 0s 5ms/step - loss: 0.4990 - accuracy: 0.9250 - val_loss: 0.4790 - val_accuracy: 0.8667\n",
      "Epoch 40/100\n",
      "4/4 [==============================] - 0s 5ms/step - loss: 0.4942 - accuracy: 0.8583 - val_loss: 0.4747 - val_accuracy: 0.8667\n",
      "Epoch 41/100\n",
      "4/4 [==============================] - 0s 6ms/step - loss: 0.4914 - accuracy: 0.8250 - val_loss: 0.4746 - val_accuracy: 0.9333\n",
      "Epoch 42/100\n",
      "4/4 [==============================] - 0s 5ms/step - loss: 0.4867 - accuracy: 0.9167 - val_loss: 0.4704 - val_accuracy: 0.9333\n",
      "Epoch 43/100\n",
      "4/4 [==============================] - 0s 5ms/step - loss: 0.4845 - accuracy: 0.9333 - val_loss: 0.4657 - val_accuracy: 0.9333\n",
      "Epoch 44/100\n",
      "4/4 [==============================] - 0s 5ms/step - loss: 0.4808 - accuracy: 0.9333 - val_loss: 0.4598 - val_accuracy: 0.8667\n",
      "Epoch 45/100\n",
      "4/4 [==============================] - 0s 5ms/step - loss: 0.4755 - accuracy: 0.9000 - val_loss: 0.4563 - val_accuracy: 0.8667\n",
      "Epoch 46/100\n",
      "4/4 [==============================] - 0s 5ms/step - loss: 0.4729 - accuracy: 0.9083 - val_loss: 0.4530 - val_accuracy: 0.8667\n",
      "Epoch 47/100\n",
      "4/4 [==============================] - 0s 5ms/step - loss: 0.4687 - accuracy: 0.9083 - val_loss: 0.4486 - val_accuracy: 0.8667\n",
      "Epoch 48/100\n",
      "4/4 [==============================] - 0s 7ms/step - loss: 0.4635 - accuracy: 0.8833 - val_loss: 0.4478 - val_accuracy: 0.9333\n",
      "Epoch 49/100\n",
      "4/4 [==============================] - 0s 5ms/step - loss: 0.4605 - accuracy: 0.9250 - val_loss: 0.4441 - val_accuracy: 0.9333\n",
      "Epoch 50/100\n",
      "4/4 [==============================] - 0s 6ms/step - loss: 0.4564 - accuracy: 0.9250 - val_loss: 0.4409 - val_accuracy: 0.9333\n",
      "Epoch 51/100\n",
      "4/4 [==============================] - 0s 5ms/step - loss: 0.4542 - accuracy: 0.9167 - val_loss: 0.4373 - val_accuracy: 0.8667\n",
      "Epoch 52/100\n",
      "4/4 [==============================] - 0s 5ms/step - loss: 0.4507 - accuracy: 0.9250 - val_loss: 0.4367 - val_accuracy: 1.0000\n",
      "Epoch 53/100\n",
      "4/4 [==============================] - 0s 6ms/step - loss: 0.4493 - accuracy: 0.9167 - val_loss: 0.4339 - val_accuracy: 1.0000\n",
      "Epoch 54/100\n",
      "4/4 [==============================] - 0s 5ms/step - loss: 0.4447 - accuracy: 0.9417 - val_loss: 0.4273 - val_accuracy: 0.8667\n",
      "Epoch 55/100\n",
      "4/4 [==============================] - 0s 7ms/step - loss: 0.4421 - accuracy: 0.8917 - val_loss: 0.4310 - val_accuracy: 1.0000\n",
      "Epoch 56/100\n",
      "4/4 [==============================] - 0s 5ms/step - loss: 0.4393 - accuracy: 0.9667 - val_loss: 0.4242 - val_accuracy: 1.0000\n",
      "Epoch 57/100\n",
      "4/4 [==============================] - 0s 6ms/step - loss: 0.4356 - accuracy: 0.9250 - val_loss: 0.4217 - val_accuracy: 1.0000\n",
      "Epoch 58/100\n",
      "4/4 [==============================] - 0s 5ms/step - loss: 0.4341 - accuracy: 0.9500 - val_loss: 0.4149 - val_accuracy: 0.8667\n",
      "Epoch 59/100\n",
      "4/4 [==============================] - 0s 5ms/step - loss: 0.4302 - accuracy: 0.8917 - val_loss: 0.4166 - val_accuracy: 1.0000\n",
      "Epoch 60/100\n",
      "4/4 [==============================] - 0s 5ms/step - loss: 0.4264 - accuracy: 0.9667 - val_loss: 0.4096 - val_accuracy: 0.8667\n",
      "Epoch 61/100\n",
      "4/4 [==============================] - 0s 5ms/step - loss: 0.4268 - accuracy: 0.9083 - val_loss: 0.4098 - val_accuracy: 1.0000\n",
      "Epoch 62/100\n",
      "4/4 [==============================] - 0s 5ms/step - loss: 0.4197 - accuracy: 0.9500 - val_loss: 0.4056 - val_accuracy: 1.0000\n",
      "Epoch 63/100\n",
      "4/4 [==============================] - 0s 6ms/step - loss: 0.4208 - accuracy: 0.9333 - val_loss: 0.4041 - val_accuracy: 1.0000\n",
      "Epoch 64/100\n",
      "4/4 [==============================] - 0s 6ms/step - loss: 0.4160 - accuracy: 0.9500 - val_loss: 0.3997 - val_accuracy: 0.9667\n",
      "Epoch 65/100\n",
      "4/4 [==============================] - 0s 6ms/step - loss: 0.4124 - accuracy: 0.9333 - val_loss: 0.4014 - val_accuracy: 1.0000\n",
      "Epoch 66/100\n",
      "4/4 [==============================] - 0s 7ms/step - loss: 0.4117 - accuracy: 0.9333 - val_loss: 0.4028 - val_accuracy: 1.0000\n",
      "Epoch 67/100\n",
      "4/4 [==============================] - 0s 6ms/step - loss: 0.4163 - accuracy: 0.9417 - val_loss: 0.3956 - val_accuracy: 1.0000\n",
      "Epoch 68/100\n",
      "4/4 [==============================] - 0s 6ms/step - loss: 0.4064 - accuracy: 0.9500 - val_loss: 0.3907 - val_accuracy: 1.0000\n",
      "Epoch 69/100\n",
      "4/4 [==============================] - 0s 6ms/step - loss: 0.4026 - accuracy: 0.9500 - val_loss: 0.3868 - val_accuracy: 0.8667\n",
      "Epoch 70/100\n",
      "4/4 [==============================] - 0s 6ms/step - loss: 0.3994 - accuracy: 0.9250 - val_loss: 0.3877 - val_accuracy: 1.0000\n",
      "Epoch 71/100\n",
      "4/4 [==============================] - 0s 6ms/step - loss: 0.4010 - accuracy: 0.9417 - val_loss: 0.3827 - val_accuracy: 1.0000\n",
      "Epoch 72/100\n",
      "4/4 [==============================] - 0s 5ms/step - loss: 0.3968 - accuracy: 0.9583 - val_loss: 0.3793 - val_accuracy: 0.8667\n",
      "Epoch 73/100\n",
      "4/4 [==============================] - 0s 5ms/step - loss: 0.3928 - accuracy: 0.9333 - val_loss: 0.3777 - val_accuracy: 1.0000\n",
      "Epoch 74/100\n",
      "4/4 [==============================] - 0s 5ms/step - loss: 0.3890 - accuracy: 0.9500 - val_loss: 0.3776 - val_accuracy: 1.0000\n",
      "Epoch 75/100\n",
      "4/4 [==============================] - 0s 5ms/step - loss: 0.3882 - accuracy: 0.9583 - val_loss: 0.3746 - val_accuracy: 1.0000\n",
      "Epoch 76/100\n",
      "4/4 [==============================] - 0s 5ms/step - loss: 0.3889 - accuracy: 0.9500 - val_loss: 0.3746 - val_accuracy: 1.0000\n",
      "Epoch 77/100\n",
      "4/4 [==============================] - 0s 5ms/step - loss: 0.3846 - accuracy: 0.9500 - val_loss: 0.3768 - val_accuracy: 1.0000\n",
      "Epoch 78/100\n",
      "4/4 [==============================] - 0s 5ms/step - loss: 0.3815 - accuracy: 0.9583 - val_loss: 0.3698 - val_accuracy: 1.0000\n",
      "Epoch 79/100\n",
      "4/4 [==============================] - 0s 5ms/step - loss: 0.3809 - accuracy: 0.9500 - val_loss: 0.3675 - val_accuracy: 1.0000\n",
      "Epoch 80/100\n",
      "4/4 [==============================] - 0s 5ms/step - loss: 0.3815 - accuracy: 0.9583 - val_loss: 0.3623 - val_accuracy: 1.0000\n",
      "Epoch 81/100\n",
      "4/4 [==============================] - 0s 5ms/step - loss: 0.3744 - accuracy: 0.9500 - val_loss: 0.3631 - val_accuracy: 1.0000\n",
      "Epoch 82/100\n",
      "4/4 [==============================] - 0s 5ms/step - loss: 0.3728 - accuracy: 0.9583 - val_loss: 0.3630 - val_accuracy: 1.0000\n",
      "Epoch 83/100\n",
      "4/4 [==============================] - 0s 5ms/step - loss: 0.3694 - accuracy: 0.9750 - val_loss: 0.3577 - val_accuracy: 1.0000\n",
      "Epoch 84/100\n",
      "4/4 [==============================] - 0s 5ms/step - loss: 0.3667 - accuracy: 0.9750 - val_loss: 0.3532 - val_accuracy: 0.9667\n",
      "Epoch 85/100\n",
      "4/4 [==============================] - 0s 6ms/step - loss: 0.3663 - accuracy: 0.9583 - val_loss: 0.3511 - val_accuracy: 0.9000\n",
      "Epoch 86/100\n",
      "4/4 [==============================] - 0s 5ms/step - loss: 0.3653 - accuracy: 0.9417 - val_loss: 0.3514 - val_accuracy: 1.0000\n",
      "Epoch 87/100\n",
      "4/4 [==============================] - 0s 6ms/step - loss: 0.3637 - accuracy: 0.9500 - val_loss: 0.3471 - val_accuracy: 0.9667\n",
      "Epoch 88/100\n",
      "4/4 [==============================] - 0s 5ms/step - loss: 0.3613 - accuracy: 0.9583 - val_loss: 0.3451 - val_accuracy: 0.9667\n",
      "Epoch 89/100\n",
      "4/4 [==============================] - 0s 6ms/step - loss: 0.3575 - accuracy: 0.9583 - val_loss: 0.3431 - val_accuracy: 0.9667\n",
      "Epoch 90/100\n",
      "4/4 [==============================] - 0s 8ms/step - loss: 0.3550 - accuracy: 0.9583 - val_loss: 0.3419 - val_accuracy: 1.0000\n",
      "Epoch 91/100\n",
      "4/4 [==============================] - 0s 6ms/step - loss: 0.3524 - accuracy: 0.9583 - val_loss: 0.3398 - val_accuracy: 1.0000\n",
      "Epoch 92/100\n",
      "4/4 [==============================] - 0s 5ms/step - loss: 0.3522 - accuracy: 0.9500 - val_loss: 0.3390 - val_accuracy: 1.0000\n",
      "Epoch 93/100\n",
      "4/4 [==============================] - 0s 5ms/step - loss: 0.3521 - accuracy: 0.9500 - val_loss: 0.3385 - val_accuracy: 1.0000\n",
      "Epoch 94/100\n",
      "4/4 [==============================] - 0s 5ms/step - loss: 0.3468 - accuracy: 0.9667 - val_loss: 0.3373 - val_accuracy: 1.0000\n",
      "Epoch 95/100\n",
      "4/4 [==============================] - 0s 6ms/step - loss: 0.3444 - accuracy: 0.9583 - val_loss: 0.3350 - val_accuracy: 1.0000\n",
      "Epoch 96/100\n",
      "4/4 [==============================] - 0s 5ms/step - loss: 0.3427 - accuracy: 0.9583 - val_loss: 0.3347 - val_accuracy: 1.0000\n",
      "Epoch 97/100\n",
      "4/4 [==============================] - 0s 5ms/step - loss: 0.3413 - accuracy: 0.9750 - val_loss: 0.3317 - val_accuracy: 1.0000\n",
      "Epoch 98/100\n",
      "4/4 [==============================] - 0s 6ms/step - loss: 0.3427 - accuracy: 0.9500 - val_loss: 0.3265 - val_accuracy: 0.9667\n",
      "Epoch 99/100\n",
      "4/4 [==============================] - 0s 6ms/step - loss: 0.3369 - accuracy: 0.9500 - val_loss: 0.3261 - val_accuracy: 1.0000\n",
      "Epoch 100/100\n",
      "4/4 [==============================] - 0s 5ms/step - loss: 0.3344 - accuracy: 0.9583 - val_loss: 0.3262 - val_accuracy: 1.0000\n"
     ],
     "name": "stdout"
    }
   ]
  },
  {
   "cell_type": "code",
   "metadata": {
    "id": "5-WPpGfLBdK0",
    "colab": {
     "base_uri": "https://localhost:8080/",
     "height": 283
    },
    "outputId": "8d6fe5bc-7f78-48a7-905c-ef370de67adc"
   },
   "source": [
    "plt.plot(log.history['loss'], label='train')\n",
    "plt.plot(log.history['val_loss'], label='validation')\n",
    "plt.legend()"
   ],
   "execution_count": null,
   "outputs": [
    {
     "output_type": "execute_result",
     "data": {
      "text/plain": [
       "<matplotlib.legend.Legend at 0x7eff2efb56d8>"
      ]
     },
     "metadata": {
      "tags": []
     },
     "execution_count": 84
    },
    {
     "output_type": "display_data",
     "data": {
      "image/png": "[encoded data removed]",
      "text/plain": [
       "<Figure size 432x288 with 1 Axes>"
      ]
     },
     "metadata": {
      "tags": [],
      "needs_background": "light"
     }
    }
   ]
  },
  {
   "cell_type": "code",
   "metadata": {
    "id": "bddQH8RQBdK3",
    "colab": {
     "base_uri": "https://localhost:8080/",
     "height": 69
    },
    "outputId": "67f988e5-f9f1-442b-abb1-963e2d8948ae"
   },
   "source": [
    "val_loss, val_acc = model.evaluate(x_val, y_val)\n",
    "print(f'Loss = {val_loss:.2f}\\nAccuracy = {val_acc:.2f}')"
   ],
   "execution_count": null,
   "outputs": [
    {
     "output_type": "stream",
     "text": [
      "1/1 [==============================] - 0s 1ms/step - loss: 0.3262 - accuracy: 1.0000\n",
      "Loss = 0.33\n",
      "Accuracy = 1.00\n"
     ],
     "name": "stdout"
    }
   ]
  },
  {
   "cell_type": "markdown",
   "metadata": {
    "id": "b_ddcdyuBdK5"
   },
   "source": "## Faulty Steel Plates"
  },
  {
   "cell_type": "code",
   "metadata": {
    "id": "BOVIsQj1BdK6",
    "colab": {
     "base_uri": "https://localhost:8080/",
     "height": 239
    },
    "outputId": "44c18dc8-ff2a-49bf-f045-c3ce2ee00c61"
   },
   "source": [
    "data = pd.read_csv('faults.csv')\n",
    "print(data.shape)\n",
    "data.head()"
   ],
   "execution_count": null,
   "outputs": [
    {
     "output_type": "stream",
     "text": [
      "(1941, 34)\n"
     ],
     "name": "stdout"
    },
    {
     "output_type": "execute_result",
     "data": {
      "text/html": [
       "<div>\n",
       "<style scoped>\n",
       "    .dataframe tbody tr th:only-of-type {\n",
       "        vertical-align: middle;\n",
       "    }\n",
       "\n",
       "    .dataframe tbody tr th {\n",
       "        vertical-align: top;\n",
       "    }\n",
       "\n",
       "    .dataframe thead th {\n",
       "        text-align: right;\n",
       "    }\n",
       "</style>\n",
       "<table border=\"1\" class=\"dataframe\">\n",
       "  <thead>\n",
       "    <tr style=\"text-align: right;\">\n",
       "      <th></th>\n",
       "      <th>X_Minimum</th>\n",
       "      <th>X_Maximum</th>\n",
       "      <th>Y_Minimum</th>\n",
       "      <th>Y_Maximum</th>\n",
       "      <th>Pixels_Areas</th>\n",
       "      <th>X_Perimeter</th>\n",
       "      <th>Y_Perimeter</th>\n",
       "      <th>Sum_of_Luminosity</th>\n",
       "      <th>Minimum_of_Luminosity</th>\n",
       "      <th>Maximum_of_Luminosity</th>\n",
       "      <th>Length_of_Conveyer</th>\n",
       "      <th>TypeOfSteel_A300</th>\n",
       "      <th>TypeOfSteel_A400</th>\n",
       "      <th>Steel_Plate_Thickness</th>\n",
       "      <th>Edges_Index</th>\n",
       "      <th>Empty_Index</th>\n",
       "      <th>Square_Index</th>\n",
       "      <th>Outside_X_Index</th>\n",
       "      <th>Edges_X_Index</th>\n",
       "      <th>Edges_Y_Index</th>\n",
       "      <th>Outside_Global_Index</th>\n",
       "      <th>LogOfAreas</th>\n",
       "      <th>Log_X_Index</th>\n",
       "      <th>Log_Y_Index</th>\n",
       "      <th>Orientation_Index</th>\n",
       "      <th>Luminosity_Index</th>\n",
       "      <th>SigmoidOfAreas</th>\n",
       "      <th>Pastry</th>\n",
       "      <th>Z_Scratch</th>\n",
       "      <th>K_Scatch</th>\n",
       "      <th>Stains</th>\n",
       "      <th>Dirtiness</th>\n",
       "      <th>Bumps</th>\n",
       "      <th>Other_Faults</th>\n",
       "    </tr>\n",
       "  </thead>\n",
       "  <tbody>\n",
       "    <tr>\n",
       "      <th>0</th>\n",
       "      <td>42</td>\n",
       "      <td>50</td>\n",
       "      <td>270900</td>\n",
       "      <td>270944</td>\n",
       "      <td>267</td>\n",
       "      <td>17</td>\n",
       "      <td>44</td>\n",
       "      <td>24220</td>\n",
       "      <td>76</td>\n",
       "      <td>108</td>\n",
       "      <td>1687</td>\n",
       "      <td>1</td>\n",
       "      <td>0</td>\n",
       "      <td>80</td>\n",
       "      <td>0.0498</td>\n",
       "      <td>0.2415</td>\n",
       "      <td>0.1818</td>\n",
       "      <td>0.0047</td>\n",
       "      <td>0.4706</td>\n",
       "      <td>1.0000</td>\n",
       "      <td>1.0</td>\n",
       "      <td>2.4265</td>\n",
       "      <td>0.9031</td>\n",
       "      <td>1.6435</td>\n",
       "      <td>0.8182</td>\n",
       "      <td>-0.2913</td>\n",
       "      <td>0.5822</td>\n",
       "      <td>1</td>\n",
       "      <td>0</td>\n",
       "      <td>0</td>\n",
       "      <td>0</td>\n",
       "      <td>0</td>\n",
       "      <td>0</td>\n",
       "      <td>0</td>\n",
       "    </tr>\n",
       "    <tr>\n",
       "      <th>1</th>\n",
       "      <td>645</td>\n",
       "      <td>651</td>\n",
       "      <td>2538079</td>\n",
       "      <td>2538108</td>\n",
       "      <td>108</td>\n",
       "      <td>10</td>\n",
       "      <td>30</td>\n",
       "      <td>11397</td>\n",
       "      <td>84</td>\n",
       "      <td>123</td>\n",
       "      <td>1687</td>\n",
       "      <td>1</td>\n",
       "      <td>0</td>\n",
       "      <td>80</td>\n",
       "      <td>0.7647</td>\n",
       "      <td>0.3793</td>\n",
       "      <td>0.2069</td>\n",
       "      <td>0.0036</td>\n",
       "      <td>0.6000</td>\n",
       "      <td>0.9667</td>\n",
       "      <td>1.0</td>\n",
       "      <td>2.0334</td>\n",
       "      <td>0.7782</td>\n",
       "      <td>1.4624</td>\n",
       "      <td>0.7931</td>\n",
       "      <td>-0.1756</td>\n",
       "      <td>0.2984</td>\n",
       "      <td>1</td>\n",
       "      <td>0</td>\n",
       "      <td>0</td>\n",
       "      <td>0</td>\n",
       "      <td>0</td>\n",
       "      <td>0</td>\n",
       "      <td>0</td>\n",
       "    </tr>\n",
       "    <tr>\n",
       "      <th>2</th>\n",
       "      <td>829</td>\n",
       "      <td>835</td>\n",
       "      <td>1553913</td>\n",
       "      <td>1553931</td>\n",
       "      <td>71</td>\n",
       "      <td>8</td>\n",
       "      <td>19</td>\n",
       "      <td>7972</td>\n",
       "      <td>99</td>\n",
       "      <td>125</td>\n",
       "      <td>1623</td>\n",
       "      <td>1</td>\n",
       "      <td>0</td>\n",
       "      <td>100</td>\n",
       "      <td>0.9710</td>\n",
       "      <td>0.3426</td>\n",
       "      <td>0.3333</td>\n",
       "      <td>0.0037</td>\n",
       "      <td>0.7500</td>\n",
       "      <td>0.9474</td>\n",
       "      <td>1.0</td>\n",
       "      <td>1.8513</td>\n",
       "      <td>0.7782</td>\n",
       "      <td>1.2553</td>\n",
       "      <td>0.6667</td>\n",
       "      <td>-0.1228</td>\n",
       "      <td>0.2150</td>\n",
       "      <td>1</td>\n",
       "      <td>0</td>\n",
       "      <td>0</td>\n",
       "      <td>0</td>\n",
       "      <td>0</td>\n",
       "      <td>0</td>\n",
       "      <td>0</td>\n",
       "    </tr>\n",
       "    <tr>\n",
       "      <th>3</th>\n",
       "      <td>853</td>\n",
       "      <td>860</td>\n",
       "      <td>369370</td>\n",
       "      <td>369415</td>\n",
       "      <td>176</td>\n",
       "      <td>13</td>\n",
       "      <td>45</td>\n",
       "      <td>18996</td>\n",
       "      <td>99</td>\n",
       "      <td>126</td>\n",
       "      <td>1353</td>\n",
       "      <td>0</td>\n",
       "      <td>1</td>\n",
       "      <td>290</td>\n",
       "      <td>0.7287</td>\n",
       "      <td>0.4413</td>\n",
       "      <td>0.1556</td>\n",
       "      <td>0.0052</td>\n",
       "      <td>0.5385</td>\n",
       "      <td>1.0000</td>\n",
       "      <td>1.0</td>\n",
       "      <td>2.2455</td>\n",
       "      <td>0.8451</td>\n",
       "      <td>1.6532</td>\n",
       "      <td>0.8444</td>\n",
       "      <td>-0.1568</td>\n",
       "      <td>0.5212</td>\n",
       "      <td>1</td>\n",
       "      <td>0</td>\n",
       "      <td>0</td>\n",
       "      <td>0</td>\n",
       "      <td>0</td>\n",
       "      <td>0</td>\n",
       "      <td>0</td>\n",
       "    </tr>\n",
       "    <tr>\n",
       "      <th>4</th>\n",
       "      <td>1289</td>\n",
       "      <td>1306</td>\n",
       "      <td>498078</td>\n",
       "      <td>498335</td>\n",
       "      <td>2409</td>\n",
       "      <td>60</td>\n",
       "      <td>260</td>\n",
       "      <td>246930</td>\n",
       "      <td>37</td>\n",
       "      <td>126</td>\n",
       "      <td>1353</td>\n",
       "      <td>0</td>\n",
       "      <td>1</td>\n",
       "      <td>185</td>\n",
       "      <td>0.0695</td>\n",
       "      <td>0.4486</td>\n",
       "      <td>0.0662</td>\n",
       "      <td>0.0126</td>\n",
       "      <td>0.2833</td>\n",
       "      <td>0.9885</td>\n",
       "      <td>1.0</td>\n",
       "      <td>3.3818</td>\n",
       "      <td>1.2305</td>\n",
       "      <td>2.4099</td>\n",
       "      <td>0.9338</td>\n",
       "      <td>-0.1992</td>\n",
       "      <td>1.0000</td>\n",
       "      <td>1</td>\n",
       "      <td>0</td>\n",
       "      <td>0</td>\n",
       "      <td>0</td>\n",
       "      <td>0</td>\n",
       "      <td>0</td>\n",
       "      <td>0</td>\n",
       "    </tr>\n",
       "  </tbody>\n",
       "</table>\n",
       "</div>"
      ],
      "text/plain": [
       "   X_Minimum  X_Maximum  Y_Minimum  ...  Dirtiness  Bumps  Other_Faults\n",
       "0         42         50     270900  ...          0      0             0\n",
       "1        645        651    2538079  ...          0      0             0\n",
       "2        829        835    1553913  ...          0      0             0\n",
       "3        853        860     369370  ...          0      0             0\n",
       "4       1289       1306     498078  ...          0      0             0\n",
       "\n",
       "[5 rows x 34 columns]"
      ]
     },
     "metadata": {
      "tags": []
     },
     "execution_count": 87
    }
   ]
  },
  {
   "cell_type": "code",
   "metadata": {
    "id": "vHrDWkVEBdK7",
    "colab": {
     "base_uri": "https://localhost:8080/",
     "height": 225
    },
    "outputId": "d633a57a-7786-4db5-e871-79cd474f71c6"
   },
   "source": [
    "x = data.iloc[:, :-7]\n",
    "y = data.iloc[:, -7:]\n",
    "\n",
    "x.columns, y.columns"
   ],
   "execution_count": null,
   "outputs": [
    {
     "output_type": "execute_result",
     "data": {
      "text/plain": [
       "(Index(['X_Minimum', 'X_Maximum', 'Y_Minimum', 'Y_Maximum', 'Pixels_Areas',\n",
       "        'X_Perimeter', 'Y_Perimeter', 'Sum_of_Luminosity',\n",
       "        'Minimum_of_Luminosity', 'Maximum_of_Luminosity', 'Length_of_Conveyer',\n",
       "        'TypeOfSteel_A300', 'TypeOfSteel_A400', 'Steel_Plate_Thickness',\n",
       "        'Edges_Index', 'Empty_Index', 'Square_Index', 'Outside_X_Index',\n",
       "        'Edges_X_Index', 'Edges_Y_Index', 'Outside_Global_Index', 'LogOfAreas',\n",
       "        'Log_X_Index', 'Log_Y_Index', 'Orientation_Index', 'Luminosity_Index',\n",
       "        'SigmoidOfAreas'],\n",
       "       dtype='object'),\n",
       " Index(['Pastry', 'Z_Scratch', 'K_Scatch', 'Stains', 'Dirtiness', 'Bumps',\n",
       "        'Other_Faults'],\n",
       "       dtype='object'))"
      ]
     },
     "metadata": {
      "tags": []
     },
     "execution_count": 88
    }
   ]
  },
  {
   "cell_type": "code",
   "metadata": {
    "id": "T8soDsuWBdK9",
    "colab": {
     "base_uri": "https://localhost:8080/",
     "height": 139
    },
    "outputId": "e2830d3a-ce45-480f-fac0-d970543d7753"
   },
   "source": [
    "# Armamos un diccionario para el target\n",
    "idx2class = {i:e for i,e in enumerate(y.columns)}\n",
    "idx2class"
   ],
   "execution_count": null,
   "outputs": [
    {
     "output_type": "execute_result",
     "data": {
      "text/plain": [
       "{0: 'Pastry',\n",
       " 1: 'Z_Scratch',\n",
       " 2: 'K_Scatch',\n",
       " 3: 'Stains',\n",
       " 4: 'Dirtiness',\n",
       " 5: 'Bumps',\n",
       " 6: 'Other_Faults'}"
      ]
     },
     "metadata": {
      "tags": []
     },
     "execution_count": 89
    }
   ]
  },
  {
   "cell_type": "code",
   "metadata": {
    "id": "gM0tMeWnuyFC",
    "colab": {
     "base_uri": "https://localhost:8080/",
     "height": 139
    },
    "outputId": "918dc119-3c9a-46de-9503-459524442082"
   },
   "source": [
    "y.values"
   ],
   "execution_count": null,
   "outputs": [
    {
     "output_type": "execute_result",
     "data": {
      "text/plain": [
       "array([[1, 0, 0, ..., 0, 0, 0],\n",
       "       [1, 0, 0, ..., 0, 0, 0],\n",
       "       [1, 0, 0, ..., 0, 0, 0],\n",
       "       ...,\n",
       "       [0, 0, 0, ..., 0, 0, 1],\n",
       "       [0, 0, 0, ..., 0, 0, 1],\n",
       "       [0, 0, 0, ..., 0, 0, 1]])"
      ]
     },
     "metadata": {
      "tags": []
     },
     "execution_count": 90
    }
   ]
  },
  {
   "cell_type": "code",
   "metadata": {
    "id": "We8iBC3JBdK-",
    "colab": {
     "base_uri": "https://localhost:8080/",
     "height": 35
    },
    "outputId": "7986dde4-0f38-414b-a97d-07c1f6d2e890"
   },
   "source": [
    "# Train validation split\n",
    "x_train, x_val, y_train, y_val = train_test_split(x, y.values, test_size=0.3, random_state=42)\n",
    "x_train.shape, x_val.shape, y_train.shape, y_val.shape"
   ],
   "execution_count": null,
   "outputs": [
    {
     "output_type": "execute_result",
     "data": {
      "text/plain": [
       "((1358, 27), (583, 27), (1358, 7), (583, 7))"
      ]
     },
     "metadata": {
      "tags": []
     },
     "execution_count": 91
    }
   ]
  },
  {
   "cell_type": "code",
   "metadata": {
    "id": "FcYw1MPHBdK_"
   },
   "source": [
    "# preprocess\n",
    "from sklearn.preprocessing import StandardScaler\n",
    "\n",
    "scaler = StandardScaler()\n",
    "x_train = scaler.fit_transform(x_train)\n",
    "x_val = scaler.transform(x_val)"
   ],
   "execution_count": null,
   "outputs": []
  },
  {
   "cell_type": "code",
   "metadata": {
    "id": "zfpXoa_uBdLB",
    "colab": {
     "base_uri": "https://localhost:8080/",
     "height": 121
    },
    "outputId": "fd727218-f10d-405e-b54c-6650bccfebd1"
   },
   "source": [
    "x_train[0]"
   ],
   "execution_count": null,
   "outputs": [
    {
     "output_type": "execute_result",
     "data": {
      "text/plain": [
       "array([-0.98092525, -0.84116281,  3.63697701,  3.6369304 ,  0.34403919,\n",
       "        0.20960252,  0.03001974,  0.38907196, -0.45348069, -0.17247613,\n",
       "       -0.69354383, -0.81249412,  0.81249412, -0.70407447, -0.75996547,\n",
       "        0.32012064, -0.77876817,  1.10514645,  0.60609727, -1.40193739,\n",
       "       -1.20118935,  1.39360954,  1.69611176,  0.66368059, -1.47692834,\n",
       "       -0.15336504,  1.24210091])"
      ]
     },
     "metadata": {
      "tags": []
     },
     "execution_count": 93
    }
   ]
  },
  {
   "cell_type": "code",
   "metadata": {
    "id": "KTw_h-keBdLC",
    "colab": {
     "base_uri": "https://localhost:8080/",
     "height": 35
    },
    "outputId": "9e1a6164-8f6a-4fe8-e7a3-ef60134eeadc"
   },
   "source": [
    "y_train[0], idx2class[np.argmax(y_train[0])]"
   ],
   "execution_count": null,
   "outputs": [
    {
     "output_type": "execute_result",
     "data": {
      "text/plain": [
       "(array([0, 0, 1, 0, 0, 0, 0]), 'K_Scatch')"
      ]
     },
     "metadata": {
      "tags": []
     },
     "execution_count": 94
    }
   ]
  }
 ]
}
