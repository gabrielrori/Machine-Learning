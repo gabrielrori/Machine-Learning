{
 "nbformat": 4,
 "nbformat_minor": 0,
 "metadata": {
  "colab": {
   "private_outputs": true,
   "provenance": [],
   "authorship_tag": "ABX9TyOZTHFL3AD7VUBn6JU3Hjss"
  },
  "kernelspec": {
   "name": "python3",
   "display_name": "Python 3"
  },
  "language_info": {
   "name": "python"
  },
  "accelerator": "GPU"
 },
 "cells": [
  {
   "cell_type": "markdown",
   "metadata": {
    "id": "9E2Xe4hJ7Lo5"
   },
   "source": [
    "# **GANs: Redes Generativas Adversarias**"
   ]
  },
  {
   "cell_type": "code",
   "metadata": {
    "ExecuteTime": {
     "end_time": "2020-12-06T15:43:55.554499Z",
     "start_time": "2020-12-06T15:43:55.043211Z"
    },
    "collapsed": true,
    "id": "14h4ejQKFVe9"
   },
   "source": [
    "import pandas as pd\n",
    "import numpy as np\n",
    "import matplotlib.pyplot as plt\n",
    "from tqdm import tqdm_notebook\n",
    "import tensorflow\n",
    "%matplotlib inline"
   ],
   "execution_count": null,
   "outputs": []
  },
  {
   "cell_type": "markdown",
   "metadata": {
    "id": "zrlJ3VT7jyNf"
   },
   "source": [
    "### **Obtener la data**"
   ]
  },
  {
   "cell_type": "code",
   "metadata": {
    "ExecuteTime": {
     "end_time": "2020-12-06T15:43:57.855772Z",
     "start_time": "2020-12-06T15:43:56.914009Z"
    },
    "id": "s0l5lTN_FVe-",
    "cellView": "form"
   },
   "source": [
    "from tensorflow.keras.datasets import mnist\n",
    "\n",
    "(trainX, trainY), (testX, testY) = mnist.load_data()\n",
    "\n",
    "print('Data de entrenamiento: X=%s, y=%s' % (trainX.shape, trainY.shape))\n",
    "print('Data de test: X=%s, y=%s' % (testX.shape, testY.shape))"
   ],
   "execution_count": null,
   "outputs": []
  },
  {
   "cell_type": "code",
   "metadata": {
    "id": "oAydhAgC-53L"
   },
   "source": [
    "plt.figure(figsize=(7, 7))\n",
    "for j in range(25):\n",
    "  i = np.random.randint(0, trainX.shape[0])\n",
    "  plt.subplot(5,5, j+1 )\n",
    "  plt.imshow(trainX[i], cmap='gray_r')\n",
    "  plt.axis('off')\n",
    "plt.show()"
   ],
   "execution_count": null,
   "outputs": []
  },
  {
   "cell_type": "markdown",
   "metadata": {
    "id": "egvG_vlZjyNf"
   },
   "source": "### **Normalizar la data**"
  },
  {
   "cell_type": "code",
   "metadata": {
    "ExecuteTime": {
     "end_time": "2020-12-06T15:43:59.876897Z",
     "start_time": "2020-12-06T15:43:59.151348Z"
    },
    "id": "hqqMY5NQFVe-",
    "cellView": "form"
   },
   "source": [
    "trainX = [image/255.0 for image in trainX]\n",
    "testX = [image/255.0 for image in testX]\n",
    "\n",
    "trainX = np.reshape(trainX, (60000, 28, 28, 1))\n",
    "testX = np.reshape(testX, (10000, 28, 28, 1))\n",
    "\n",
    "print (trainX.shape, testX.shape, trainY.shape, testY.shape)"
   ],
   "execution_count": null,
   "outputs": []
  },
  {
   "cell_type": "markdown",
   "metadata": {
    "id": "kxFTsuaGFVe-"
   },
   "source": [
    "### **Generador**"
   ]
  },
  {
   "cell_type": "code",
   "metadata": {
    "ExecuteTime": {
     "end_time": "2020-12-06T15:44:00.969164Z",
     "start_time": "2020-12-06T15:44:00.906684Z"
    },
    "id": "SaVxAgAaFVe-"
   },
   "source": [
    "from keras.layers import Dense, BatchNormalization, Reshape, Activation, Flatten, Input, Dropout\n",
    "from keras.models import Model\n",
    "\n",
    "random_input = Input(shape = 50)\n",
    "\n",
    "x = Dense(1200, activation='relu')(random_input)\n",
    "x = BatchNormalization(momentum=0.8)(x)\n",
    "x = Dense(1000, activation='relu')(x)\n",
    "x = BatchNormalization(momentum=0.8)(x)\n",
    "x = Dense(28*28)(x)\n",
    "x = Reshape((28, 28, 1))(x)\n",
    "\n",
    "generated_image = Activation('sigmoid')(x)\n",
    "\n",
    "generator_network = Model(inputs=random_input, outputs=generated_image)\n",
    "generator_network.summary()"
   ],
   "execution_count": null,
   "outputs": []
  },
  {
   "cell_type": "markdown",
   "metadata": {
    "id": "CKXvIJKaFVe-"
   },
   "source": [
    "### **Discriminador**"
   ]
  },
  {
   "cell_type": "code",
   "metadata": {
    "ExecuteTime": {
     "end_time": "2020-12-06T15:44:02.117411Z",
     "start_time": "2020-12-06T15:44:02.082844Z"
    },
    "id": "Am8xrShkFVe-"
   },
   "source": [
    "image_input = Input(shape=(28, 28, 1))\n",
    "\n",
    "x = Flatten()(image_input)\n",
    "x = Dense(256, activation='relu')(x)\n",
    "x = Dropout(0.3)(x)\n",
    "x = Dense(128, activation='relu')(x)\n",
    "x = Dropout(0.5)(x)\n",
    "x = Dense(1)(x)\n",
    "\n",
    "real_vs_fake_output = Activation('sigmoid')(x)\n",
    "\n",
    "discriminator_network = Model(inputs=image_input, outputs=real_vs_fake_output)\n",
    "discriminator_network.summary()"
   ],
   "execution_count": null,
   "outputs": []
  },
  {
   "cell_type": "code",
   "metadata": {
    "ExecuteTime": {
     "end_time": "2020-12-06T15:44:02.498744Z",
     "start_time": "2020-12-06T15:44:02.483429Z"
    },
    "collapsed": true,
    "id": "tMc1CyNNFVe-"
   },
   "source": [
    "from tensorflow.keras.optimizers.legacy import Adam\n",
    "adam_optimizer = Adam(learning_rate=0.00005, beta_1=0.5)\n",
    "discriminator_network.compile(loss='binary_crossentropy', optimizer=adam_optimizer, metrics=['accuracy'])"
   ],
   "execution_count": null,
   "outputs": []
  },
  {
   "cell_type": "markdown",
   "metadata": {
    "id": "99IlAN3AFVe-"
   },
   "source": [
    "### Modelo combinando ambas redes"
   ]
  },
  {
   "cell_type": "code",
   "metadata": {
    "ExecuteTime": {
     "end_time": "2020-12-06T15:44:03.435171Z",
     "start_time": "2020-12-06T15:44:03.405423Z"
    },
    "id": "mjnxFr21FVe-"
   },
   "source": [
    "discriminator_network.trainable=False\n",
    "\n",
    "g_output = generator_network(random_input)\n",
    "d_output = discriminator_network(g_output)\n",
    "\n",
    "gan_model = tensorflow.keras.models.Model(random_input, d_output)\n",
    "gan_model.summary()"
   ],
   "execution_count": null,
   "outputs": []
  },
  {
   "cell_type": "code",
   "metadata": {
    "ExecuteTime": {
     "end_time": "2020-12-06T15:44:04.264651Z",
     "start_time": "2020-12-06T15:44:04.254338Z"
    },
    "collapsed": true,
    "id": "rPG_olwXFVe_"
   },
   "source": [
    "gan_model.compile(loss='binary_crossentropy', optimizer=adam_optimizer)"
   ],
   "execution_count": null,
   "outputs": []
  },
  {
   "cell_type": "markdown",
   "metadata": {
    "id": "5RpVWMO8FVe_"
   },
   "source": [
    "### Objetos para acceder a la data para el entrenamiento"
   ]
  },
  {
   "cell_type": "code",
   "metadata": {
    "ExecuteTime": {
     "end_time": "2020-12-06T15:44:04.963459Z",
     "start_time": "2020-12-06T15:44:04.947923Z"
    },
    "collapsed": true,
    "id": "pTSivi-dFVe_",
    "cellView": "form"
   },
   "source": [
    "indices = [i for i in range(len(trainX))]\n",
    "\n",
    "def get_random_noise(batch_size, noise_size):\n",
    "    random_values = np.random.randn(batch_size*noise_size)\n",
    "    random_noise_batch = np.reshape(random_values, (batch_size, noise_size))\n",
    "    return random_noise_batch\n",
    "\n",
    "def get_fake_samples(generator_network, batch_size, noise_size):\n",
    "    random_noise_batch = get_random_noise(batch_size, noise_size)\n",
    "    fake_samples = generator_network.predict_on_batch(random_noise_batch)\n",
    "    return fake_samples\n",
    "\n",
    "def get_real_samples(batch_size):\n",
    "    random_indices = np.random.choice(indices, size=batch_size)\n",
    "    real_images = trainX[np.array(random_indices),:]\n",
    "    return real_images\n",
    "\n",
    "def show_generator_results(generator_network):\n",
    "    for k in range(9):\n",
    "        plt.figure(figsize=(7, 7))\n",
    "        fake_samples = get_fake_samples(generator_network, 9, noise_size)\n",
    "        for j in range(9):\n",
    "            plt.subplot(990 + 1 + j)\n",
    "            plt.imshow(fake_samples[j,:,:,-1], cmap='gray_r')\n",
    "            plt.axis('off')\n",
    "        plt.show()\n",
    "    return"
   ],
   "execution_count": null,
   "outputs": []
  },
  {
   "cell_type": "markdown",
   "metadata": {
    "id": "fEOpY_BZFVe_"
   },
   "source": "### Entrenar el GAN"
  },
  {
   "cell_type": "code",
   "metadata": {
    "ExecuteTime": {
     "end_time": "2020-12-06T15:46:15.056781Z",
     "start_time": "2020-12-06T15:44:05.705964Z"
    },
    "id": "E_nihCaQFVe_",
    "scrolled": false,
    "cellView": "form"
   },
   "source": [
    "epochs = 20\n",
    "batch_size = 200\n",
    "steps =  500\n",
    "noise_size = 50\n",
    "print_every = 10\n",
    "\n",
    "losses_d = []\n",
    "losses_g = []\n",
    "\n",
    "for i in range(0, epochs):\n",
    "    if (i%print_every == 0):\n",
    "        show_generator_results(generator_network)\n",
    "    for j in range(steps):\n",
    "        fake_samples = get_fake_samples(generator_network, batch_size//2, noise_size)\n",
    "        real_samples = get_real_samples(batch_size=batch_size//2)\n",
    "\n",
    "        fake_y = np.zeros((batch_size//2, 1))\n",
    "        real_y = np.ones((batch_size//2, 1))\n",
    "\n",
    "        input_batch = np.vstack((fake_samples, real_samples))\n",
    "        output_labels = np.vstack((fake_y, real_y))\n",
    "\n",
    "        discriminator_network.trainable=True\n",
    "        loss_d = discriminator_network.train_on_batch(input_batch, output_labels)\n",
    "\n",
    "        gan_input = get_random_noise(batch_size, noise_size)\n",
    "        gan_output = np.ones((batch_size))\n",
    "\n",
    "        discriminator_network.trainable=False\n",
    "        loss_g = gan_model.train_on_batch(gan_input, gan_output)\n",
    "\n",
    "        losses_d.append(loss_d[0])\n",
    "        losses_g.append(loss_g)\n",
    "\n",
    "        if j%50 == 0:\n",
    "            print (\"Epoch:%.0f, Step:%.0f, D-Loss:%.3f, D-Acc:%.3f, G-Loss:%.3f\"%(i,j,loss_d[0],loss_d[1]*100,loss_g))"
   ],
   "execution_count": null,
   "outputs": []
  },
  {
   "cell_type": "markdown",
   "metadata": {
    "id": "uCKZ-PXLjyNk"
   },
   "source": "# Resultados"
  },
  {
   "cell_type": "code",
   "metadata": {
    "ExecuteTime": {
     "end_time": "2020-12-06T15:46:20.446288Z",
     "start_time": "2020-12-06T15:46:16.949557Z"
    },
    "id": "LizIvH-qFVe_"
   },
   "source": [
    "for i in range(5):\n",
    "    show_generator_results(generator_network)"
   ],
   "execution_count": null,
   "outputs": []
  },
  {
   "cell_type": "markdown",
   "metadata": {
    "id": "eQ2nL7BrjyNk"
   },
   "source": [
    "### Curvas de Aprendizaje"
   ]
  },
  {
   "cell_type": "code",
   "metadata": {
    "id": "OtkUT-YzKOFU",
    "cellView": "form"
   },
   "source": [
    "steps = [i for i in range(len(losses_d))]\n",
    "plt.figure(figsize=(10, 6))\n",
    "plt.plot(losses_d[:5000])\n",
    "plt.plot(losses_g[:5000])\n",
    "plt.xlabel('Steps')\n",
    "plt.ylabel('Loss Value')\n",
    "plt.title(\"GAN: Función de Pérdida\")\n",
    "plt.legend(['D-Loss', 'G-Loss'])\n",
    "plt.show()"
   ],
   "execution_count": null,
   "outputs": []
  }
 ]
}
